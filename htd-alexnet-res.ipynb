{
 "cells": [
  {
   "cell_type": "markdown",
   "id": "a1d3d2ac-3f5d-449d-851f-305f00686335",
   "metadata": {},
   "source": [
    "## Experiment\n",
    "- htd on alexnet "
   ]
  },
  {
   "cell_type": "code",
   "execution_count": 1,
   "id": "93857d92-bc9f-4532-93a1-6c34e0913e8b",
   "metadata": {},
   "outputs": [],
   "source": [
    "import sys \n",
    "\n",
    "EXP_DIR = \"/home/fmokadem/NAS/tdcnn/\"\n",
    "sys.path.append(EXP_DIR)"
   ]
  },
  {
   "cell_type": "code",
   "execution_count": 2,
   "id": "d3741a15-e1ba-4944-97fd-2a98b7b62ce0",
   "metadata": {},
   "outputs": [],
   "source": [
    "import os\n",
    "import sys\n",
    "import torch\n",
    "from torchvision import models\n",
    "import time\n",
    "import random\n",
    "import numpy as np\n",
    "import itertools\n",
    "import math\n",
    "import argparse\n",
    "from datetime import datetime\n",
    "import json\n",
    "import copy\n"
   ]
  },
  {
   "cell_type": "code",
   "execution_count": 3,
   "id": "5e4466e8-95ac-425e-9cac-a56e502a5718",
   "metadata": {},
   "outputs": [],
   "source": [
    "from common.dataset import load_mnist\n",
    "from common._logging import setup_logger\n",
    "from common.utils import (\n",
    "    count_parameters, \n",
    "    measure_inference_time, \n",
    "    calculate_accuracy, \n",
    "    get_flops, \n",
    "    get_conv2d_layers,\n",
    "    infer_rank, \n",
    "    calculate_layer_params,\n",
    "    replace_conv2d_with_tucker,\n",
    "    fine_tune\n",
    ")\n",
    "from common.load_models import load_model"
   ]
  },
  {
   "cell_type": "code",
   "execution_count": 4,
   "id": "cf3a1b6c-41f3-49c7-8956-f89d578ac0c0",
   "metadata": {},
   "outputs": [],
   "source": [
    "MODEL_NAME = 'alexnet'\n",
    "FINETUNE = True\n",
    "MAX_CFG = 250\n",
    "ACCU_RQT = .90"
   ]
  },
  {
   "cell_type": "code",
   "execution_count": 5,
   "id": "970a0ecf-89d9-4a87-ba02-060ad4595493",
   "metadata": {},
   "outputs": [],
   "source": [
    "MODEL_PATH = os.path.join(EXP_DIR, f'finetuned/saved_models/{MODEL_NAME}_mnist.pth')\n",
    "LOG_DIR = os.path.join(EXP_DIR, 'logs')\n",
    "LOG_PREFIX = 'htd_alexnet'"
   ]
  },
  {
   "cell_type": "code",
   "execution_count": 6,
   "id": "1e247114-c0a4-4336-beba-8c8313bfa166",
   "metadata": {},
   "outputs": [
    {
     "name": "stderr",
     "output_type": "stream",
     "text": [
      "2025-03-29 15:14:19,880 - MainProcess - INFO - Logging to /home/fmokadem/NAS/tdcnn/logs/htd_alexnet_20250329_151419.log\n",
      "2025-03-29 15:14:19,881 - MainProcess - INFO - Starting HTD experiment for alexnet\n"
     ]
    }
   ],
   "source": [
    "logger = setup_logger(LOG_PREFIX, LOG_DIR, LOG_PREFIX)\n",
    "logger.info(f\"Starting HTD experiment for {MODEL_NAME}\")\n",
    "timestamp = datetime.now().strftime('%Y%m%d_%H%M%S')"
   ]
  },
  {
   "cell_type": "code",
   "execution_count": 7,
   "id": "dad31f0a-d456-4517-b6e1-763e3c682ff7",
   "metadata": {},
   "outputs": [
    {
     "name": "stderr",
     "output_type": "stream",
     "text": [
      "2025-03-29 15:14:21,036 - MainProcess - INFO - Using device: cuda:0\n"
     ]
    }
   ],
   "source": [
    "# use gpu 0 only\n",
    "device_idx = 0\n",
    "\n",
    "if torch.cuda.is_available():\n",
    "    torch.cuda.set_device(device_idx)\n",
    "    device = f'cuda:{device_idx}'\n",
    "else:\n",
    "    device = \"cpu\"\n",
    "\n",
    "logger.info(f\"Using device: {device}\")"
   ]
  },
  {
   "cell_type": "code",
   "execution_count": 8,
   "id": "6c051af6-9518-4d56-8ad1-d7a34f68dc10",
   "metadata": {},
   "outputs": [
    {
     "name": "stderr",
     "output_type": "stream",
     "text": [
      "2025-03-29 15:14:22,471 - MainProcess - INFO - MNIST loaded: 60000 train, 10000 test samples\n",
      "/home/fmokadem/NAS/tdcnn/common/load_models.py:30: FutureWarning: You are using `torch.load` with `weights_only=False` (the current default value), which uses the default pickle module implicitly. It is possible to construct malicious pickle data which will execute arbitrary code during unpickling (See https://github.com/pytorch/pytorch/blob/main/SECURITY.md#untrusted-models for more details). In a future release, the default value for `weights_only` will be flipped to `True`. This limits the functions that could be executed during unpickling. Arbitrary objects will no longer be allowed to be loaded via this mode unless they are explicitly allowlisted by the user via `torch.serialization.add_safe_globals`. We recommend you start setting `weights_only=True` for any use case where you don't have full control of the loaded file. Please open an issue on GitHub for any issues related to this experimental feature.\n",
      "  saved_model = torch.load(model_path, map_location=device)\n",
      "2025-03-29 15:14:23,068 - MainProcess - INFO - Loaded alexnet from /home/fmokadem/NAS/tdcnn/finetuned/saved_models/alexnet_mnist.pth\n"
     ]
    }
   ],
   "source": [
    "# Load dataset\n",
    "train_loader, test_loader = load_mnist()\n",
    "logger.info(f\"MNIST loaded: {len(train_loader.dataset)} train, {len(test_loader.dataset)} test samples\")\n",
    "\n",
    "# Load model\n",
    "model = load_model(MODEL_NAME, MODEL_PATH, device)\n",
    "logger.info(f\"Loaded {MODEL_NAME} from {MODEL_PATH}\")"
   ]
  },
  {
   "cell_type": "code",
   "execution_count": 10,
   "id": "0d58c92b-5c2c-468e-86f0-513cfb10487e",
   "metadata": {},
   "outputs": [
    {
     "data": {
      "text/plain": [
       "Dataset MNIST\n",
       "    Number of datapoints: 60000\n",
       "    Root location: ./data\n",
       "    Split: Train\n",
       "    StandardTransform\n",
       "Transform: Compose(\n",
       "               Grayscale(num_output_channels=3)\n",
       "               Resize(size=(224, 224), interpolation=bilinear, max_size=None, antialias=True)\n",
       "               ToTensor()\n",
       "               Normalize(mean=[0.485, 0.456, 0.406], std=[0.229, 0.224, 0.225])\n",
       "           )"
      ]
     },
     "execution_count": 10,
     "metadata": {},
     "output_type": "execute_result"
    }
   ],
   "source": [
    "train_loader.dataset"
   ]
  },
  {
   "cell_type": "code",
   "execution_count": 11,
   "id": "6b020e5d-9424-4990-b589-c05aa99042c0",
   "metadata": {},
   "outputs": [
    {
     "name": "stdout",
     "output_type": "stream",
     "text": [
      "----------------------------------------------------------------\n",
      "        Layer (type)               Output Shape         Param #\n",
      "================================================================\n",
      "            Conv2d-1           [-1, 64, 60, 60]          23,296\n",
      "              ReLU-2           [-1, 64, 60, 60]               0\n",
      "         MaxPool2d-3           [-1, 64, 29, 29]               0\n",
      "            Conv2d-4          [-1, 192, 29, 29]         307,392\n",
      "              ReLU-5          [-1, 192, 29, 29]               0\n",
      "         MaxPool2d-6          [-1, 192, 14, 14]               0\n",
      "            Conv2d-7          [-1, 384, 14, 14]         663,936\n",
      "              ReLU-8          [-1, 384, 14, 14]               0\n",
      "            Conv2d-9          [-1, 256, 14, 14]         884,992\n",
      "             ReLU-10          [-1, 256, 14, 14]               0\n",
      "           Conv2d-11          [-1, 256, 14, 14]         590,080\n",
      "             ReLU-12          [-1, 256, 14, 14]               0\n",
      "        MaxPool2d-13            [-1, 256, 6, 6]               0\n",
      "AdaptiveAvgPool2d-14            [-1, 256, 6, 6]               0\n",
      "          Dropout-15                 [-1, 9216]               0\n",
      "           Linear-16                 [-1, 4096]      37,752,832\n",
      "             ReLU-17                 [-1, 4096]               0\n",
      "          Dropout-18                 [-1, 4096]               0\n",
      "           Linear-19                 [-1, 4096]      16,781,312\n",
      "             ReLU-20                 [-1, 4096]               0\n",
      "           Linear-21                   [-1, 10]          40,970\n",
      "================================================================\n",
      "Total params: 57,044,810\n",
      "Trainable params: 57,044,810\n",
      "Non-trainable params: 0\n",
      "----------------------------------------------------------------\n",
      "Input size (MB): 0.68\n",
      "Forward/backward pass size (MB): 9.72\n",
      "Params size (MB): 217.61\n",
      "Estimated Total Size (MB): 228.01\n",
      "----------------------------------------------------------------\n"
     ]
    }
   ],
   "source": [
    "from torchsummary import summary\n",
    "summary(model, (3, 244, 244))"
   ]
  },
  {
   "cell_type": "code",
   "execution_count": 12,
   "id": "fc50a506-356d-4e8d-abf9-4e23b6e7ca71",
   "metadata": {},
   "outputs": [
    {
     "name": "stderr",
     "output_type": "stream",
     "text": [
      "2025-03-29 15:15:01,078 - MainProcess - INFO - Found 5 Conv2D layers in alexnet\n"
     ]
    },
    {
     "data": {
      "text/plain": [
       "{'features.0': Conv2d(3, 64, kernel_size=(11, 11), stride=(4, 4), padding=(2, 2)),\n",
       " 'features.3': Conv2d(64, 192, kernel_size=(5, 5), stride=(1, 1), padding=(2, 2)),\n",
       " 'features.6': Conv2d(192, 384, kernel_size=(3, 3), stride=(1, 1), padding=(1, 1)),\n",
       " 'features.8': Conv2d(384, 256, kernel_size=(3, 3), stride=(1, 1), padding=(1, 1)),\n",
       " 'features.10': Conv2d(256, 256, kernel_size=(3, 3), stride=(1, 1), padding=(1, 1))}"
      ]
     },
     "execution_count": 12,
     "metadata": {},
     "output_type": "execute_result"
    }
   ],
   "source": [
    "# Extract Conv2D layers\n",
    "conv_layers = get_conv2d_layers(model)\n",
    "logger.info(f\"Found {len(conv_layers)} Conv2D layers in {MODEL_NAME}\")\n",
    "conv_layers"
   ]
  },
  {
   "cell_type": "code",
   "execution_count": 13,
   "id": "db6ca7c6-4dc5-4fe6-8f06-859c006c6a57",
   "metadata": {},
   "outputs": [
    {
     "name": "stderr",
     "output_type": "stream",
     "text": [
      "2025-03-29 15:15:02,534 - MainProcess - INFO - Layer features.0: initial rank R_i = 3, parameters = 23232\n",
      "2025-03-29 15:15:02,535 - MainProcess - INFO - Layer features.3: initial rank R_i = 64, parameters = 307200\n",
      "2025-03-29 15:15:02,536 - MainProcess - INFO - Layer features.6: initial rank R_i = 192, parameters = 663552\n",
      "2025-03-29 15:15:02,537 - MainProcess - INFO - Layer features.8: initial rank R_i = 256, parameters = 884736\n",
      "2025-03-29 15:15:02,538 - MainProcess - INFO - Layer features.10: initial rank R_i = 256, parameters = 589824\n"
     ]
    }
   ],
   "source": [
    "# Initialize layer information\n",
    "# Conv2 layers in Pytorch are (Cin, Cout, ks, ks), i.e. a 4D tensor with rank 4, called modes 0 to 3\n",
    "# we are interested in low rank approximating of modes 0 and 1, i.e. compressing the information in  the channels\n",
    "# each mode is almost always full rank, i.e. of rank == size\n",
    "# therefore for the pupose of this exp rank of a layer is the min(Cin, Cout) \n",
    "\n",
    "\n",
    "# TODO: complexity ranks in decreasing order layers that are closest to the middle.  \n",
    "layer_info = {}\n",
    "for name, layer in conv_layers.items():\n",
    "    r_i = infer_rank(layer)\n",
    "    layer_info[name] = {\n",
    "        'layer': layer,\n",
    "        'r_i': r_i,\n",
    "        'params': calculate_layer_params(layer),\n",
    "        'complexity': None\n",
    "    }\n",
    "    logger.info(f\"Layer {name}: initial rank R_i = {r_i}, parameters = {layer_info[name]['params']}\")"
   ]
  },
  {
   "cell_type": "code",
   "execution_count": 14,
   "id": "2242b8e0-52ea-43f2-84b5-8e9ad7b2dae3",
   "metadata": {},
   "outputs": [
    {
     "data": {
      "text/plain": [
       "{'features.0': {'layer': Conv2d(3, 64, kernel_size=(11, 11), stride=(4, 4), padding=(2, 2)),\n",
       "  'r_i': 3,\n",
       "  'params': 23232,\n",
       "  'complexity': None},\n",
       " 'features.3': {'layer': Conv2d(64, 192, kernel_size=(5, 5), stride=(1, 1), padding=(2, 2)),\n",
       "  'r_i': 64,\n",
       "  'params': 307200,\n",
       "  'complexity': None},\n",
       " 'features.6': {'layer': Conv2d(192, 384, kernel_size=(3, 3), stride=(1, 1), padding=(1, 1)),\n",
       "  'r_i': 192,\n",
       "  'params': 663552,\n",
       "  'complexity': None},\n",
       " 'features.8': {'layer': Conv2d(384, 256, kernel_size=(3, 3), stride=(1, 1), padding=(1, 1)),\n",
       "  'r_i': 256,\n",
       "  'params': 884736,\n",
       "  'complexity': None},\n",
       " 'features.10': {'layer': Conv2d(256, 256, kernel_size=(3, 3), stride=(1, 1), padding=(1, 1)),\n",
       "  'r_i': 256,\n",
       "  'params': 589824,\n",
       "  'complexity': None}}"
      ]
     },
     "execution_count": 14,
     "metadata": {},
     "output_type": "execute_result"
    }
   ],
   "source": [
    "layer_info"
   ]
  },
  {
   "cell_type": "code",
   "execution_count": 15,
   "id": "58d648df-fefc-48fc-8972-67241818c1f6",
   "metadata": {},
   "outputs": [
    {
     "name": "stderr",
     "output_type": "stream",
     "text": [
      "2025-03-29 15:15:59,238 - MainProcess - INFO - Baseline alexnet: params=57044810, FLOPs=712385098, accuracy=0.9952, inference_time=0.0683s\n"
     ]
    }
   ],
   "source": [
    "# Compute baseline metrics\n",
    "baseline_params = count_parameters(model)\n",
    "baseline_flops = get_flops(model)\n",
    "baseline_accuracy = calculate_accuracy(model, test_loader, device)\n",
    "baseline_inference_time = measure_inference_time(model, test_loader, device, num_runs=3)\n",
    "\n",
    "logger.info(f\"Baseline {MODEL_NAME}: params={baseline_params}, \"\n",
    "            f\"FLOPs={baseline_flops}, accuracy={baseline_accuracy:.4f}, \"\n",
    "            f\"inference_time={baseline_inference_time:.4f}s\")\n",
    "\n",
    "# Timestamp for unique file naming\n",
    "timestamp = time.strftime(\"%Y%m%d_%H%M%S\")"
   ]
  },
  {
   "cell_type": "code",
   "execution_count": 16,
   "id": "78b8799e-b51c-493e-88ae-a96c3ea13517",
   "metadata": {
    "scrolled": true
   },
   "outputs": [
    {
     "name": "stderr",
     "output_type": "stream",
     "text": [
      "2025-03-29 15:16:08,075 - MainProcess - INFO - Total possible configurations: 1564891650, will try: 250\n"
     ]
    }
   ],
   "source": [
    "# Generate possible ranks per layer, that is 1 up to it's rank - 1 \n",
    "# if layer is of rank 1, then possible ranks are just 1\n",
    "possible_ranks = {}\n",
    "for name, info in layer_info.items():\n",
    "    r_i = info['r_i']\n",
    "    ranks = [1] + list(range(2, r_i)) \n",
    "    possible_ranks[name] = ranks\n",
    "\n",
    "total_possible_configs = np.prod([max(1, layer_info[name]['r_i'] - 1) for name in layer_info.keys()])\n",
    "num_configs_to_try = min(total_possible_configs, MAX_CFG)\n",
    "logger.info(f\"Total possible configurations: {total_possible_configs}, will try: {num_configs_to_try}\")"
   ]
  },
  {
   "cell_type": "code",
   "execution_count": 17,
   "id": "a9262c9c-1d58-4e50-b60e-ab2ee9f7b8b6",
   "metadata": {},
   "outputs": [],
   "source": [
    "from torch import nn\n",
    "def construct_layer_dict(model):\n",
    "    layer_dict = {}\n",
    "    for name, module in model.named_modules():\n",
    "        if isinstance(module, nn.Conv2d):\n",
    "            W = module.weight.data\n",
    "            cin = module.in_channels\n",
    "            cout = module.out_channels\n",
    "            layer_dict[name] = (W, cin, cout)\n",
    "    return layer_dict\n",
    "\n",
    "layer_dict = construct_layer_dict(model)"
   ]
  },
  {
   "cell_type": "code",
   "execution_count": 18,
   "id": "369c2b8a-708f-4fcb-b449-1e426a6c7b5b",
   "metadata": {},
   "outputs": [],
   "source": [
    "from tensorly.decomposition import partial_tucker\n",
    "import tensorly as tl    \n",
    "from tensorly.tucker_tensor import tucker_to_tensor\n",
    "from tensorly.metrics.regression import MSE\n",
    "\n",
    "tl.set_backend('pytorch')\n",
    "\n",
    "# Heuristic: layers with bigger cin*cout more suseptible to lower ranks \n",
    "def get_size_based_probs(cin, cout, rank_candidates, beta=1.0):\n",
    "    size = cin * cout\n",
    "    preference = np.log(size + 1)  # +1 to avoid log(0), though unlikely\n",
    "    scores = [-beta * r / preference for r in rank_candidates]\n",
    "    probs = np.exp(scores) / np.sum(np.exp(scores))\n",
    "    return probs\n",
    "\n",
    "# Heuristic: Layers with higher reconstruction erros are less suseptible to low ranks \n",
    "def compute_sensitivity(W, cin, cout):\n",
    "    rank = [max(1, cout // 2), max(1, cin // 2)]\n",
    "    (core, factors) = partial_tucker(W, modes=[0, 1], rank=rank, init='svd')\n",
    "       \n",
    "    reconstructed_W = tucker_to_tensor(core, factors)\n",
    "    return MSE(W, reconstructed_W) \n",
    "\n",
    "# Precompute sensitivity for all layers\n",
    "def precompute_sensitivities(layer_dict):\n",
    "    sensitivities = {}\n",
    "    for name, (W, cin, cout) in layer_dict.items():\n",
    "        sensitivities[name] = compute_sensitivity(W, cin, cout).to('cpu')\n",
    "    # Normalize sensitivities to [0, 1]\n",
    "    max_error = max(list(sensitivities.values()))\n",
    "    if max_error > 0:  # Avoid division by zero\n",
    "        sensitivities = {name: err / max_error for name, err in sensitivities.items()}\n",
    "    return sensitivities\n",
    "    \n",
    "def get_sensitivity_probs(sensitivity, rank_candidates, alpha=1.0):\n",
    "    max_rank = max(rank_candidates)\n",
    "    scores = [(r / max_rank) ** (alpha * sensitivity) for r in rank_candidates]\n",
    "    probs = scores / np.sum(scores)\n",
    "    return probs\n",
    "\n",
    "def get_rank_candidates(channels, r=(75, 45, -5)):\n",
    "    s, f, stride = r\n",
    "    percentages = np.arange(s, f, stride) / 100\n",
    "    candidates = set([max(1, int(channels * p)) for p in percentages])\n",
    "    return candidates"
   ]
  },
  {
   "cell_type": "code",
   "execution_count": 19,
   "id": "aae2233f-bc9c-4206-b4b2-f889c1217634",
   "metadata": {},
   "outputs": [],
   "source": [
    "# Generator function to yield num_cfg configurations\n",
    "def generate_configs(layer_dict, num_cfg):\n",
    "    # Precompute rank candidates for each layer\n",
    "    rank_candidates = {}\n",
    "    for name, (W, cin, cout) in layer_dict.items():\n",
    "        cin_candidates = get_rank_candidates(cin)  \n",
    "        cout_candidates = get_rank_candidates(cout)  \n",
    "        \n",
    "        rank_pairs = list(itertools.product(cin_candidates, cout_candidates))\n",
    "        # we sort to keep higher ranks on top of the search \n",
    "        # no heuristic, budget num_cfg accross all layers equally \n",
    "        # num_cfg / len(layer_dict.keys) searches per layer\n",
    "        spl = int(num_cfg ** (1 / len(layer_dict.keys())))\n",
    "        rank_candidates[name] = sorted(rank_pairs, key=lambda x: (-x[0], -x[1]))[:spl]\n",
    "    \n",
    "    # Yield exactly num_cfg random configurations\n",
    "    for config in itertools.product(*rank_candidates.values()):\n",
    "        yield dict(zip(layer_dict.keys(), config))"
   ]
  },
  {
   "cell_type": "code",
   "execution_count": 20,
   "id": "0541106f-2a5f-4fe7-8315-abacb437666d",
   "metadata": {},
   "outputs": [],
   "source": [
    "def duplicate_model(model):\n",
    "    # Check if the model name is valid\n",
    "    model_name = MODEL_NAME\n",
    "    \n",
    "    if model_name == 'vgg':\n",
    "        model_cp = models.vgg16(weights=None)\n",
    "        model_cp.classifier[6] = nn.Linear(4096, 10)\n",
    "        \n",
    "    elif model_name == 'alexnet':\n",
    "        model_cp = models.alexnet(weights=None)\n",
    "        model_cp.classifier[6] = nn.Linear(4096, 10)\n",
    "        \n",
    "    elif model_name == 'resnet':\n",
    "        model_cp = models.resnet18(weights=None)\n",
    "        model_cp.fc = nn.Linear(512, 10)\n",
    "\n",
    "    model_cp.load_state_dict(model.state_dict())   \n",
    "    return model_cp"
   ]
  },
  {
   "cell_type": "code",
   "execution_count": 21,
   "id": "9d17c199-9b50-421b-862b-9500191a4cb7",
   "metadata": {},
   "outputs": [
    {
     "data": {
      "text/plain": [
       "{'features.0': (2, 48),\n",
       " 'features.3': (48, 144),\n",
       " 'features.6': (144, 288),\n",
       " 'features.8': (288, 192),\n",
       " 'features.10': (192, 192)}"
      ]
     },
     "execution_count": 21,
     "metadata": {},
     "output_type": "execute_result"
    }
   ],
   "source": [
    "configs = generate_configs(layer_dict, MAX_CFG)\n",
    "next(configs)"
   ]
  },
  {
   "cell_type": "code",
   "execution_count": 22,
   "id": "f3024b5c-1628-4d25-a3e1-a04c2d947b0a",
   "metadata": {},
   "outputs": [],
   "source": [
    "def process_config(config, device_idx):\n",
    "    try:        \n",
    "        # Explicitly create a new scope to help with garbage collection\n",
    "        with torch.enable_grad():\n",
    "\n",
    "            config_str = \", \".join([f\"{k}:{v}\" for k, v in config.items()])\n",
    "            logger.info(f\"Compressing to:{config_str}\")\n",
    "            \n",
    "            # Apply the configuration\n",
    "            model.to('cpu')\n",
    "            compressed_model = duplicate_model(model)\n",
    "            compressed_model.to(device)\n",
    "\n",
    "            for name, rank in config.items():\n",
    "                layer = layer_info[name]['layer']\n",
    "                compressed_model = replace_conv2d_with_tucker(compressed_model, name, layer, rank)\n",
    "\n",
    "            # verify compressed model is still on gpu\n",
    "            compressed_model.to(device)\n",
    "\n",
    "            # Finetune for 3 epochs \n",
    "            if FINETUNE: \n",
    "                logger.info(f\"finetuning:{config_str}\")\n",
    "                compressed_model = fine_tune(compressed_model, train_loader, device, epochs=3, lr=0.001)\n",
    "                \n",
    "            # Evaluate the model\n",
    "            accuracy = calculate_accuracy(compressed_model, test_loader, device)\n",
    "            params = count_parameters(compressed_model)\n",
    "            flops = get_flops(compressed_model)\n",
    "            inference_time = measure_inference_time(compressed_model, test_loader, device, num_runs=3)\n",
    "            compression_rate = baseline_params / params if params > 0 else float('inf')\n",
    "            \n",
    "            result = {\n",
    "                'config_str': config_str,\n",
    "                'params': params,\n",
    "                'flops': flops,\n",
    "                'accuracy': accuracy,\n",
    "                'inference_time': inference_time,\n",
    "                'compression_rate': compression_rate,\n",
    "                'accepted': True if accuracy >= acceptance_threshold else False\n",
    "            }\n",
    "            result_str = json.dumps(result, indent=4, default=str)\n",
    "            logger.info(f\"compressed_model:\\n{result_str}\")\n",
    "\n",
    "            return result\n",
    "    \n",
    "    except Exception as e:\n",
    "        logger.error(f\"Error processing config: {config}. Error: {str(e)}\")\n",
    "        return None\n",
    "    \n",
    "    finally:\n",
    "        # Explicit cleanup\n",
    "        if 'compressed_model' in locals():\n",
    "            del compressed_model\n",
    "        \n",
    "        # Clear CUDA cache\n",
    "        if torch.cuda.is_available():\n",
    "            torch.cuda.empty_cache()"
   ]
  },
  {
   "cell_type": "code",
   "execution_count": 23,
   "id": "4777eedf-946d-424e-95e2-267f377bdcd2",
   "metadata": {},
   "outputs": [
    {
     "name": "stderr",
     "output_type": "stream",
     "text": [
      "2025-03-29 15:26:28,829 - MainProcess - INFO - Compressing to:features.0:(2, 48), features.3:(48, 144), features.6:(144, 288), features.8:(288, 192), features.10:(192, 192)\n",
      "2025-03-29 15:26:28,830 - MainProcess - INFO - Compressing to:features.0:(2, 48), features.3:(48, 144), features.6:(144, 288), features.8:(288, 192), features.10:(192, 179)\n",
      "2025-03-29 15:26:28,831 - MainProcess - INFO - Compressing to:features.0:(2, 48), features.3:(48, 144), features.6:(144, 288), features.8:(288, 192), features.10:(192, 166)\n",
      "2025-03-29 15:26:28,832 - MainProcess - INFO - Compressing to:features.0:(2, 48), features.3:(48, 144), features.6:(144, 288), features.8:(288, 179), features.10:(192, 192)\n",
      "2025-03-29 15:26:36,985 - MainProcess - INFO - finetuning:features.0:(2, 48), features.3:(48, 144), features.6:(144, 288), features.8:(288, 179), features.10:(192, 192)\n",
      "2025-03-29 15:26:37,122 - MainProcess - INFO - finetuning:features.0:(2, 48), features.3:(48, 144), features.6:(144, 288), features.8:(288, 192), features.10:(192, 166)\n",
      "2025-03-29 15:26:37,240 - MainProcess - INFO - finetuning:features.0:(2, 48), features.3:(48, 144), features.6:(144, 288), features.8:(288, 192), features.10:(192, 179)\n",
      "2025-03-29 15:26:37,475 - MainProcess - INFO - finetuning:features.0:(2, 48), features.3:(48, 144), features.6:(144, 288), features.8:(288, 192), features.10:(192, 192)\n"
     ]
    },
    {
     "name": "stdout",
     "output_type": "stream",
     "text": [
      "Epoch 1/3, Loss: 0.3240\n",
      "Epoch 1/3, Loss: 0.3190\n",
      "Epoch 1/3, Loss: 0.3190\n",
      "Epoch 1/3, Loss: 0.3226\n",
      "Epoch 2/3, Loss: 0.0550\n",
      "Epoch 2/3, Loss: 0.0522\n",
      "Epoch 2/3, Loss: 0.0525\n",
      "Epoch 2/3, Loss: 0.0521\n",
      "Epoch 3/3, Loss: 0.0393\n",
      "Epoch 3/3, Loss: 0.0386\n",
      "Epoch 3/3, Loss: 0.0411\n",
      "Epoch 3/3, Loss: 0.0400\n"
     ]
    },
    {
     "name": "stderr",
     "output_type": "stream",
     "text": [
      "2025-03-29 15:37:33,150 - MainProcess - INFO - compressed_model:\n",
      "{\n",
      "    \"config_str\": \"features.0:(2, 48), features.3:(48, 144), features.6:(144, 288), features.8:(288, 179), features.10:(192, 192)\",\n",
      "    \"params\": 55985001,\n",
      "    \"flops\": 404517440,\n",
      "    \"accuracy\": 0.9893,\n",
      "    \"inference_time\": 0.2003718105850706,\n",
      "    \"compression_rate\": 1.0189302309738282,\n",
      "    \"accepted\": true\n",
      "}\n",
      "2025-03-29 15:37:33,172 - MainProcess - INFO - Compressing to:features.0:(2, 48), features.3:(48, 144), features.6:(144, 288), features.8:(288, 179), features.10:(192, 179)\n",
      "2025-03-29 15:37:33,623 - MainProcess - INFO - compressed_model:\n",
      "{\n",
      "    \"config_str\": \"features.0:(2, 48), features.3:(48, 144), features.6:(144, 288), features.8:(288, 192), features.10:(192, 179)\",\n",
      "    \"params\": 55994153,\n",
      "    \"flops\": 349793280,\n",
      "    \"accuracy\": 0.9879,\n",
      "    \"inference_time\": 0.20037696619701995,\n",
      "    \"compression_rate\": 1.0187636912732656,\n",
      "    \"accepted\": true\n",
      "}\n",
      "2025-03-29 15:37:33,627 - MainProcess - INFO - Compressing to:features.0:(2, 48), features.3:(48, 144), features.6:(144, 288), features.8:(288, 179), features.10:(192, 166)\n",
      "2025-03-29 15:37:39,402 - MainProcess - INFO - finetuning:features.0:(2, 48), features.3:(48, 144), features.6:(144, 288), features.8:(288, 179), features.10:(192, 179)\n",
      "2025-03-29 15:37:39,840 - MainProcess - INFO - finetuning:features.0:(2, 48), features.3:(48, 144), features.6:(144, 288), features.8:(288, 179), features.10:(192, 166)\n",
      "2025-03-29 15:37:41,843 - MainProcess - INFO - compressed_model:\n",
      "{\n",
      "    \"config_str\": \"features.0:(2, 48), features.3:(48, 144), features.6:(144, 288), features.8:(288, 192), features.10:(192, 166)\",\n",
      "    \"params\": 55968361,\n",
      "    \"flops\": 345434432,\n",
      "    \"accuracy\": 0.9882,\n",
      "    \"inference_time\": 0.19782994405985385,\n",
      "    \"compression_rate\": 1.0192331699690116,\n",
      "    \"accepted\": true\n",
      "}\n",
      "2025-03-29 15:37:41,859 - MainProcess - INFO - Compressing to:features.0:(2, 48), features.3:(48, 144), features.6:(144, 288), features.8:(288, 166), features.10:(192, 192)\n",
      "2025-03-29 15:37:47,733 - MainProcess - INFO - finetuning:features.0:(2, 48), features.3:(48, 144), features.6:(144, 288), features.8:(288, 166), features.10:(192, 192)\n",
      "2025-03-29 15:37:56,857 - MainProcess - INFO - compressed_model:\n",
      "{\n",
      "    \"config_str\": \"features.0:(2, 48), features.3:(48, 144), features.6:(144, 288), features.8:(288, 192), features.10:(192, 192)\",\n",
      "    \"params\": 56019945,\n",
      "    \"flops\": 354152128,\n",
      "    \"accuracy\": 0.9893,\n",
      "    \"inference_time\": 0.20096588134765625,\n",
      "    \"compression_rate\": 1.0182946448804975,\n",
      "    \"accepted\": true\n",
      "}\n",
      "2025-03-29 15:37:56,870 - MainProcess - INFO - Compressing to:features.0:(2, 48), features.3:(48, 144), features.6:(144, 288), features.8:(288, 166), features.10:(192, 179)\n",
      "2025-03-29 15:38:02,776 - MainProcess - INFO - finetuning:features.0:(2, 48), features.3:(48, 144), features.6:(144, 288), features.8:(288, 166), features.10:(192, 179)\n"
     ]
    },
    {
     "name": "stdout",
     "output_type": "stream",
     "text": [
      "Epoch 1/3, Loss: 0.3255\n",
      "Epoch 1/3, Loss: 0.3316\n",
      "Epoch 1/3, Loss: 0.3166\n",
      "Epoch 1/3, Loss: 0.3213\n",
      "Epoch 2/3, Loss: 0.0537\n",
      "Epoch 2/3, Loss: 0.0541\n",
      "Epoch 2/3, Loss: 0.0526\n",
      "Epoch 2/3, Loss: 0.0538\n",
      "Epoch 3/3, Loss: 0.0393\n",
      "Epoch 3/3, Loss: 0.0398\n",
      "Epoch 3/3, Loss: 0.0395\n",
      "Epoch 3/3, Loss: 0.0393\n"
     ]
    },
    {
     "name": "stderr",
     "output_type": "stream",
     "text": [
      "2025-03-29 15:48:34,399 - MainProcess - INFO - compressed_model:\n",
      "{\n",
      "    \"config_str\": \"features.0:(2, 48), features.3:(48, 144), features.6:(144, 288), features.8:(288, 179), features.10:(192, 179)\",\n",
      "    \"params\": 55959209,\n",
      "    \"flops\": 343887744,\n",
      "    \"accuracy\": 0.9897,\n",
      "    \"inference_time\": 0.17473302626559184,\n",
      "    \"compression_rate\": 1.0193998632110757,\n",
      "    \"accepted\": true\n",
      "}\n",
      "2025-03-29 15:48:34,414 - MainProcess - INFO - Compressing to:features.0:(2, 48), features.3:(48, 144), features.6:(144, 288), features.8:(288, 166), features.10:(192, 166)\n",
      "2025-03-29 15:48:37,465 - MainProcess - INFO - compressed_model:\n",
      "{\n",
      "    \"config_str\": \"features.0:(2, 48), features.3:(48, 144), features.6:(144, 288), features.8:(288, 179), features.10:(192, 166)\",\n",
      "    \"params\": 55933417,\n",
      "    \"flops\": 339528896,\n",
      "    \"accuracy\": 0.9892,\n",
      "    \"inference_time\": 0.17589700348564521,\n",
      "    \"compression_rate\": 1.0198699285616681,\n",
      "    \"accepted\": true\n",
      "}\n",
      "2025-03-29 15:48:37,468 - MainProcess - INFO - Compressing to:features.0:(2, 48), features.3:(48, 144), features.6:(144, 268), features.8:(288, 192), features.10:(192, 192)\n",
      "2025-03-29 15:48:39,319 - MainProcess - INFO - finetuning:features.0:(2, 48), features.3:(48, 144), features.6:(144, 288), features.8:(288, 166), features.10:(192, 166)\n",
      "2025-03-29 15:48:42,939 - MainProcess - INFO - finetuning:features.0:(2, 48), features.3:(48, 144), features.6:(144, 268), features.8:(288, 192), features.10:(192, 192)\n",
      "2025-03-29 15:48:49,504 - MainProcess - INFO - compressed_model:\n",
      "{\n",
      "    \"config_str\": \"features.0:(2, 48), features.3:(48, 144), features.6:(144, 288), features.8:(288, 166), features.10:(192, 192)\",\n",
      "    \"params\": 55950057,\n",
      "    \"flops\": 342341056,\n",
      "    \"accuracy\": 0.9898,\n",
      "    \"inference_time\": 0.17428079329731608,\n",
      "    \"compression_rate\": 1.019566610986652,\n",
      "    \"accepted\": true\n",
      "}\n",
      "2025-03-29 15:48:49,515 - MainProcess - INFO - Compressing to:features.0:(2, 48), features.3:(48, 144), features.6:(144, 268), features.8:(288, 192), features.10:(192, 179)\n",
      "2025-03-29 15:48:57,247 - MainProcess - INFO - finetuning:features.0:(2, 48), features.3:(48, 144), features.6:(144, 268), features.8:(288, 192), features.10:(192, 179)\n",
      "2025-03-29 15:49:27,369 - MainProcess - INFO - compressed_model:\n",
      "{\n",
      "    \"config_str\": \"features.0:(2, 48), features.3:(48, 144), features.6:(144, 288), features.8:(288, 166), features.10:(192, 179)\",\n",
      "    \"params\": 55924265,\n",
      "    \"flops\": 387601152,\n",
      "    \"accuracy\": 0.9896,\n",
      "    \"inference_time\": 0.18709340672584096,\n",
      "    \"compression_rate\": 1.020036830166655,\n",
      "    \"accepted\": true\n",
      "}\n",
      "2025-03-29 15:49:27,379 - MainProcess - INFO - Compressing to:features.0:(2, 48), features.3:(48, 144), features.6:(144, 268), features.8:(288, 192), features.10:(192, 166)\n",
      "2025-03-29 15:49:32,356 - MainProcess - INFO - finetuning:features.0:(2, 48), features.3:(48, 144), features.6:(144, 268), features.8:(288, 192), features.10:(192, 166)\n"
     ]
    },
    {
     "name": "stdout",
     "output_type": "stream",
     "text": [
      "Epoch 1/3, Loss: 0.3242\n",
      "Epoch 1/3, Loss: 0.3157\n",
      "Epoch 1/3, Loss: 0.3262\n",
      "Epoch 1/3, Loss: 0.3226\n",
      "Epoch 2/3, Loss: 0.0530\n",
      "Epoch 2/3, Loss: 0.0537\n",
      "Epoch 2/3, Loss: 0.0526\n",
      "Epoch 2/3, Loss: 0.0551\n",
      "Epoch 3/3, Loss: 0.0395\n",
      "Epoch 3/3, Loss: 0.0381\n",
      "Epoch 3/3, Loss: 0.0402\n",
      "Epoch 3/3, Loss: 0.0390\n"
     ]
    },
    {
     "name": "stderr",
     "output_type": "stream",
     "text": [
      "2025-03-29 15:58:47,640 - MainProcess - INFO - compressed_model:\n",
      "{\n",
      "    \"config_str\": \"features.0:(2, 48), features.3:(48, 144), features.6:(144, 288), features.8:(288, 166), features.10:(192, 166)\",\n",
      "    \"params\": 55898473,\n",
      "    \"flops\": 333623360,\n",
      "    \"accuracy\": 0.9906,\n",
      "    \"inference_time\": 0.1705096041320995,\n",
      "    \"compression_rate\": 1.0205074832723964,\n",
      "    \"accepted\": true\n",
      "}\n",
      "2025-03-29 15:58:47,655 - MainProcess - INFO - Compressing to:features.0:(2, 48), features.3:(48, 144), features.6:(144, 268), features.8:(288, 179), features.10:(192, 192)\n",
      "2025-03-29 15:58:52,049 - MainProcess - INFO - finetuning:features.0:(2, 48), features.3:(48, 144), features.6:(144, 268), features.8:(288, 179), features.10:(192, 192)\n",
      "2025-03-29 15:59:00,248 - MainProcess - INFO - compressed_model:\n",
      "{\n",
      "    \"config_str\": \"features.0:(2, 48), features.3:(48, 144), features.6:(144, 268), features.8:(288, 192), features.10:(192, 192)\",\n",
      "    \"params\": 56019945,\n",
      "    \"flops\": 354152128,\n",
      "    \"accuracy\": 0.988,\n",
      "    \"inference_time\": 0.173149521436914,\n",
      "    \"compression_rate\": 1.0182946448804975,\n",
      "    \"accepted\": true\n",
      "}\n",
      "2025-03-29 15:59:00,257 - MainProcess - INFO - Compressing to:features.0:(2, 48), features.3:(48, 144), features.6:(144, 268), features.8:(288, 179), features.10:(192, 179)\n",
      "2025-03-29 15:59:00,257 - MainProcess - INFO - Evaluated 10 configurations, found 10 accepted models\n",
      "2025-03-29 15:59:04,897 - MainProcess - INFO - finetuning:features.0:(2, 48), features.3:(48, 144), features.6:(144, 268), features.8:(288, 179), features.10:(192, 179)\n",
      "2025-03-29 15:59:08,525 - MainProcess - INFO - compressed_model:\n",
      "{\n",
      "    \"config_str\": \"features.0:(2, 48), features.3:(48, 144), features.6:(144, 268), features.8:(288, 192), features.10:(192, 179)\",\n",
      "    \"params\": 55994153,\n",
      "    \"flops\": 349793280,\n",
      "    \"accuracy\": 0.9896,\n",
      "    \"inference_time\": 0.16721661885579428,\n",
      "    \"compression_rate\": 1.0187636912732656,\n",
      "    \"accepted\": true\n",
      "}\n",
      "2025-03-29 15:59:08,537 - MainProcess - INFO - Compressing to:features.0:(2, 48), features.3:(48, 144), features.6:(144, 268), features.8:(288, 179), features.10:(192, 166)\n",
      "2025-03-29 15:59:13,028 - MainProcess - INFO - finetuning:features.0:(2, 48), features.3:(48, 144), features.6:(144, 268), features.8:(288, 179), features.10:(192, 166)\n",
      "2025-03-29 16:00:09,936 - MainProcess - INFO - compressed_model:\n",
      "{\n",
      "    \"config_str\": \"features.0:(2, 48), features.3:(48, 144), features.6:(144, 268), features.8:(288, 192), features.10:(192, 166)\",\n",
      "    \"params\": 55968361,\n",
      "    \"flops\": 345434432,\n",
      "    \"accuracy\": 0.9901,\n",
      "    \"inference_time\": 0.17350981746762675,\n",
      "    \"compression_rate\": 1.0192331699690116,\n",
      "    \"accepted\": true\n",
      "}\n",
      "2025-03-29 16:00:10,008 - MainProcess - INFO - Compressing to:features.0:(2, 48), features.3:(48, 144), features.6:(144, 268), features.8:(288, 166), features.10:(192, 192)\n",
      "2025-03-29 16:00:14,575 - MainProcess - INFO - finetuning:features.0:(2, 48), features.3:(48, 144), features.6:(144, 268), features.8:(288, 166), features.10:(192, 192)\n"
     ]
    },
    {
     "name": "stdout",
     "output_type": "stream",
     "text": [
      "Epoch 1/3, Loss: 0.3318\n",
      "Epoch 1/3, Loss: 0.3280\n",
      "Epoch 1/3, Loss: 0.3257\n",
      "Epoch 1/3, Loss: 0.3144\n",
      "Epoch 2/3, Loss: 0.0540\n",
      "Epoch 2/3, Loss: 0.0535\n",
      "Epoch 2/3, Loss: 0.0524\n",
      "Epoch 2/3, Loss: 0.0543\n",
      "Epoch 3/3, Loss: 0.0394\n",
      "Epoch 3/3, Loss: 0.0396\n",
      "Epoch 3/3, Loss: 0.0395\n"
     ]
    },
    {
     "name": "stderr",
     "output_type": "stream",
     "text": [
      "2025-03-29 16:09:26,003 - MainProcess - INFO - compressed_model:\n",
      "{\n",
      "    \"config_str\": \"features.0:(2, 48), features.3:(48, 144), features.6:(144, 268), features.8:(288, 179), features.10:(192, 192)\",\n",
      "    \"params\": 55985001,\n",
      "    \"flops\": 348246592,\n",
      "    \"accuracy\": 0.9896,\n",
      "    \"inference_time\": 0.17203450202941895,\n",
      "    \"compression_rate\": 1.0189302309738282,\n",
      "    \"accepted\": true\n",
      "}\n",
      "2025-03-29 16:09:26,018 - MainProcess - INFO - Compressing to:features.0:(2, 48), features.3:(48, 144), features.6:(144, 268), features.8:(288, 166), features.10:(192, 179)\n",
      "2025-03-29 16:09:30,592 - MainProcess - INFO - finetuning:features.0:(2, 48), features.3:(48, 144), features.6:(144, 268), features.8:(288, 166), features.10:(192, 179)\n"
     ]
    },
    {
     "name": "stdout",
     "output_type": "stream",
     "text": [
      "Epoch 3/3, Loss: 0.0389\n"
     ]
    },
    {
     "name": "stderr",
     "output_type": "stream",
     "text": [
      "2025-03-29 16:09:47,622 - MainProcess - INFO - compressed_model:\n",
      "{\n",
      "    \"config_str\": \"features.0:(2, 48), features.3:(48, 144), features.6:(144, 268), features.8:(288, 179), features.10:(192, 179)\",\n",
      "    \"params\": 55959209,\n",
      "    \"flops\": 400158592,\n",
      "    \"accuracy\": 0.9895,\n",
      "    \"inference_time\": 0.1748791338278736,\n",
      "    \"compression_rate\": 1.0193998632110757,\n",
      "    \"accepted\": true\n",
      "}\n",
      "2025-03-29 16:09:47,629 - MainProcess - INFO - Compressing to:features.0:(2, 48), features.3:(48, 144), features.6:(144, 268), features.8:(288, 166), features.10:(192, 166)\n",
      "2025-03-29 16:09:52,061 - MainProcess - INFO - compressed_model:\n",
      "{\n",
      "    \"config_str\": \"features.0:(2, 48), features.3:(48, 144), features.6:(144, 268), features.8:(288, 179), features.10:(192, 166)\",\n",
      "    \"params\": 55933417,\n",
      "    \"flops\": 395799744,\n",
      "    \"accuracy\": 0.9864,\n",
      "    \"inference_time\": 0.16882445300966817,\n",
      "    \"compression_rate\": 1.0198699285616681,\n",
      "    \"accepted\": true\n",
      "}\n",
      "2025-03-29 16:09:52,068 - MainProcess - INFO - Compressing to:features.0:(2, 48), features.3:(48, 144), features.6:(144, 249), features.8:(288, 192), features.10:(192, 192)\n",
      "2025-03-29 16:09:52,469 - MainProcess - INFO - finetuning:features.0:(2, 48), features.3:(48, 144), features.6:(144, 268), features.8:(288, 166), features.10:(192, 166)\n",
      "2025-03-29 16:09:56,558 - MainProcess - INFO - finetuning:features.0:(2, 48), features.3:(48, 144), features.6:(144, 249), features.8:(288, 192), features.10:(192, 192)\n",
      "2025-03-29 16:11:19,236 - MainProcess - INFO - compressed_model:\n",
      "{\n",
      "    \"config_str\": \"features.0:(2, 48), features.3:(48, 144), features.6:(144, 268), features.8:(288, 166), features.10:(192, 192)\",\n",
      "    \"params\": 55950057,\n",
      "    \"flops\": 342341056,\n",
      "    \"accuracy\": 0.9905,\n",
      "    \"inference_time\": 0.16855536347488434,\n",
      "    \"compression_rate\": 1.019566610986652,\n",
      "    \"accepted\": true\n",
      "}\n",
      "2025-03-29 16:11:19,247 - MainProcess - INFO - Compressing to:features.0:(2, 48), features.3:(48, 144), features.6:(144, 249), features.8:(288, 192), features.10:(192, 179)\n",
      "2025-03-29 16:11:22,950 - MainProcess - INFO - finetuning:features.0:(2, 48), features.3:(48, 144), features.6:(144, 249), features.8:(288, 192), features.10:(192, 179)\n"
     ]
    },
    {
     "name": "stdout",
     "output_type": "stream",
     "text": [
      "Epoch 1/3, Loss: 0.3267\n",
      "Epoch 1/3, Loss: 0.3219\n",
      "Epoch 1/3, Loss: 0.3161\n",
      "Epoch 1/3, Loss: 0.3213\n",
      "Epoch 2/3, Loss: 0.0530\n",
      "Epoch 2/3, Loss: 0.0530\n",
      "Epoch 2/3, Loss: 0.0542\n",
      "Epoch 2/3, Loss: 0.0531\n",
      "Epoch 3/3, Loss: 0.0406\n",
      "Epoch 3/3, Loss: 0.0392\n",
      "Epoch 3/3, Loss: 0.0379\n"
     ]
    },
    {
     "name": "stderr",
     "output_type": "stream",
     "text": [
      "2025-03-29 16:19:32,955 - MainProcess - INFO - compressed_model:\n",
      "{\n",
      "    \"config_str\": \"features.0:(2, 48), features.3:(48, 144), features.6:(144, 268), features.8:(288, 166), features.10:(192, 179)\",\n",
      "    \"params\": 55924265,\n",
      "    \"flops\": 337982208,\n",
      "    \"accuracy\": 0.9865,\n",
      "    \"inference_time\": 0.1677713470094523,\n",
      "    \"compression_rate\": 1.020036830166655,\n",
      "    \"accepted\": true\n",
      "}\n",
      "2025-03-29 16:19:32,973 - MainProcess - INFO - Compressing to:features.0:(2, 48), features.3:(48, 144), features.6:(144, 249), features.8:(288, 192), features.10:(192, 166)\n",
      "2025-03-29 16:19:37,401 - MainProcess - INFO - finetuning:features.0:(2, 48), features.3:(48, 144), features.6:(144, 249), features.8:(288, 192), features.10:(192, 166)\n",
      "2025-03-29 16:20:06,570 - MainProcess - INFO - compressed_model:\n",
      "{\n",
      "    \"config_str\": \"features.0:(2, 48), features.3:(48, 144), features.6:(144, 268), features.8:(288, 166), features.10:(192, 166)\",\n",
      "    \"params\": 55898473,\n",
      "    \"flops\": 389894208,\n",
      "    \"accuracy\": 0.9901,\n",
      "    \"inference_time\": 0.17331760602898405,\n",
      "    \"compression_rate\": 1.0205074832723964,\n",
      "    \"accepted\": true\n",
      "}\n",
      "2025-03-29 16:20:06,581 - MainProcess - INFO - Compressing to:features.0:(2, 48), features.3:(48, 144), features.6:(144, 249), features.8:(288, 179), features.10:(192, 192)\n",
      "2025-03-29 16:20:06,902 - MainProcess - INFO - compressed_model:\n",
      "{\n",
      "    \"config_str\": \"features.0:(2, 48), features.3:(48, 144), features.6:(144, 249), features.8:(288, 192), features.10:(192, 192)\",\n",
      "    \"params\": 56019945,\n",
      "    \"flops\": 396848832,\n",
      "    \"accuracy\": 0.9903,\n",
      "    \"inference_time\": 0.167143777677208,\n",
      "    \"compression_rate\": 1.0182946448804975,\n",
      "    \"accepted\": true\n",
      "}\n",
      "2025-03-29 16:20:06,908 - MainProcess - INFO - Compressing to:features.0:(2, 48), features.3:(48, 144), features.6:(144, 249), features.8:(288, 179), features.10:(192, 179)\n",
      "2025-03-29 16:20:11,526 - MainProcess - INFO - finetuning:features.0:(2, 48), features.3:(48, 144), features.6:(144, 249), features.8:(288, 179), features.10:(192, 192)\n",
      "2025-03-29 16:20:11,671 - MainProcess - INFO - finetuning:features.0:(2, 48), features.3:(48, 144), features.6:(144, 249), features.8:(288, 179), features.10:(192, 179)\n"
     ]
    },
    {
     "name": "stdout",
     "output_type": "stream",
     "text": [
      "Epoch 3/3, Loss: 0.0386\n"
     ]
    },
    {
     "name": "stderr",
     "output_type": "stream",
     "text": [
      "2025-03-29 16:22:05,115 - MainProcess - INFO - compressed_model:\n",
      "{\n",
      "    \"config_str\": \"features.0:(2, 48), features.3:(48, 144), features.6:(144, 249), features.8:(288, 192), features.10:(192, 179)\",\n",
      "    \"params\": 55994153,\n",
      "    \"flops\": 349793280,\n",
      "    \"accuracy\": 0.9899,\n",
      "    \"inference_time\": 0.17531968377957677,\n",
      "    \"compression_rate\": 1.0187636912732656,\n",
      "    \"accepted\": true\n",
      "}\n",
      "2025-03-29 16:22:05,124 - MainProcess - INFO - Compressing to:features.0:(2, 48), features.3:(48, 144), features.6:(144, 249), features.8:(288, 179), features.10:(192, 166)\n",
      "2025-03-29 16:22:05,124 - MainProcess - INFO - Evaluated 20 configurations, found 20 accepted models\n",
      "2025-03-29 16:22:09,697 - MainProcess - INFO - finetuning:features.0:(2, 48), features.3:(48, 144), features.6:(144, 249), features.8:(288, 179), features.10:(192, 166)\n"
     ]
    },
    {
     "name": "stdout",
     "output_type": "stream",
     "text": [
      "Epoch 1/3, Loss: 0.3219\n",
      "Epoch 1/3, Loss: 0.3293\n",
      "Epoch 1/3, Loss: 0.3257\n",
      "Epoch 1/3, Loss: 0.3245\n",
      "Epoch 2/3, Loss: 0.0536\n",
      "Epoch 2/3, Loss: 0.0535\n",
      "Epoch 2/3, Loss: 0.0520\n",
      "Epoch 3/3, Loss: 0.0395\n",
      "Epoch 2/3, Loss: 0.0523\n",
      "Epoch 3/3, Loss: 0.0405\n",
      "Epoch 3/3, Loss: 0.0385\n"
     ]
    },
    {
     "name": "stderr",
     "output_type": "stream",
     "text": [
      "2025-03-29 16:29:44,588 - MainProcess - INFO - compressed_model:\n",
      "{\n",
      "    \"config_str\": \"features.0:(2, 48), features.3:(48, 144), features.6:(144, 249), features.8:(288, 192), features.10:(192, 166)\",\n",
      "    \"params\": 55968361,\n",
      "    \"flops\": 345434432,\n",
      "    \"accuracy\": 0.99,\n",
      "    \"inference_time\": 0.17351911731080139,\n",
      "    \"compression_rate\": 1.0192331699690116,\n",
      "    \"accepted\": true\n",
      "}\n",
      "2025-03-29 16:29:44,605 - MainProcess - INFO - Compressing to:features.0:(2, 48), features.3:(48, 144), features.6:(144, 249), features.8:(288, 166), features.10:(192, 192)\n",
      "2025-03-29 16:29:49,085 - MainProcess - INFO - finetuning:features.0:(2, 48), features.3:(48, 144), features.6:(144, 249), features.8:(288, 166), features.10:(192, 192)\n",
      "2025-03-29 16:30:20,329 - MainProcess - INFO - compressed_model:\n",
      "{\n",
      "    \"config_str\": \"features.0:(2, 48), features.3:(48, 144), features.6:(144, 249), features.8:(288, 179), features.10:(192, 179)\",\n",
      "    \"params\": 55959209,\n",
      "    \"flops\": 343887744,\n",
      "    \"accuracy\": 0.9888,\n",
      "    \"inference_time\": 0.16569959433974735,\n",
      "    \"compression_rate\": 1.0193998632110757,\n",
      "    \"accepted\": true\n",
      "}\n",
      "2025-03-29 16:30:20,340 - MainProcess - INFO - Compressing to:features.0:(2, 48), features.3:(48, 144), features.6:(144, 249), features.8:(288, 166), features.10:(192, 179)\n",
      "2025-03-29 16:30:24,768 - MainProcess - INFO - finetuning:features.0:(2, 48), features.3:(48, 144), features.6:(144, 249), features.8:(288, 166), features.10:(192, 179)\n",
      "2025-03-29 16:30:35,547 - MainProcess - INFO - compressed_model:\n",
      "{\n",
      "    \"config_str\": \"features.0:(2, 48), features.3:(48, 144), features.6:(144, 249), features.8:(288, 179), features.10:(192, 192)\",\n",
      "    \"params\": 55985001,\n",
      "    \"flops\": 348246592,\n",
      "    \"accuracy\": 0.9908,\n",
      "    \"inference_time\": 0.1670515258853856,\n",
      "    \"compression_rate\": 1.0189302309738282,\n",
      "    \"accepted\": true\n",
      "}\n",
      "2025-03-29 16:30:35,557 - MainProcess - INFO - Compressing to:features.0:(2, 48), features.3:(48, 144), features.6:(144, 249), features.8:(288, 166), features.10:(192, 166)\n",
      "2025-03-29 16:30:40,045 - MainProcess - INFO - finetuning:features.0:(2, 48), features.3:(48, 144), features.6:(144, 249), features.8:(288, 166), features.10:(192, 166)\n"
     ]
    },
    {
     "name": "stdout",
     "output_type": "stream",
     "text": [
      "Epoch 3/3, Loss: 0.0398\n",
      "Epoch 1/3, Loss: 0.3225\n"
     ]
    },
    {
     "name": "stderr",
     "output_type": "stream",
     "text": [
      "2025-03-29 16:32:54,580 - MainProcess - INFO - compressed_model:\n",
      "{\n",
      "    \"config_str\": \"features.0:(2, 48), features.3:(48, 144), features.6:(144, 249), features.8:(288, 179), features.10:(192, 166)\",\n",
      "    \"params\": 55933417,\n",
      "    \"flops\": 339528896,\n",
      "    \"accuracy\": 0.9908,\n",
      "    \"inference_time\": 0.17426804473698773,\n",
      "    \"compression_rate\": 1.0198699285616681,\n",
      "    \"accepted\": true\n",
      "}\n",
      "2025-03-29 16:32:54,588 - MainProcess - INFO - Compressing to:features.0:(2, 48), features.3:(48, 134), features.6:(144, 288), features.8:(288, 192), features.10:(192, 192)\n",
      "2025-03-29 16:32:59,201 - MainProcess - INFO - finetuning:features.0:(2, 48), features.3:(48, 134), features.6:(144, 288), features.8:(288, 192), features.10:(192, 192)\n"
     ]
    },
    {
     "name": "stdout",
     "output_type": "stream",
     "text": [
      "Epoch 1/3, Loss: 0.3175\n",
      "Epoch 1/3, Loss: 0.3246\n",
      "Epoch 2/3, Loss: 0.0534\n",
      "Epoch 1/3, Loss: 0.3143\n",
      "Epoch 2/3, Loss: 0.0528\n",
      "Epoch 2/3, Loss: 0.0536\n",
      "Epoch 3/3, Loss: 0.0400\n",
      "Epoch 3/3, Loss: 0.0400\n",
      "Epoch 2/3, Loss: 0.0538\n",
      "Epoch 3/3, Loss: 0.0392\n"
     ]
    },
    {
     "name": "stderr",
     "output_type": "stream",
     "text": [
      "2025-03-29 16:39:51,012 - MainProcess - INFO - compressed_model:\n",
      "{\n",
      "    \"config_str\": \"features.0:(2, 48), features.3:(48, 144), features.6:(144, 249), features.8:(288, 166), features.10:(192, 192)\",\n",
      "    \"params\": 55950057,\n",
      "    \"flops\": 342341056,\n",
      "    \"accuracy\": 0.9895,\n",
      "    \"inference_time\": 0.16648339617783856,\n",
      "    \"compression_rate\": 1.019566610986652,\n",
      "    \"accepted\": true\n",
      "}\n",
      "2025-03-29 16:39:51,024 - MainProcess - INFO - Compressing to:features.0:(2, 48), features.3:(48, 134), features.6:(144, 288), features.8:(288, 192), features.10:(192, 179)\n",
      "2025-03-29 16:39:55,654 - MainProcess - INFO - finetuning:features.0:(2, 48), features.3:(48, 134), features.6:(144, 288), features.8:(288, 192), features.10:(192, 179)\n",
      "2025-03-29 16:40:27,729 - MainProcess - INFO - compressed_model:\n",
      "{\n",
      "    \"config_str\": \"features.0:(2, 48), features.3:(48, 144), features.6:(144, 249), features.8:(288, 166), features.10:(192, 179)\",\n",
      "    \"params\": 55924265,\n",
      "    \"flops\": 350372608,\n",
      "    \"accuracy\": 0.9886,\n",
      "    \"inference_time\": 0.16514051340188193,\n",
      "    \"compression_rate\": 1.020036830166655,\n",
      "    \"accepted\": true\n",
      "}\n",
      "2025-03-29 16:40:27,738 - MainProcess - INFO - Compressing to:features.0:(2, 48), features.3:(48, 134), features.6:(144, 288), features.8:(288, 192), features.10:(192, 166)\n",
      "2025-03-29 16:40:32,239 - MainProcess - INFO - finetuning:features.0:(2, 48), features.3:(48, 134), features.6:(144, 288), features.8:(288, 192), features.10:(192, 166)\n",
      "2025-03-29 16:41:00,271 - MainProcess - INFO - compressed_model:\n",
      "{\n",
      "    \"config_str\": \"features.0:(2, 48), features.3:(48, 144), features.6:(144, 249), features.8:(288, 166), features.10:(192, 166)\",\n",
      "    \"params\": 55898473,\n",
      "    \"flops\": 333623360,\n",
      "    \"accuracy\": 0.9898,\n",
      "    \"inference_time\": 0.16984875186993056,\n",
      "    \"compression_rate\": 1.0205074832723964,\n",
      "    \"accepted\": true\n",
      "}\n",
      "2025-03-29 16:41:00,279 - MainProcess - INFO - Compressing to:features.0:(2, 48), features.3:(48, 134), features.6:(144, 288), features.8:(288, 179), features.10:(192, 192)\n",
      "2025-03-29 16:41:04,895 - MainProcess - INFO - finetuning:features.0:(2, 48), features.3:(48, 134), features.6:(144, 288), features.8:(288, 179), features.10:(192, 192)\n"
     ]
    },
    {
     "name": "stdout",
     "output_type": "stream",
     "text": [
      "Epoch 3/3, Loss: 0.0399\n",
      "Epoch 1/3, Loss: 0.3168\n",
      "Epoch 1/3, Loss: 0.3226\n"
     ]
    },
    {
     "name": "stderr",
     "output_type": "stream",
     "text": [
      "2025-03-29 16:43:43,869 - MainProcess - INFO - compressed_model:\n",
      "{\n",
      "    \"config_str\": \"features.0:(2, 48), features.3:(48, 134), features.6:(144, 288), features.8:(288, 192), features.10:(192, 192)\",\n",
      "    \"params\": 56019945,\n",
      "    \"flops\": 354152128,\n",
      "    \"accuracy\": 0.9896,\n",
      "    \"inference_time\": 0.17800756422071193,\n",
      "    \"compression_rate\": 1.0182946448804975,\n",
      "    \"accepted\": true\n",
      "}\n",
      "2025-03-29 16:43:43,882 - MainProcess - INFO - Compressing to:features.0:(2, 48), features.3:(48, 134), features.6:(144, 288), features.8:(288, 179), features.10:(192, 179)\n",
      "2025-03-29 16:43:48,214 - MainProcess - INFO - finetuning:features.0:(2, 48), features.3:(48, 134), features.6:(144, 288), features.8:(288, 179), features.10:(192, 179)\n"
     ]
    },
    {
     "name": "stdout",
     "output_type": "stream",
     "text": [
      "Epoch 1/3, Loss: 0.3228\n",
      "Epoch 2/3, Loss: 0.0543\n",
      "Epoch 2/3, Loss: 0.0521\n",
      "Epoch 1/3, Loss: 0.3166\n",
      "Epoch 2/3, Loss: 0.0519\n",
      "Epoch 3/3, Loss: 0.0405\n",
      "Epoch 3/3, Loss: 0.0400\n",
      "Epoch 3/3, Loss: 0.0399\n",
      "Epoch 2/3, Loss: 0.0532\n"
     ]
    },
    {
     "name": "stderr",
     "output_type": "stream",
     "text": [
      "2025-03-29 16:50:06,726 - MainProcess - INFO - compressed_model:\n",
      "{\n",
      "    \"config_str\": \"features.0:(2, 48), features.3:(48, 134), features.6:(144, 288), features.8:(288, 192), features.10:(192, 179)\",\n",
      "    \"params\": 55994153,\n",
      "    \"flops\": 349793280,\n",
      "    \"accuracy\": 0.9895,\n",
      "    \"inference_time\": 0.16714645545700302,\n",
      "    \"compression_rate\": 1.0187636912732656,\n",
      "    \"accepted\": true\n",
      "}\n",
      "2025-03-29 16:50:06,746 - MainProcess - INFO - Compressing to:features.0:(2, 48), features.3:(48, 134), features.6:(144, 288), features.8:(288, 179), features.10:(192, 166)\n",
      "2025-03-29 16:50:11,184 - MainProcess - INFO - finetuning:features.0:(2, 48), features.3:(48, 134), features.6:(144, 288), features.8:(288, 179), features.10:(192, 166)\n",
      "2025-03-29 16:50:42,992 - MainProcess - INFO - compressed_model:\n",
      "{\n",
      "    \"config_str\": \"features.0:(2, 48), features.3:(48, 134), features.6:(144, 288), features.8:(288, 192), features.10:(192, 166)\",\n",
      "    \"params\": 55968361,\n",
      "    \"flops\": 345434432,\n",
      "    \"accuracy\": 0.9909,\n",
      "    \"inference_time\": 0.16421489452353963,\n",
      "    \"compression_rate\": 1.0192331699690116,\n",
      "    \"accepted\": true\n",
      "}\n",
      "2025-03-29 16:50:43,002 - MainProcess - INFO - Compressing to:features.0:(2, 48), features.3:(48, 134), features.6:(144, 288), features.8:(288, 166), features.10:(192, 192)\n",
      "2025-03-29 16:50:43,002 - MainProcess - INFO - Evaluated 30 configurations, found 30 accepted models\n",
      "2025-03-29 16:50:47,459 - MainProcess - INFO - finetuning:features.0:(2, 48), features.3:(48, 134), features.6:(144, 288), features.8:(288, 166), features.10:(192, 192)\n",
      "2025-03-29 16:51:31,244 - MainProcess - INFO - compressed_model:\n",
      "{\n",
      "    \"config_str\": \"features.0:(2, 48), features.3:(48, 134), features.6:(144, 288), features.8:(288, 179), features.10:(192, 192)\",\n",
      "    \"params\": 55985001,\n",
      "    \"flops\": 348246592,\n",
      "    \"accuracy\": 0.9884,\n",
      "    \"inference_time\": 0.16775913906704845,\n",
      "    \"compression_rate\": 1.0189302309738282,\n",
      "    \"accepted\": true\n",
      "}\n",
      "2025-03-29 16:51:31,255 - MainProcess - INFO - Compressing to:features.0:(2, 48), features.3:(48, 134), features.6:(144, 288), features.8:(288, 166), features.10:(192, 179)\n",
      "2025-03-29 16:51:35,718 - MainProcess - INFO - finetuning:features.0:(2, 48), features.3:(48, 134), features.6:(144, 288), features.8:(288, 166), features.10:(192, 179)\n"
     ]
    },
    {
     "name": "stdout",
     "output_type": "stream",
     "text": [
      "Epoch 3/3, Loss: 0.0395\n",
      "Epoch 1/3, Loss: 0.3277\n",
      "Epoch 1/3, Loss: 0.3149\n",
      "Epoch 1/3, Loss: 0.3145\n"
     ]
    },
    {
     "name": "stderr",
     "output_type": "stream",
     "text": [
      "2025-03-29 16:54:34,731 - MainProcess - INFO - compressed_model:\n",
      "{\n",
      "    \"config_str\": \"features.0:(2, 48), features.3:(48, 134), features.6:(144, 288), features.8:(288, 179), features.10:(192, 179)\",\n",
      "    \"params\": 55959209,\n",
      "    \"flops\": 343887744,\n",
      "    \"accuracy\": 0.99,\n",
      "    \"inference_time\": 0.176237925349274,\n",
      "    \"compression_rate\": 1.0193998632110757,\n",
      "    \"accepted\": true\n",
      "}\n",
      "2025-03-29 16:54:34,745 - MainProcess - INFO - Compressing to:features.0:(2, 48), features.3:(48, 134), features.6:(144, 288), features.8:(288, 166), features.10:(192, 166)\n",
      "2025-03-29 16:54:39,194 - MainProcess - INFO - finetuning:features.0:(2, 48), features.3:(48, 134), features.6:(144, 288), features.8:(288, 166), features.10:(192, 166)\n"
     ]
    },
    {
     "name": "stdout",
     "output_type": "stream",
     "text": [
      "Epoch 2/3, Loss: 0.0546\n",
      "Epoch 2/3, Loss: 0.0536\n",
      "Epoch 2/3, Loss: 0.0518\n",
      "Epoch 1/3, Loss: 0.3246\n",
      "Epoch 3/3, Loss: 0.0393\n",
      "Epoch 3/3, Loss: 0.0402\n"
     ]
    },
    {
     "name": "stderr",
     "output_type": "stream",
     "text": [
      "2025-03-29 17:00:04,502 - MainProcess - INFO - compressed_model:\n",
      "{\n",
      "    \"config_str\": \"features.0:(2, 48), features.3:(48, 134), features.6:(144, 288), features.8:(288, 179), features.10:(192, 166)\",\n",
      "    \"params\": 55933417,\n",
      "    \"flops\": 339528896,\n",
      "    \"accuracy\": 0.9901,\n",
      "    \"inference_time\": 0.1637289291227952,\n",
      "    \"compression_rate\": 1.0198699285616681,\n",
      "    \"accepted\": true\n",
      "}\n",
      "2025-03-29 17:00:04,514 - MainProcess - INFO - Compressing to:features.0:(2, 48), features.3:(48, 134), features.6:(144, 268), features.8:(288, 192), features.10:(192, 192)\n"
     ]
    },
    {
     "name": "stdout",
     "output_type": "stream",
     "text": [
      "Epoch 3/3, Loss: 0.0392\n"
     ]
    },
    {
     "name": "stderr",
     "output_type": "stream",
     "text": [
      "2025-03-29 17:00:09,018 - MainProcess - INFO - finetuning:features.0:(2, 48), features.3:(48, 134), features.6:(144, 268), features.8:(288, 192), features.10:(192, 192)\n"
     ]
    },
    {
     "name": "stdout",
     "output_type": "stream",
     "text": [
      "Epoch 2/3, Loss: 0.0549\n"
     ]
    },
    {
     "name": "stderr",
     "output_type": "stream",
     "text": [
      "2025-03-29 17:00:42,435 - MainProcess - INFO - compressed_model:\n",
      "{\n",
      "    \"config_str\": \"features.0:(2, 48), features.3:(48, 134), features.6:(144, 288), features.8:(288, 166), features.10:(192, 192)\",\n",
      "    \"params\": 55950057,\n",
      "    \"flops\": 342341056,\n",
      "    \"accuracy\": 0.9874,\n",
      "    \"inference_time\": 0.162013464419452,\n",
      "    \"compression_rate\": 1.019566610986652,\n",
      "    \"accepted\": true\n",
      "}\n",
      "2025-03-29 17:00:42,444 - MainProcess - INFO - Compressing to:features.0:(2, 48), features.3:(48, 134), features.6:(144, 268), features.8:(288, 192), features.10:(192, 179)\n",
      "2025-03-29 17:00:47,008 - MainProcess - INFO - finetuning:features.0:(2, 48), features.3:(48, 134), features.6:(144, 268), features.8:(288, 192), features.10:(192, 179)\n",
      "2025-03-29 17:01:52,879 - MainProcess - INFO - compressed_model:\n",
      "{\n",
      "    \"config_str\": \"features.0:(2, 48), features.3:(48, 134), features.6:(144, 288), features.8:(288, 166), features.10:(192, 179)\",\n",
      "    \"params\": 55924265,\n",
      "    \"flops\": 337982208,\n",
      "    \"accuracy\": 0.9895,\n",
      "    \"inference_time\": 0.16609121786307884,\n",
      "    \"compression_rate\": 1.020036830166655,\n",
      "    \"accepted\": true\n",
      "}\n",
      "2025-03-29 17:01:52,891 - MainProcess - INFO - Compressing to:features.0:(2, 48), features.3:(48, 134), features.6:(144, 268), features.8:(288, 192), features.10:(192, 166)\n",
      "2025-03-29 17:01:57,399 - MainProcess - INFO - finetuning:features.0:(2, 48), features.3:(48, 134), features.6:(144, 268), features.8:(288, 192), features.10:(192, 166)\n"
     ]
    },
    {
     "name": "stdout",
     "output_type": "stream",
     "text": [
      "Epoch 1/3, Loss: 0.3291\n",
      "Epoch 3/3, Loss: 0.0399\n",
      "Epoch 1/3, Loss: 0.3206\n",
      "Epoch 1/3, Loss: 0.3288\n"
     ]
    },
    {
     "name": "stderr",
     "output_type": "stream",
     "text": [
      "2025-03-29 17:05:19,326 - MainProcess - INFO - compressed_model:\n",
      "{\n",
      "    \"config_str\": \"features.0:(2, 48), features.3:(48, 134), features.6:(144, 288), features.8:(288, 166), features.10:(192, 166)\",\n",
      "    \"params\": 55898473,\n",
      "    \"flops\": 333623360,\n",
      "    \"accuracy\": 0.9892,\n",
      "    \"inference_time\": 0.17485043400159053,\n",
      "    \"compression_rate\": 1.0205074832723964,\n",
      "    \"accepted\": true\n",
      "}\n",
      "2025-03-29 17:05:19,340 - MainProcess - INFO - Compressing to:features.0:(2, 48), features.3:(48, 134), features.6:(144, 268), features.8:(288, 179), features.10:(192, 192)\n",
      "2025-03-29 17:05:24,031 - MainProcess - INFO - finetuning:features.0:(2, 48), features.3:(48, 134), features.6:(144, 268), features.8:(288, 179), features.10:(192, 192)\n"
     ]
    },
    {
     "name": "stdout",
     "output_type": "stream",
     "text": [
      "Epoch 2/3, Loss: 0.0532\n",
      "Epoch 2/3, Loss: 0.0539\n",
      "Epoch 2/3, Loss: 0.0540\n",
      "Epoch 3/3, Loss: 0.0391\n",
      "Epoch 1/3, Loss: 0.3220\n",
      "Epoch 3/3, Loss: 0.0387\n"
     ]
    },
    {
     "name": "stderr",
     "output_type": "stream",
     "text": [
      "2025-03-29 17:10:01,790 - MainProcess - INFO - compressed_model:\n",
      "{\n",
      "    \"config_str\": \"features.0:(2, 48), features.3:(48, 134), features.6:(144, 268), features.8:(288, 192), features.10:(192, 192)\",\n",
      "    \"params\": 56019945,\n",
      "    \"flops\": 354152128,\n",
      "    \"accuracy\": 0.9892,\n",
      "    \"inference_time\": 0.16266690950737892,\n",
      "    \"compression_rate\": 1.0182946448804975,\n",
      "    \"accepted\": true\n",
      "}\n",
      "2025-03-29 17:10:01,802 - MainProcess - INFO - Compressing to:features.0:(2, 48), features.3:(48, 134), features.6:(144, 268), features.8:(288, 179), features.10:(192, 179)\n",
      "2025-03-29 17:10:06,327 - MainProcess - INFO - finetuning:features.0:(2, 48), features.3:(48, 134), features.6:(144, 268), features.8:(288, 179), features.10:(192, 179)\n"
     ]
    },
    {
     "name": "stdout",
     "output_type": "stream",
     "text": [
      "Epoch 3/3, Loss: 0.0399\n"
     ]
    },
    {
     "name": "stderr",
     "output_type": "stream",
     "text": [
      "2025-03-29 17:10:41,334 - MainProcess - INFO - compressed_model:\n",
      "{\n",
      "    \"config_str\": \"features.0:(2, 48), features.3:(48, 134), features.6:(144, 268), features.8:(288, 192), features.10:(192, 179)\",\n",
      "    \"params\": 55994153,\n",
      "    \"flops\": 349793280,\n",
      "    \"accuracy\": 0.988,\n",
      "    \"inference_time\": 0.16054235851182552,\n",
      "    \"compression_rate\": 1.0187636912732656,\n",
      "    \"accepted\": true\n",
      "}\n",
      "2025-03-29 17:10:41,343 - MainProcess - INFO - Compressing to:features.0:(2, 48), features.3:(48, 134), features.6:(144, 268), features.8:(288, 179), features.10:(192, 166)\n",
      "2025-03-29 17:10:45,947 - MainProcess - INFO - finetuning:features.0:(2, 48), features.3:(48, 134), features.6:(144, 268), features.8:(288, 179), features.10:(192, 166)\n"
     ]
    },
    {
     "name": "stdout",
     "output_type": "stream",
     "text": [
      "Epoch 2/3, Loss: 0.0541\n"
     ]
    },
    {
     "name": "stderr",
     "output_type": "stream",
     "text": [
      "2025-03-29 17:12:08,318 - MainProcess - INFO - compressed_model:\n",
      "{\n",
      "    \"config_str\": \"features.0:(2, 48), features.3:(48, 134), features.6:(144, 268), features.8:(288, 192), features.10:(192, 166)\",\n",
      "    \"params\": 55968361,\n",
      "    \"flops\": 345434432,\n",
      "    \"accuracy\": 0.9897,\n",
      "    \"inference_time\": 0.16600387870885766,\n",
      "    \"compression_rate\": 1.0192331699690116,\n",
      "    \"accepted\": true\n",
      "}\n",
      "2025-03-29 17:12:08,327 - MainProcess - INFO - Compressing to:features.0:(2, 48), features.3:(48, 134), features.6:(144, 268), features.8:(288, 166), features.10:(192, 192)\n",
      "2025-03-29 17:12:12,858 - MainProcess - INFO - finetuning:features.0:(2, 48), features.3:(48, 134), features.6:(144, 268), features.8:(288, 166), features.10:(192, 192)\n"
     ]
    },
    {
     "name": "stdout",
     "output_type": "stream",
     "text": [
      "Epoch 1/3, Loss: 0.3226\n",
      "Epoch 1/3, Loss: 0.3235\n",
      "Epoch 3/3, Loss: 0.0388\n",
      "Epoch 1/3, Loss: 0.3103\n",
      "Epoch 2/3, Loss: 0.0527\n"
     ]
    },
    {
     "name": "stderr",
     "output_type": "stream",
     "text": [
      "2025-03-29 17:16:04,662 - MainProcess - INFO - compressed_model:\n",
      "{\n",
      "    \"config_str\": \"features.0:(2, 48), features.3:(48, 134), features.6:(144, 268), features.8:(288, 179), features.10:(192, 192)\",\n",
      "    \"params\": 55985001,\n",
      "    \"flops\": 404517440,\n",
      "    \"accuracy\": 0.9903,\n",
      "    \"inference_time\": 0.17585000212278587,\n",
      "    \"compression_rate\": 1.0189302309738282,\n",
      "    \"accepted\": true\n",
      "}\n",
      "2025-03-29 17:16:04,677 - MainProcess - INFO - Compressing to:features.0:(2, 48), features.3:(48, 134), features.6:(144, 268), features.8:(288, 166), features.10:(192, 179)\n",
      "2025-03-29 17:16:04,677 - MainProcess - INFO - Evaluated 40 configurations, found 40 accepted models\n",
      "2025-03-29 17:16:09,259 - MainProcess - INFO - finetuning:features.0:(2, 48), features.3:(48, 134), features.6:(144, 268), features.8:(288, 166), features.10:(192, 179)\n"
     ]
    },
    {
     "name": "stdout",
     "output_type": "stream",
     "text": [
      "Epoch 2/3, Loss: 0.0547\n",
      "Epoch 2/3, Loss: 0.0521\n",
      "Epoch 3/3, Loss: 0.0387\n",
      "Epoch 3/3, Loss: 0.0401\n",
      "Epoch 1/3, Loss: 0.3131\n"
     ]
    },
    {
     "name": "stderr",
     "output_type": "stream",
     "text": [
      "2025-03-29 17:19:59,352 - MainProcess - INFO - compressed_model:\n",
      "{\n",
      "    \"config_str\": \"features.0:(2, 48), features.3:(48, 134), features.6:(144, 268), features.8:(288, 179), features.10:(192, 179)\",\n",
      "    \"params\": 55959209,\n",
      "    \"flops\": 343887744,\n",
      "    \"accuracy\": 0.9907,\n",
      "    \"inference_time\": 0.1632334021752554,\n",
      "    \"compression_rate\": 1.0193998632110757,\n",
      "    \"accepted\": true\n",
      "}\n",
      "2025-03-29 17:19:59,366 - MainProcess - INFO - Compressing to:features.0:(2, 48), features.3:(48, 134), features.6:(144, 268), features.8:(288, 166), features.10:(192, 166)\n",
      "2025-03-29 17:20:03,811 - MainProcess - INFO - finetuning:features.0:(2, 48), features.3:(48, 134), features.6:(144, 268), features.8:(288, 166), features.10:(192, 166)\n"
     ]
    },
    {
     "name": "stdout",
     "output_type": "stream",
     "text": [
      "Epoch 3/3, Loss: 0.0379\n"
     ]
    },
    {
     "name": "stderr",
     "output_type": "stream",
     "text": [
      "2025-03-29 17:20:42,871 - MainProcess - INFO - compressed_model:\n",
      "{\n",
      "    \"config_str\": \"features.0:(2, 48), features.3:(48, 134), features.6:(144, 268), features.8:(288, 179), features.10:(192, 166)\",\n",
      "    \"params\": 55933417,\n",
      "    \"flops\": 339528896,\n",
      "    \"accuracy\": 0.9909,\n",
      "    \"inference_time\": 0.1619302877195322,\n",
      "    \"compression_rate\": 1.0198699285616681,\n",
      "    \"accepted\": true\n",
      "}\n",
      "2025-03-29 17:20:42,881 - MainProcess - INFO - Compressing to:features.0:(2, 48), features.3:(48, 134), features.6:(144, 249), features.8:(288, 192), features.10:(192, 192)\n",
      "2025-03-29 17:20:47,288 - MainProcess - INFO - finetuning:features.0:(2, 48), features.3:(48, 134), features.6:(144, 249), features.8:(288, 192), features.10:(192, 192)\n"
     ]
    },
    {
     "name": "stdout",
     "output_type": "stream",
     "text": [
      "Epoch 2/3, Loss: 0.0531\n"
     ]
    },
    {
     "name": "stderr",
     "output_type": "stream",
     "text": [
      "2025-03-29 17:22:28,966 - MainProcess - INFO - compressed_model:\n",
      "{\n",
      "    \"config_str\": \"features.0:(2, 48), features.3:(48, 134), features.6:(144, 268), features.8:(288, 166), features.10:(192, 192)\",\n",
      "    \"params\": 55950057,\n",
      "    \"flops\": 342341056,\n",
      "    \"accuracy\": 0.9894,\n",
      "    \"inference_time\": 0.16833013992147586,\n",
      "    \"compression_rate\": 1.019566610986652,\n",
      "    \"accepted\": true\n",
      "}\n",
      "2025-03-29 17:22:28,979 - MainProcess - INFO - Compressing to:features.0:(2, 48), features.3:(48, 134), features.6:(144, 249), features.8:(288, 192), features.10:(192, 179)\n",
      "2025-03-29 17:22:33,446 - MainProcess - INFO - finetuning:features.0:(2, 48), features.3:(48, 134), features.6:(144, 249), features.8:(288, 192), features.10:(192, 179)\n"
     ]
    },
    {
     "name": "stdout",
     "output_type": "stream",
     "text": [
      "Epoch 1/3, Loss: 0.3300\n",
      "Epoch 1/3, Loss: 0.3238\n",
      "Epoch 3/3, Loss: 0.0385\n",
      "Epoch 1/3, Loss: 0.3192\n",
      "Epoch 2/3, Loss: 0.0530\n",
      "Epoch 2/3, Loss: 0.0535\n"
     ]
    },
    {
     "name": "stderr",
     "output_type": "stream",
     "text": [
      "2025-03-29 17:27:00,098 - MainProcess - INFO - compressed_model:\n",
      "{\n",
      "    \"config_str\": \"features.0:(2, 48), features.3:(48, 134), features.6:(144, 268), features.8:(288, 166), features.10:(192, 179)\",\n",
      "    \"params\": 55924265,\n",
      "    \"flops\": 337982208,\n",
      "    \"accuracy\": 0.9893,\n",
      "    \"inference_time\": 0.18313227742594015,\n",
      "    \"compression_rate\": 1.020036830166655,\n",
      "    \"accepted\": true\n",
      "}\n",
      "2025-03-29 17:27:00,114 - MainProcess - INFO - Compressing to:features.0:(2, 48), features.3:(48, 134), features.6:(144, 249), features.8:(288, 192), features.10:(192, 166)\n",
      "2025-03-29 17:27:04,950 - MainProcess - INFO - finetuning:features.0:(2, 48), features.3:(48, 134), features.6:(144, 249), features.8:(288, 192), features.10:(192, 166)\n"
     ]
    },
    {
     "name": "stdout",
     "output_type": "stream",
     "text": [
      "Epoch 2/3, Loss: 0.0531\n",
      "Epoch 3/3, Loss: 0.0413\n",
      "Epoch 3/3, Loss: 0.0402\n",
      "Epoch 1/3, Loss: 0.3319\n"
     ]
    },
    {
     "name": "stderr",
     "output_type": "stream",
     "text": [
      "2025-03-29 17:30:20,117 - MainProcess - INFO - compressed_model:\n",
      "{\n",
      "    \"config_str\": \"features.0:(2, 48), features.3:(48, 134), features.6:(144, 268), features.8:(288, 166), features.10:(192, 166)\",\n",
      "    \"params\": 55898473,\n",
      "    \"flops\": 333623360,\n",
      "    \"accuracy\": 0.9898,\n",
      "    \"inference_time\": 0.18108678015933674,\n",
      "    \"compression_rate\": 1.0205074832723964,\n",
      "    \"accepted\": true\n",
      "}\n",
      "2025-03-29 17:30:20,129 - MainProcess - INFO - Compressing to:features.0:(2, 48), features.3:(48, 134), features.6:(144, 249), features.8:(288, 179), features.10:(192, 192)\n",
      "2025-03-29 17:30:24,193 - MainProcess - INFO - finetuning:features.0:(2, 48), features.3:(48, 134), features.6:(144, 249), features.8:(288, 179), features.10:(192, 192)\n",
      "2025-03-29 17:31:03,922 - MainProcess - INFO - compressed_model:\n",
      "{\n",
      "    \"config_str\": \"features.0:(2, 48), features.3:(48, 134), features.6:(144, 249), features.8:(288, 192), features.10:(192, 192)\",\n",
      "    \"params\": 56019945,\n",
      "    \"flops\": 354152128,\n",
      "    \"accuracy\": 0.9886,\n",
      "    \"inference_time\": 0.16583854833226294,\n",
      "    \"compression_rate\": 1.0182946448804975,\n",
      "    \"accepted\": true\n",
      "}\n",
      "2025-03-29 17:31:03,930 - MainProcess - INFO - Compressing to:features.0:(2, 48), features.3:(48, 134), features.6:(144, 249), features.8:(288, 179), features.10:(192, 179)\n",
      "2025-03-29 17:31:08,396 - MainProcess - INFO - finetuning:features.0:(2, 48), features.3:(48, 134), features.6:(144, 249), features.8:(288, 179), features.10:(192, 179)\n"
     ]
    },
    {
     "name": "stdout",
     "output_type": "stream",
     "text": [
      "Epoch 3/3, Loss: 0.0383\n",
      "Epoch 2/3, Loss: 0.0535\n",
      "Epoch 1/3, Loss: 0.3077\n"
     ]
    },
    {
     "name": "stderr",
     "output_type": "stream",
     "text": [
      "2025-03-29 17:33:11,102 - MainProcess - INFO - compressed_model:\n",
      "{\n",
      "    \"config_str\": \"features.0:(2, 48), features.3:(48, 134), features.6:(144, 249), features.8:(288, 192), features.10:(192, 179)\",\n",
      "    \"params\": 55994153,\n",
      "    \"flops\": 349793280,\n",
      "    \"accuracy\": 0.9907,\n",
      "    \"inference_time\": 0.1670596984288242,\n",
      "    \"compression_rate\": 1.0187636912732656,\n",
      "    \"accepted\": true\n",
      "}\n",
      "2025-03-29 17:33:11,114 - MainProcess - INFO - Compressing to:features.0:(2, 48), features.3:(48, 134), features.6:(144, 249), features.8:(288, 179), features.10:(192, 166)\n",
      "2025-03-29 17:33:15,736 - MainProcess - INFO - finetuning:features.0:(2, 48), features.3:(48, 134), features.6:(144, 249), features.8:(288, 179), features.10:(192, 166)\n"
     ]
    },
    {
     "name": "stdout",
     "output_type": "stream",
     "text": [
      "Epoch 1/3, Loss: 0.3253\n",
      "Epoch 2/3, Loss: 0.0536\n",
      "Epoch 3/3, Loss: 0.0403\n",
      "Epoch 1/3, Loss: 0.3218\n",
      "Epoch 2/3, Loss: 0.0523\n"
     ]
    },
    {
     "name": "stderr",
     "output_type": "stream",
     "text": [
      "2025-03-29 17:37:50,615 - MainProcess - INFO - compressed_model:\n",
      "{\n",
      "    \"config_str\": \"features.0:(2, 48), features.3:(48, 134), features.6:(144, 249), features.8:(288, 192), features.10:(192, 166)\",\n",
      "    \"params\": 55968361,\n",
      "    \"flops\": 395053376,\n",
      "    \"accuracy\": 0.9904,\n",
      "    \"inference_time\": 0.17353497695517894,\n",
      "    \"compression_rate\": 1.0192331699690116,\n",
      "    \"accepted\": true\n",
      "}\n",
      "2025-03-29 17:37:50,627 - MainProcess - INFO - Compressing to:features.0:(2, 48), features.3:(48, 134), features.6:(144, 249), features.8:(288, 166), features.10:(192, 192)\n",
      "2025-03-29 17:37:55,165 - MainProcess - INFO - finetuning:features.0:(2, 48), features.3:(48, 134), features.6:(144, 249), features.8:(288, 166), features.10:(192, 192)\n"
     ]
    },
    {
     "name": "stdout",
     "output_type": "stream",
     "text": [
      "Epoch 3/3, Loss: 0.0394\n",
      "Epoch 2/3, Loss: 0.0540\n",
      "Epoch 3/3, Loss: 0.0405\n"
     ]
    },
    {
     "name": "stderr",
     "output_type": "stream",
     "text": [
      "2025-03-29 17:40:16,648 - MainProcess - INFO - compressed_model:\n",
      "{\n",
      "    \"config_str\": \"features.0:(2, 48), features.3:(48, 134), features.6:(144, 249), features.8:(288, 179), features.10:(192, 192)\",\n",
      "    \"params\": 55985001,\n",
      "    \"flops\": 348246592,\n",
      "    \"accuracy\": 0.9905,\n",
      "    \"inference_time\": 0.16305102208617386,\n",
      "    \"compression_rate\": 1.0189302309738282,\n",
      "    \"accepted\": true\n",
      "}\n",
      "2025-03-29 17:40:16,658 - MainProcess - INFO - Compressing to:features.0:(2, 48), features.3:(48, 134), features.6:(144, 249), features.8:(288, 166), features.10:(192, 179)\n",
      "2025-03-29 17:40:21,101 - MainProcess - INFO - finetuning:features.0:(2, 48), features.3:(48, 134), features.6:(144, 249), features.8:(288, 166), features.10:(192, 179)\n"
     ]
    },
    {
     "name": "stdout",
     "output_type": "stream",
     "text": [
      "Epoch 1/3, Loss: 0.3151\n"
     ]
    },
    {
     "name": "stderr",
     "output_type": "stream",
     "text": [
      "2025-03-29 17:41:04,629 - MainProcess - INFO - compressed_model:\n",
      "{\n",
      "    \"config_str\": \"features.0:(2, 48), features.3:(48, 134), features.6:(144, 249), features.8:(288, 179), features.10:(192, 179)\",\n",
      "    \"params\": 55959209,\n",
      "    \"flops\": 343887744,\n",
      "    \"accuracy\": 0.9815,\n",
      "    \"inference_time\": 0.16096326398748248,\n",
      "    \"compression_rate\": 1.0193998632110757,\n",
      "    \"accepted\": true\n",
      "}\n",
      "2025-03-29 17:41:04,641 - MainProcess - INFO - Compressing to:features.0:(2, 48), features.3:(48, 134), features.6:(144, 249), features.8:(288, 166), features.10:(192, 166)\n",
      "2025-03-29 17:41:04,641 - MainProcess - INFO - Evaluated 50 configurations, found 50 accepted models\n",
      "2025-03-29 17:41:09,266 - MainProcess - INFO - finetuning:features.0:(2, 48), features.3:(48, 134), features.6:(144, 249), features.8:(288, 166), features.10:(192, 166)\n"
     ]
    },
    {
     "name": "stdout",
     "output_type": "stream",
     "text": [
      "Epoch 3/3, Loss: 0.0389\n",
      "Epoch 1/3, Loss: 0.3151\n"
     ]
    },
    {
     "name": "stderr",
     "output_type": "stream",
     "text": [
      "2025-03-29 17:43:29,995 - MainProcess - INFO - compressed_model:\n",
      "{\n",
      "    \"config_str\": \"features.0:(2, 48), features.3:(48, 134), features.6:(144, 249), features.8:(288, 179), features.10:(192, 166)\",\n",
      "    \"params\": 55933417,\n",
      "    \"flops\": 339528896,\n",
      "    \"accuracy\": 0.9906,\n",
      "    \"inference_time\": 0.1678347602771346,\n",
      "    \"compression_rate\": 1.0198699285616681,\n",
      "    \"accepted\": true\n",
      "}\n",
      "2025-03-29 17:43:30,003 - MainProcess - INFO - Compressing to:features.0:(2, 48), features.3:(48, 124), features.6:(144, 288), features.8:(288, 192), features.10:(192, 192)\n",
      "2025-03-29 17:43:34,584 - MainProcess - INFO - finetuning:features.0:(2, 48), features.3:(48, 124), features.6:(144, 288), features.8:(288, 192), features.10:(192, 192)\n"
     ]
    },
    {
     "name": "stdout",
     "output_type": "stream",
     "text": [
      "Epoch 2/3, Loss: 0.0564\n",
      "Epoch 1/3, Loss: 0.3169\n",
      "Epoch 2/3, Loss: 0.0530\n",
      "Epoch 1/3, Loss: 0.3130\n",
      "Epoch 2/3, Loss: 0.0553\n",
      "Epoch 3/3, Loss: 0.0395\n"
     ]
    },
    {
     "name": "stderr",
     "output_type": "stream",
     "text": [
      "2025-03-29 17:48:31,395 - MainProcess - INFO - compressed_model:\n",
      "{\n",
      "    \"config_str\": \"features.0:(2, 48), features.3:(48, 134), features.6:(144, 249), features.8:(288, 166), features.10:(192, 192)\",\n",
      "    \"params\": 55950057,\n",
      "    \"flops\": 342341056,\n",
      "    \"accuracy\": 0.9905,\n",
      "    \"inference_time\": 0.17558587230188327,\n",
      "    \"compression_rate\": 1.019566610986652,\n",
      "    \"accepted\": true\n",
      "}\n",
      "2025-03-29 17:48:31,404 - MainProcess - INFO - Compressing to:features.0:(2, 48), features.3:(48, 124), features.6:(144, 288), features.8:(288, 192), features.10:(192, 179)\n"
     ]
    },
    {
     "name": "stdout",
     "output_type": "stream",
     "text": [
      "Epoch 3/3, Loss: 0.0400\n"
     ]
    },
    {
     "name": "stderr",
     "output_type": "stream",
     "text": [
      "2025-03-29 17:48:35,977 - MainProcess - INFO - finetuning:features.0:(2, 48), features.3:(48, 124), features.6:(144, 288), features.8:(288, 192), features.10:(192, 179)\n"
     ]
    },
    {
     "name": "stdout",
     "output_type": "stream",
     "text": [
      "Epoch 2/3, Loss: 0.0532\n",
      "Epoch 3/3, Loss: 0.0403\n"
     ]
    },
    {
     "name": "stderr",
     "output_type": "stream",
     "text": [
      "2025-03-29 17:50:17,324 - MainProcess - INFO - compressed_model:\n",
      "{\n",
      "    \"config_str\": \"features.0:(2, 48), features.3:(48, 134), features.6:(144, 249), features.8:(288, 166), features.10:(192, 179)\",\n",
      "    \"params\": 55924265,\n",
      "    \"flops\": 337982208,\n",
      "    \"accuracy\": 0.9894,\n",
      "    \"inference_time\": 0.16279430348908572,\n",
      "    \"compression_rate\": 1.020036830166655,\n",
      "    \"accepted\": true\n",
      "}\n",
      "2025-03-29 17:50:17,334 - MainProcess - INFO - Compressing to:features.0:(2, 48), features.3:(48, 124), features.6:(144, 288), features.8:(288, 192), features.10:(192, 166)\n",
      "2025-03-29 17:50:21,913 - MainProcess - INFO - finetuning:features.0:(2, 48), features.3:(48, 124), features.6:(144, 288), features.8:(288, 192), features.10:(192, 166)\n",
      "2025-03-29 17:51:09,060 - MainProcess - INFO - compressed_model:\n",
      "{\n",
      "    \"config_str\": \"features.0:(2, 48), features.3:(48, 134), features.6:(144, 249), features.8:(288, 166), features.10:(192, 166)\",\n",
      "    \"params\": 55898473,\n",
      "    \"flops\": 333623360,\n",
      "    \"accuracy\": 0.99,\n",
      "    \"inference_time\": 0.16284812990014466,\n",
      "    \"compression_rate\": 1.0205074832723964,\n",
      "    \"accepted\": true\n",
      "}\n",
      "2025-03-29 17:51:09,069 - MainProcess - INFO - Compressing to:features.0:(2, 48), features.3:(48, 124), features.6:(144, 288), features.8:(288, 179), features.10:(192, 192)\n",
      "2025-03-29 17:51:13,558 - MainProcess - INFO - finetuning:features.0:(2, 48), features.3:(48, 124), features.6:(144, 288), features.8:(288, 179), features.10:(192, 192)\n"
     ]
    },
    {
     "name": "stdout",
     "output_type": "stream",
     "text": [
      "Epoch 1/3, Loss: 0.3145\n",
      "Epoch 3/3, Loss: 0.0399\n",
      "Epoch 1/3, Loss: 0.3173\n"
     ]
    },
    {
     "name": "stderr",
     "output_type": "stream",
     "text": [
      "2025-03-29 17:53:57,753 - MainProcess - INFO - compressed_model:\n",
      "{\n",
      "    \"config_str\": \"features.0:(2, 48), features.3:(48, 124), features.6:(144, 288), features.8:(288, 192), features.10:(192, 192)\",\n",
      "    \"params\": 56019945,\n",
      "    \"flops\": 354152128,\n",
      "    \"accuracy\": 0.9896,\n",
      "    \"inference_time\": 0.17022920211662407,\n",
      "    \"compression_rate\": 1.0182946448804975,\n",
      "    \"accepted\": true\n",
      "}\n",
      "2025-03-29 17:53:57,765 - MainProcess - INFO - Compressing to:features.0:(2, 48), features.3:(48, 124), features.6:(144, 288), features.8:(288, 179), features.10:(192, 179)\n"
     ]
    },
    {
     "name": "stdout",
     "output_type": "stream",
     "text": [
      "Epoch 1/3, Loss: 0.3242\n"
     ]
    },
    {
     "name": "stderr",
     "output_type": "stream",
     "text": [
      "2025-03-29 17:54:02,234 - MainProcess - INFO - finetuning:features.0:(2, 48), features.3:(48, 124), features.6:(144, 288), features.8:(288, 179), features.10:(192, 179)\n"
     ]
    },
    {
     "name": "stdout",
     "output_type": "stream",
     "text": [
      "Epoch 2/3, Loss: 0.0523\n",
      "Epoch 2/3, Loss: 0.0524\n",
      "Epoch 2/3, Loss: 0.0533\n",
      "Epoch 1/3, Loss: 0.3263\n",
      "Epoch 3/3, Loss: 0.0398\n",
      "Epoch 3/3, Loss: 0.0391\n"
     ]
    },
    {
     "name": "stderr",
     "output_type": "stream",
     "text": [
      "2025-03-29 17:59:27,617 - MainProcess - INFO - compressed_model:\n",
      "{\n",
      "    \"config_str\": \"features.0:(2, 48), features.3:(48, 124), features.6:(144, 288), features.8:(288, 192), features.10:(192, 179)\",\n",
      "    \"params\": 55994153,\n",
      "    \"flops\": 349793280,\n",
      "    \"accuracy\": 0.9903,\n",
      "    \"inference_time\": 0.17945672144555744,\n",
      "    \"compression_rate\": 1.0187636912732656,\n",
      "    \"accepted\": true\n",
      "}\n",
      "2025-03-29 17:59:27,630 - MainProcess - INFO - Compressing to:features.0:(2, 48), features.3:(48, 124), features.6:(144, 288), features.8:(288, 179), features.10:(192, 166)\n",
      "2025-03-29 17:59:32,595 - MainProcess - INFO - finetuning:features.0:(2, 48), features.3:(48, 124), features.6:(144, 288), features.8:(288, 179), features.10:(192, 166)\n"
     ]
    },
    {
     "name": "stdout",
     "output_type": "stream",
     "text": [
      "Epoch 3/3, Loss: 0.0397\n",
      "Epoch 2/3, Loss: 0.0513\n"
     ]
    },
    {
     "name": "stderr",
     "output_type": "stream",
     "text": [
      "2025-03-29 18:00:25,203 - MainProcess - INFO - compressed_model:\n",
      "{\n",
      "    \"config_str\": \"features.0:(2, 48), features.3:(48, 124), features.6:(144, 288), features.8:(288, 192), features.10:(192, 166)\",\n",
      "    \"params\": 55968361,\n",
      "    \"flops\": 388131136,\n",
      "    \"accuracy\": 0.9885,\n",
      "    \"inference_time\": 0.16420634233268203,\n",
      "    \"compression_rate\": 1.0192331699690116,\n",
      "    \"accepted\": true\n",
      "}\n",
      "2025-03-29 18:00:25,212 - MainProcess - INFO - Compressing to:features.0:(2, 48), features.3:(48, 124), features.6:(144, 288), features.8:(288, 166), features.10:(192, 192)\n",
      "2025-03-29 18:00:29,896 - MainProcess - INFO - finetuning:features.0:(2, 48), features.3:(48, 124), features.6:(144, 288), features.8:(288, 166), features.10:(192, 192)\n",
      "2025-03-29 18:01:20,312 - MainProcess - INFO - compressed_model:\n",
      "{\n",
      "    \"config_str\": \"features.0:(2, 48), features.3:(48, 124), features.6:(144, 288), features.8:(288, 179), features.10:(192, 192)\",\n",
      "    \"params\": 55985001,\n",
      "    \"flops\": 404517440,\n",
      "    \"accuracy\": 0.9914,\n",
      "    \"inference_time\": 0.16441655209616238,\n",
      "    \"compression_rate\": 1.0189302309738282,\n",
      "    \"accepted\": true\n",
      "}\n",
      "2025-03-29 18:01:20,323 - MainProcess - INFO - Compressing to:features.0:(2, 48), features.3:(48, 124), features.6:(144, 288), features.8:(288, 166), features.10:(192, 179)\n",
      "2025-03-29 18:01:24,836 - MainProcess - INFO - finetuning:features.0:(2, 48), features.3:(48, 124), features.6:(144, 288), features.8:(288, 166), features.10:(192, 179)\n"
     ]
    },
    {
     "name": "stdout",
     "output_type": "stream",
     "text": [
      "Epoch 1/3, Loss: 0.3300\n",
      "Epoch 3/3, Loss: 0.0402\n",
      "Epoch 1/3, Loss: 0.3096\n",
      "Epoch 1/3, Loss: 0.3207\n"
     ]
    },
    {
     "name": "stderr",
     "output_type": "stream",
     "text": [
      "2025-03-29 18:04:30,048 - MainProcess - INFO - compressed_model:\n",
      "{\n",
      "    \"config_str\": \"features.0:(2, 48), features.3:(48, 124), features.6:(144, 288), features.8:(288, 179), features.10:(192, 179)\",\n",
      "    \"params\": 55959209,\n",
      "    \"flops\": 343887744,\n",
      "    \"accuracy\": 0.9894,\n",
      "    \"inference_time\": 0.170154142784718,\n",
      "    \"compression_rate\": 1.0193998632110757,\n",
      "    \"accepted\": true\n",
      "}\n",
      "2025-03-29 18:04:30,060 - MainProcess - INFO - Compressing to:features.0:(2, 48), features.3:(48, 124), features.6:(144, 288), features.8:(288, 166), features.10:(192, 166)\n",
      "2025-03-29 18:04:34,690 - MainProcess - INFO - finetuning:features.0:(2, 48), features.3:(48, 124), features.6:(144, 288), features.8:(288, 166), features.10:(192, 166)\n"
     ]
    },
    {
     "name": "stdout",
     "output_type": "stream",
     "text": [
      "Epoch 2/3, Loss: 0.0533\n",
      "Epoch 2/3, Loss: 0.0530\n",
      "Epoch 2/3, Loss: 0.0539\n",
      "Epoch 1/3, Loss: 0.3288\n",
      "Epoch 3/3, Loss: 0.0392\n",
      "Epoch 3/3, Loss: 0.0398\n",
      "Epoch 3/3, Loss: 0.0402\n"
     ]
    },
    {
     "name": "stderr",
     "output_type": "stream",
     "text": [
      "2025-03-29 18:10:24,826 - MainProcess - INFO - compressed_model:\n",
      "{\n",
      "    \"config_str\": \"features.0:(2, 48), features.3:(48, 124), features.6:(144, 288), features.8:(288, 179), features.10:(192, 166)\",\n",
      "    \"params\": 55933417,\n",
      "    \"flops\": 339528896,\n",
      "    \"accuracy\": 0.9865,\n",
      "    \"inference_time\": 0.18231977373677963,\n",
      "    \"compression_rate\": 1.0198699285616681,\n",
      "    \"accepted\": true\n",
      "}\n",
      "2025-03-29 18:10:24,839 - MainProcess - INFO - Compressing to:features.0:(2, 48), features.3:(48, 124), features.6:(144, 268), features.8:(288, 192), features.10:(192, 192)\n",
      "2025-03-29 18:10:24,839 - MainProcess - INFO - Evaluated 60 configurations, found 60 accepted models\n"
     ]
    },
    {
     "name": "stdout",
     "output_type": "stream",
     "text": [
      "Epoch 2/3, Loss: 0.0531\n"
     ]
    },
    {
     "name": "stderr",
     "output_type": "stream",
     "text": [
      "2025-03-29 18:10:29,672 - MainProcess - INFO - finetuning:features.0:(2, 48), features.3:(48, 124), features.6:(144, 268), features.8:(288, 192), features.10:(192, 192)\n",
      "2025-03-29 18:10:34,931 - MainProcess - INFO - compressed_model:\n",
      "{\n",
      "    \"config_str\": \"features.0:(2, 48), features.3:(48, 124), features.6:(144, 288), features.8:(288, 166), features.10:(192, 192)\",\n",
      "    \"params\": 55950057,\n",
      "    \"flops\": 389191104,\n",
      "    \"accuracy\": 0.9901,\n",
      "    \"inference_time\": 0.16790678242968907,\n",
      "    \"compression_rate\": 1.019566610986652,\n",
      "    \"accepted\": true\n",
      "}\n",
      "2025-03-29 18:10:34,937 - MainProcess - INFO - Compressing to:features.0:(2, 48), features.3:(48, 124), features.6:(144, 268), features.8:(288, 192), features.10:(192, 179)\n",
      "2025-03-29 18:10:39,852 - MainProcess - INFO - finetuning:features.0:(2, 48), features.3:(48, 124), features.6:(144, 268), features.8:(288, 192), features.10:(192, 179)\n",
      "2025-03-29 18:11:35,134 - MainProcess - INFO - compressed_model:\n",
      "{\n",
      "    \"config_str\": \"features.0:(2, 48), features.3:(48, 124), features.6:(144, 288), features.8:(288, 166), features.10:(192, 179)\",\n",
      "    \"params\": 55924265,\n",
      "    \"flops\": 337982208,\n",
      "    \"accuracy\": 0.9897,\n",
      "    \"inference_time\": 0.16681178714565917,\n",
      "    \"compression_rate\": 1.020036830166655,\n",
      "    \"accepted\": true\n",
      "}\n",
      "2025-03-29 18:11:35,151 - MainProcess - INFO - Compressing to:features.0:(2, 48), features.3:(48, 124), features.6:(144, 268), features.8:(288, 192), features.10:(192, 166)\n",
      "2025-03-29 18:11:39,737 - MainProcess - INFO - finetuning:features.0:(2, 48), features.3:(48, 124), features.6:(144, 268), features.8:(288, 192), features.10:(192, 166)\n"
     ]
    },
    {
     "name": "stdout",
     "output_type": "stream",
     "text": [
      "Epoch 3/3, Loss: 0.0395\n",
      "Epoch 1/3, Loss: 0.3202\n",
      "Epoch 1/3, Loss: 0.3158\n",
      "Epoch 1/3, Loss: 0.3239\n"
     ]
    },
    {
     "name": "stderr",
     "output_type": "stream",
     "text": [
      "2025-03-29 18:15:18,363 - MainProcess - INFO - compressed_model:\n",
      "{\n",
      "    \"config_str\": \"features.0:(2, 48), features.3:(48, 124), features.6:(144, 288), features.8:(288, 166), features.10:(192, 166)\",\n",
      "    \"params\": 55898473,\n",
      "    \"flops\": 333623360,\n",
      "    \"accuracy\": 0.9897,\n",
      "    \"inference_time\": 0.1754004256740497,\n",
      "    \"compression_rate\": 1.0205074832723964,\n",
      "    \"accepted\": true\n",
      "}\n",
      "2025-03-29 18:15:18,380 - MainProcess - INFO - Compressing to:features.0:(2, 48), features.3:(48, 124), features.6:(144, 268), features.8:(288, 179), features.10:(192, 192)\n",
      "2025-03-29 18:15:23,590 - MainProcess - INFO - finetuning:features.0:(2, 48), features.3:(48, 124), features.6:(144, 268), features.8:(288, 179), features.10:(192, 192)\n"
     ]
    },
    {
     "name": "stdout",
     "output_type": "stream",
     "text": [
      "Epoch 2/3, Loss: 0.0537\n",
      "Epoch 2/3, Loss: 0.0532\n",
      "Epoch 2/3, Loss: 0.0535\n",
      "Epoch 1/3, Loss: 0.3234\n",
      "Epoch 3/3, Loss: 0.0403\n",
      "Epoch 3/3, Loss: 0.0386\n",
      "Epoch 3/3, Loss: 0.0396\n"
     ]
    },
    {
     "name": "stderr",
     "output_type": "stream",
     "text": [
      "2025-03-29 18:22:22,714 - MainProcess - INFO - compressed_model:\n",
      "{\n",
      "    \"config_str\": \"features.0:(2, 48), features.3:(48, 124), features.6:(144, 268), features.8:(288, 192), features.10:(192, 179)\",\n",
      "    \"params\": 55994153,\n",
      "    \"flops\": 349793280,\n",
      "    \"accuracy\": 0.9903,\n",
      "    \"inference_time\": 0.20501208609076824,\n",
      "    \"compression_rate\": 1.0187636912732656,\n",
      "    \"accepted\": true\n",
      "}\n",
      "2025-03-29 18:22:22,725 - MainProcess - INFO - Compressing to:features.0:(2, 48), features.3:(48, 124), features.6:(144, 268), features.8:(288, 179), features.10:(192, 179)\n",
      "2025-03-29 18:22:28,338 - MainProcess - INFO - finetuning:features.0:(2, 48), features.3:(48, 124), features.6:(144, 268), features.8:(288, 179), features.10:(192, 179)\n"
     ]
    },
    {
     "name": "stdout",
     "output_type": "stream",
     "text": [
      "Epoch 2/3, Loss: 0.0528\n"
     ]
    },
    {
     "name": "stderr",
     "output_type": "stream",
     "text": [
      "2025-03-29 18:22:44,750 - MainProcess - INFO - compressed_model:\n",
      "{\n",
      "    \"config_str\": \"features.0:(2, 48), features.3:(48, 124), features.6:(144, 268), features.8:(288, 192), features.10:(192, 192)\",\n",
      "    \"params\": 56019945,\n",
      "    \"flops\": 354152128,\n",
      "    \"accuracy\": 0.9886,\n",
      "    \"inference_time\": 0.22432472599539788,\n",
      "    \"compression_rate\": 1.0182946448804975,\n",
      "    \"accepted\": true\n",
      "}\n",
      "2025-03-29 18:22:44,761 - MainProcess - INFO - Compressing to:features.0:(2, 48), features.3:(48, 124), features.6:(144, 268), features.8:(288, 179), features.10:(192, 166)\n",
      "2025-03-29 18:22:51,814 - MainProcess - INFO - finetuning:features.0:(2, 48), features.3:(48, 124), features.6:(144, 268), features.8:(288, 179), features.10:(192, 166)\n",
      "2025-03-29 18:22:52,077 - MainProcess - ERROR - Error processing config: {'features.0': (2, 48), 'features.3': (48, 124), 'features.6': (144, 268), 'features.8': (288, 179), 'features.10': (192, 166)}. Error: CUDA out of memory. Tried to allocate 144.00 MiB. GPU 0 has a total capacity of 47.54 GiB of which 101.12 MiB is free. Including non-PyTorch memory, this process has 24.83 GiB memory in use. Process 3930001 has 7.39 GiB memory in use. Process 3347806 has 15.19 GiB memory in use. Of the allocated memory 24.17 GiB is allocated by PyTorch, and 296.60 MiB is reserved by PyTorch but unallocated. If reserved but unallocated memory is large try setting PYTORCH_CUDA_ALLOC_CONF=expandable_segments:True to avoid fragmentation.  See documentation for Memory Management  (https://pytorch.org/docs/stable/notes/cuda.html#environment-variables)\n",
      "2025-03-29 18:22:52,090 - MainProcess - INFO - Compressing to:features.0:(2, 48), features.3:(48, 124), features.6:(144, 268), features.8:(288, 166), features.10:(192, 192)\n",
      "2025-03-29 18:22:58,166 - MainProcess - INFO - finetuning:features.0:(2, 48), features.3:(48, 124), features.6:(144, 268), features.8:(288, 166), features.10:(192, 192)\n",
      "2025-03-29 18:23:44,800 - MainProcess - INFO - compressed_model:\n",
      "{\n",
      "    \"config_str\": \"features.0:(2, 48), features.3:(48, 124), features.6:(144, 268), features.8:(288, 192), features.10:(192, 166)\",\n",
      "    \"params\": 55968361,\n",
      "    \"flops\": 345434432,\n",
      "    \"accuracy\": 0.9898,\n",
      "    \"inference_time\": 0.20262008968685338,\n",
      "    \"compression_rate\": 1.0192331699690116,\n",
      "    \"accepted\": true\n",
      "}\n",
      "2025-03-29 18:23:44,820 - MainProcess - INFO - Compressing to:features.0:(2, 48), features.3:(48, 124), features.6:(144, 268), features.8:(288, 166), features.10:(192, 179)\n",
      "2025-03-29 18:23:51,616 - MainProcess - INFO - finetuning:features.0:(2, 48), features.3:(48, 124), features.6:(144, 268), features.8:(288, 166), features.10:(192, 179)\n"
     ]
    },
    {
     "name": "stdout",
     "output_type": "stream",
     "text": [
      "Epoch 1/3, Loss: 0.3138\n",
      "Epoch 3/3, Loss: 0.0399\n",
      "Epoch 1/3, Loss: 0.3156\n",
      "Epoch 1/3, Loss: 0.3110\n"
     ]
    },
    {
     "name": "stderr",
     "output_type": "stream",
     "text": [
      "2025-03-29 18:28:13,018 - MainProcess - INFO - compressed_model:\n",
      "{\n",
      "    \"config_str\": \"features.0:(2, 48), features.3:(48, 124), features.6:(144, 268), features.8:(288, 179), features.10:(192, 192)\",\n",
      "    \"params\": 55985001,\n",
      "    \"flops\": 348246592,\n",
      "    \"accuracy\": 0.9899,\n",
      "    \"inference_time\": 0.19700018564860025,\n",
      "    \"compression_rate\": 1.0189302309738282,\n",
      "    \"accepted\": true\n",
      "}\n",
      "2025-03-29 18:28:13,030 - MainProcess - INFO - Compressing to:features.0:(2, 48), features.3:(48, 124), features.6:(144, 268), features.8:(288, 166), features.10:(192, 166)\n",
      "2025-03-29 18:28:19,126 - MainProcess - INFO - finetuning:features.0:(2, 48), features.3:(48, 124), features.6:(144, 268), features.8:(288, 166), features.10:(192, 166)\n"
     ]
    },
    {
     "name": "stdout",
     "output_type": "stream",
     "text": [
      "Epoch 2/3, Loss: 0.0528\n",
      "Epoch 2/3, Loss: 0.0530\n",
      "Epoch 2/3, Loss: 0.0522\n",
      "Epoch 1/3, Loss: 0.3198\n",
      "Epoch 3/3, Loss: 0.0392\n",
      "Epoch 3/3, Loss: 0.0396\n",
      "Epoch 3/3, Loss: 0.0396\n"
     ]
    },
    {
     "name": "stderr",
     "output_type": "stream",
     "text": [
      "2025-03-29 18:34:33,855 - MainProcess - INFO - compressed_model:\n",
      "{\n",
      "    \"config_str\": \"features.0:(2, 48), features.3:(48, 124), features.6:(144, 268), features.8:(288, 179), features.10:(192, 179)\",\n",
      "    \"params\": 55959209,\n",
      "    \"flops\": 399896448,\n",
      "    \"accuracy\": 0.99,\n",
      "    \"inference_time\": 0.17250406666166462,\n",
      "    \"compression_rate\": 1.0193998632110757,\n",
      "    \"accepted\": true\n",
      "}\n",
      "2025-03-29 18:34:33,865 - MainProcess - INFO - Compressing to:features.0:(2, 48), features.3:(48, 124), features.6:(144, 249), features.8:(288, 192), features.10:(192, 192)\n",
      "2025-03-29 18:34:39,214 - MainProcess - INFO - finetuning:features.0:(2, 48), features.3:(48, 124), features.6:(144, 249), features.8:(288, 192), features.10:(192, 192)\n"
     ]
    },
    {
     "name": "stdout",
     "output_type": "stream",
     "text": [
      "Epoch 2/3, Loss: 0.0515\n"
     ]
    },
    {
     "name": "stderr",
     "output_type": "stream",
     "text": [
      "2025-03-29 18:35:35,279 - MainProcess - INFO - compressed_model:\n",
      "{\n",
      "    \"config_str\": \"features.0:(2, 48), features.3:(48, 124), features.6:(144, 268), features.8:(288, 166), features.10:(192, 192)\",\n",
      "    \"params\": 55950057,\n",
      "    \"flops\": 342341056,\n",
      "    \"accuracy\": 0.9906,\n",
      "    \"inference_time\": 0.19654162117376953,\n",
      "    \"compression_rate\": 1.019566610986652,\n",
      "    \"accepted\": true\n",
      "}\n",
      "2025-03-29 18:35:35,288 - MainProcess - INFO - Compressing to:features.0:(2, 48), features.3:(48, 124), features.6:(144, 249), features.8:(288, 192), features.10:(192, 179)\n",
      "2025-03-29 18:35:40,715 - MainProcess - INFO - finetuning:features.0:(2, 48), features.3:(48, 124), features.6:(144, 249), features.8:(288, 192), features.10:(192, 179)\n",
      "2025-03-29 18:35:43,158 - MainProcess - INFO - compressed_model:\n",
      "{\n",
      "    \"config_str\": \"features.0:(2, 48), features.3:(48, 124), features.6:(144, 268), features.8:(288, 166), features.10:(192, 179)\",\n",
      "    \"params\": 55924265,\n",
      "    \"flops\": 337982208,\n",
      "    \"accuracy\": 0.9902,\n",
      "    \"inference_time\": 0.17004992349385709,\n",
      "    \"compression_rate\": 1.020036830166655,\n",
      "    \"accepted\": true\n",
      "}\n",
      "2025-03-29 18:35:43,174 - MainProcess - INFO - Compressing to:features.0:(2, 48), features.3:(48, 124), features.6:(144, 249), features.8:(288, 192), features.10:(192, 166)\n",
      "2025-03-29 18:35:43,174 - MainProcess - INFO - Evaluated 70 configurations, found 70 accepted models\n",
      "2025-03-29 18:35:48,258 - MainProcess - INFO - finetuning:features.0:(2, 48), features.3:(48, 124), features.6:(144, 249), features.8:(288, 192), features.10:(192, 166)\n"
     ]
    },
    {
     "name": "stdout",
     "output_type": "stream",
     "text": [
      "Epoch 1/3, Loss: 0.3266\n",
      "Epoch 3/3, Loss: 0.0413\n",
      "Epoch 1/3, Loss: 0.3223\n",
      "Epoch 1/3, Loss: 0.3240\n"
     ]
    },
    {
     "name": "stderr",
     "output_type": "stream",
     "text": [
      "2025-03-29 18:40:05,917 - MainProcess - INFO - compressed_model:\n",
      "{\n",
      "    \"config_str\": \"features.0:(2, 48), features.3:(48, 124), features.6:(144, 268), features.8:(288, 166), features.10:(192, 166)\",\n",
      "    \"params\": 55898473,\n",
      "    \"flops\": 333623360,\n",
      "    \"accuracy\": 0.9905,\n",
      "    \"inference_time\": 0.1766336252734919,\n",
      "    \"compression_rate\": 1.0205074832723964,\n",
      "    \"accepted\": true\n",
      "}\n",
      "2025-03-29 18:40:05,934 - MainProcess - INFO - Compressing to:features.0:(2, 48), features.3:(48, 124), features.6:(144, 249), features.8:(288, 179), features.10:(192, 192)\n",
      "2025-03-29 18:40:11,163 - MainProcess - INFO - finetuning:features.0:(2, 48), features.3:(48, 124), features.6:(144, 249), features.8:(288, 179), features.10:(192, 192)\n"
     ]
    },
    {
     "name": "stdout",
     "output_type": "stream",
     "text": [
      "Epoch 2/3, Loss: 0.0520\n",
      "Epoch 2/3, Loss: 0.0528\n",
      "Epoch 2/3, Loss: 0.0542\n",
      "Epoch 1/3, Loss: 0.3202\n",
      "Epoch 3/3, Loss: 0.0401\n",
      "Epoch 3/3, Loss: 0.0398\n",
      "Epoch 3/3, Loss: 0.0407\n"
     ]
    },
    {
     "name": "stderr",
     "output_type": "stream",
     "text": [
      "2025-03-29 18:45:39,682 - MainProcess - INFO - compressed_model:\n",
      "{\n",
      "    \"config_str\": \"features.0:(2, 48), features.3:(48, 124), features.6:(144, 249), features.8:(288, 192), features.10:(192, 192)\",\n",
      "    \"params\": 56019945,\n",
      "    \"flops\": 354152128,\n",
      "    \"accuracy\": 0.9891,\n",
      "    \"inference_time\": 0.17151548705536343,\n",
      "    \"compression_rate\": 1.0182946448804975,\n",
      "    \"accepted\": true\n",
      "}\n",
      "2025-03-29 18:45:39,693 - MainProcess - INFO - Compressing to:features.0:(2, 48), features.3:(48, 124), features.6:(144, 249), features.8:(288, 179), features.10:(192, 179)\n",
      "2025-03-29 18:45:44,902 - MainProcess - INFO - finetuning:features.0:(2, 48), features.3:(48, 124), features.6:(144, 249), features.8:(288, 179), features.10:(192, 179)\n"
     ]
    },
    {
     "name": "stdout",
     "output_type": "stream",
     "text": [
      "Epoch 2/3, Loss: 0.0530\n"
     ]
    },
    {
     "name": "stderr",
     "output_type": "stream",
     "text": [
      "2025-03-29 18:46:53,309 - MainProcess - INFO - compressed_model:\n",
      "{\n",
      "    \"config_str\": \"features.0:(2, 48), features.3:(48, 124), features.6:(144, 249), features.8:(288, 192), features.10:(192, 166)\",\n",
      "    \"params\": 55968361,\n",
      "    \"flops\": 345434432,\n",
      "    \"accuracy\": 0.9889,\n",
      "    \"inference_time\": 0.1711364728883067,\n",
      "    \"compression_rate\": 1.0192331699690116,\n",
      "    \"accepted\": true\n",
      "}\n",
      "2025-03-29 18:46:53,313 - MainProcess - INFO - Compressing to:features.0:(2, 48), features.3:(48, 124), features.6:(144, 249), features.8:(288, 179), features.10:(192, 166)\n",
      "2025-03-29 18:46:58,367 - MainProcess - INFO - finetuning:features.0:(2, 48), features.3:(48, 124), features.6:(144, 249), features.8:(288, 179), features.10:(192, 166)\n",
      "2025-03-29 18:47:17,338 - MainProcess - INFO - compressed_model:\n",
      "{\n",
      "    \"config_str\": \"features.0:(2, 48), features.3:(48, 124), features.6:(144, 249), features.8:(288, 192), features.10:(192, 179)\",\n",
      "    \"params\": 55994153,\n",
      "    \"flops\": 349793280,\n",
      "    \"accuracy\": 0.9911,\n",
      "    \"inference_time\": 0.18567912998725908,\n",
      "    \"compression_rate\": 1.0187636912732656,\n",
      "    \"accepted\": true\n",
      "}\n",
      "2025-03-29 18:47:17,347 - MainProcess - INFO - Compressing to:features.0:(2, 48), features.3:(48, 124), features.6:(144, 249), features.8:(288, 166), features.10:(192, 192)\n",
      "2025-03-29 18:47:22,569 - MainProcess - INFO - finetuning:features.0:(2, 48), features.3:(48, 124), features.6:(144, 249), features.8:(288, 166), features.10:(192, 192)\n"
     ]
    },
    {
     "name": "stdout",
     "output_type": "stream",
     "text": [
      "Epoch 1/3, Loss: 0.3244\n",
      "Epoch 3/3, Loss: 0.0395\n",
      "Epoch 1/3, Loss: 0.3216\n",
      "Epoch 1/3, Loss: 0.3130\n"
     ]
    },
    {
     "name": "stderr",
     "output_type": "stream",
     "text": [
      "2025-03-29 18:51:33,339 - MainProcess - INFO - compressed_model:\n",
      "{\n",
      "    \"config_str\": \"features.0:(2, 48), features.3:(48, 124), features.6:(144, 249), features.8:(288, 179), features.10:(192, 192)\",\n",
      "    \"params\": 55985001,\n",
      "    \"flops\": 348246592,\n",
      "    \"accuracy\": 0.9896,\n",
      "    \"inference_time\": 0.17864101910034305,\n",
      "    \"compression_rate\": 1.0189302309738282,\n",
      "    \"accepted\": true\n",
      "}\n",
      "2025-03-29 18:51:33,353 - MainProcess - INFO - Compressing to:features.0:(2, 48), features.3:(48, 124), features.6:(144, 249), features.8:(288, 166), features.10:(192, 179)\n",
      "2025-03-29 18:51:38,563 - MainProcess - INFO - finetuning:features.0:(2, 48), features.3:(48, 124), features.6:(144, 249), features.8:(288, 166), features.10:(192, 179)\n"
     ]
    },
    {
     "name": "stdout",
     "output_type": "stream",
     "text": [
      "Epoch 2/3, Loss: 0.0537\n",
      "Epoch 2/3, Loss: 0.0522\n",
      "Epoch 2/3, Loss: 0.0529\n",
      "Epoch 1/3, Loss: 0.3173\n",
      "Epoch 3/3, Loss: 0.0412\n",
      "Epoch 3/3, Loss: 0.0393\n"
     ]
    },
    {
     "name": "stderr",
     "output_type": "stream",
     "text": [
      "2025-03-29 18:56:23,738 - MainProcess - INFO - compressed_model:\n",
      "{\n",
      "    \"config_str\": \"features.0:(2, 48), features.3:(48, 124), features.6:(144, 249), features.8:(288, 179), features.10:(192, 179)\",\n",
      "    \"params\": 55959209,\n",
      "    \"flops\": 343887744,\n",
      "    \"accuracy\": 0.9899,\n",
      "    \"inference_time\": 0.15356211297830957,\n",
      "    \"compression_rate\": 1.0193998632110757,\n",
      "    \"accepted\": true\n",
      "}\n",
      "2025-03-29 18:56:23,747 - MainProcess - INFO - Compressing to:features.0:(2, 48), features.3:(48, 124), features.6:(144, 249), features.8:(288, 166), features.10:(192, 166)\n",
      "2025-03-29 18:56:28,134 - MainProcess - INFO - finetuning:features.0:(2, 48), features.3:(48, 124), features.6:(144, 249), features.8:(288, 166), features.10:(192, 166)\n"
     ]
    },
    {
     "name": "stdout",
     "output_type": "stream",
     "text": [
      "Epoch 3/3, Loss: 0.0393\n",
      "Epoch 2/3, Loss: 0.0527\n"
     ]
    },
    {
     "name": "stderr",
     "output_type": "stream",
     "text": [
      "2025-03-29 18:57:35,831 - MainProcess - INFO - compressed_model:\n",
      "{\n",
      "    \"config_str\": \"features.0:(2, 48), features.3:(48, 124), features.6:(144, 249), features.8:(288, 179), features.10:(192, 166)\",\n",
      "    \"params\": 55933417,\n",
      "    \"flops\": 339528896,\n",
      "    \"accuracy\": 0.9911,\n",
      "    \"inference_time\": 0.1583163009327688,\n",
      "    \"compression_rate\": 1.0198699285616681,\n",
      "    \"accepted\": true\n",
      "}\n",
      "2025-03-29 18:57:35,838 - MainProcess - INFO - Compressing to:features.0:(2, 44), features.3:(48, 144), features.6:(144, 288), features.8:(288, 192), features.10:(192, 192)\n",
      "2025-03-29 18:57:40,019 - MainProcess - INFO - finetuning:features.0:(2, 44), features.3:(48, 144), features.6:(144, 288), features.8:(288, 192), features.10:(192, 192)\n",
      "2025-03-29 18:58:24,567 - MainProcess - INFO - compressed_model:\n",
      "{\n",
      "    \"config_str\": \"features.0:(2, 48), features.3:(48, 124), features.6:(144, 249), features.8:(288, 166), features.10:(192, 192)\",\n",
      "    \"params\": 55950057,\n",
      "    \"flops\": 342341056,\n",
      "    \"accuracy\": 0.9895,\n",
      "    \"inference_time\": 0.1723343556600518,\n",
      "    \"compression_rate\": 1.019566610986652,\n",
      "    \"accepted\": true\n",
      "}\n",
      "2025-03-29 18:58:24,572 - MainProcess - INFO - Compressing to:features.0:(2, 44), features.3:(48, 144), features.6:(144, 288), features.8:(288, 192), features.10:(192, 179)\n",
      "2025-03-29 18:58:29,148 - MainProcess - INFO - finetuning:features.0:(2, 44), features.3:(48, 144), features.6:(144, 288), features.8:(288, 192), features.10:(192, 179)\n"
     ]
    },
    {
     "name": "stdout",
     "output_type": "stream",
     "text": [
      "Epoch 1/3, Loss: 0.3204\n",
      "Epoch 3/3, Loss: 0.0393\n",
      "Epoch 1/3, Loss: 0.3125\n",
      "Epoch 1/3, Loss: 0.3246\n"
     ]
    },
    {
     "name": "stderr",
     "output_type": "stream",
     "text": [
      "2025-03-29 19:02:01,324 - MainProcess - INFO - compressed_model:\n",
      "{\n",
      "    \"config_str\": \"features.0:(2, 48), features.3:(48, 124), features.6:(144, 249), features.8:(288, 166), features.10:(192, 179)\",\n",
      "    \"params\": 55924265,\n",
      "    \"flops\": 394253056,\n",
      "    \"accuracy\": 0.9892,\n",
      "    \"inference_time\": 0.159848694588728,\n",
      "    \"compression_rate\": 1.020036830166655,\n",
      "    \"accepted\": true\n",
      "}\n",
      "2025-03-29 19:02:01,347 - MainProcess - INFO - Compressing to:features.0:(2, 44), features.3:(48, 144), features.6:(144, 288), features.8:(288, 192), features.10:(192, 166)\n",
      "2025-03-29 19:02:05,675 - MainProcess - INFO - finetuning:features.0:(2, 44), features.3:(48, 144), features.6:(144, 288), features.8:(288, 192), features.10:(192, 166)\n"
     ]
    },
    {
     "name": "stdout",
     "output_type": "stream",
     "text": [
      "Epoch 2/3, Loss: 0.0537\n",
      "Epoch 2/3, Loss: 0.0524\n",
      "Epoch 2/3, Loss: 0.0528\n",
      "Epoch 1/3, Loss: 0.3303\n",
      "Epoch 3/3, Loss: 0.0395\n",
      "Epoch 3/3, Loss: 0.0386\n"
     ]
    },
    {
     "name": "stderr",
     "output_type": "stream",
     "text": [
      "2025-03-29 19:06:34,484 - MainProcess - INFO - compressed_model:\n",
      "{\n",
      "    \"config_str\": \"features.0:(2, 48), features.3:(48, 124), features.6:(144, 249), features.8:(288, 166), features.10:(192, 166)\",\n",
      "    \"params\": 55898473,\n",
      "    \"flops\": 333623360,\n",
      "    \"accuracy\": 0.9894,\n",
      "    \"inference_time\": 0.15329448078341798,\n",
      "    \"compression_rate\": 1.0205074832723964,\n",
      "    \"accepted\": true\n",
      "}\n",
      "2025-03-29 19:06:34,494 - MainProcess - INFO - Compressing to:features.0:(2, 44), features.3:(48, 144), features.6:(144, 288), features.8:(288, 179), features.10:(192, 192)\n",
      "2025-03-29 19:06:34,494 - MainProcess - INFO - Evaluated 80 configurations, found 80 accepted models\n",
      "2025-03-29 19:06:38,568 - MainProcess - INFO - finetuning:features.0:(2, 44), features.3:(48, 144), features.6:(144, 288), features.8:(288, 179), features.10:(192, 192)\n"
     ]
    },
    {
     "name": "stdout",
     "output_type": "stream",
     "text": [
      "Epoch 3/3, Loss: 0.0398\n",
      "Epoch 2/3, Loss: 0.0527\n"
     ]
    },
    {
     "name": "stderr",
     "output_type": "stream",
     "text": [
      "2025-03-29 19:07:45,579 - MainProcess - INFO - compressed_model:\n",
      "{\n",
      "    \"config_str\": \"features.0:(2, 44), features.3:(48, 144), features.6:(144, 288), features.8:(288, 192), features.10:(192, 192)\",\n",
      "    \"params\": 56019945,\n",
      "    \"flops\": 354414272,\n",
      "    \"accuracy\": 0.9884,\n",
      "    \"inference_time\": 0.15220725409797298,\n",
      "    \"compression_rate\": 1.0182946448804975,\n",
      "    \"accepted\": true\n",
      "}\n",
      "2025-03-29 19:07:45,589 - MainProcess - INFO - Compressing to:features.0:(2, 44), features.3:(48, 144), features.6:(144, 288), features.8:(288, 179), features.10:(192, 179)\n",
      "2025-03-29 19:07:49,796 - MainProcess - INFO - finetuning:features.0:(2, 44), features.3:(48, 144), features.6:(144, 288), features.8:(288, 179), features.10:(192, 179)\n",
      "2025-03-29 19:08:49,258 - MainProcess - INFO - compressed_model:\n",
      "{\n",
      "    \"config_str\": \"features.0:(2, 44), features.3:(48, 144), features.6:(144, 288), features.8:(288, 192), features.10:(192, 179)\",\n",
      "    \"params\": 55994153,\n",
      "    \"flops\": 349793280,\n",
      "    \"accuracy\": 0.9903,\n",
      "    \"inference_time\": 0.16727106485144094,\n",
      "    \"compression_rate\": 1.0187636912732656,\n",
      "    \"accepted\": true\n",
      "}\n",
      "2025-03-29 19:08:49,266 - MainProcess - INFO - Compressing to:features.0:(2, 44), features.3:(48, 144), features.6:(144, 288), features.8:(288, 179), features.10:(192, 166)\n",
      "2025-03-29 19:08:53,590 - MainProcess - INFO - finetuning:features.0:(2, 44), features.3:(48, 144), features.6:(144, 288), features.8:(288, 179), features.10:(192, 166)\n"
     ]
    },
    {
     "name": "stdout",
     "output_type": "stream",
     "text": [
      "Epoch 1/3, Loss: 0.3208\n",
      "Epoch 3/3, Loss: 0.0399\n",
      "Epoch 1/3, Loss: 0.3262\n",
      "Epoch 1/3, Loss: 0.3317\n",
      "Epoch 2/3, Loss: 0.0534\n"
     ]
    },
    {
     "name": "stderr",
     "output_type": "stream",
     "text": [
      "2025-03-29 19:12:14,663 - MainProcess - INFO - compressed_model:\n",
      "{\n",
      "    \"config_str\": \"features.0:(2, 44), features.3:(48, 144), features.6:(144, 288), features.8:(288, 192), features.10:(192, 166)\",\n",
      "    \"params\": 55968361,\n",
      "    \"flops\": 345434432,\n",
      "    \"accuracy\": 0.989,\n",
      "    \"inference_time\": 0.16261944649325813,\n",
      "    \"compression_rate\": 1.0192331699690116,\n",
      "    \"accepted\": true\n",
      "}\n",
      "2025-03-29 19:12:14,674 - MainProcess - INFO - Compressing to:features.0:(2, 44), features.3:(48, 144), features.6:(144, 288), features.8:(288, 166), features.10:(192, 192)\n",
      "2025-03-29 19:12:18,867 - MainProcess - INFO - finetuning:features.0:(2, 44), features.3:(48, 144), features.6:(144, 288), features.8:(288, 166), features.10:(192, 192)\n"
     ]
    },
    {
     "name": "stdout",
     "output_type": "stream",
     "text": [
      "Epoch 2/3, Loss: 0.0539\n",
      "Epoch 2/3, Loss: 0.0539\n",
      "Epoch 3/3, Loss: 0.0393\n",
      "Epoch 1/3, Loss: 0.3164\n",
      "Epoch 3/3, Loss: 0.0398\n"
     ]
    },
    {
     "name": "stderr",
     "output_type": "stream",
     "text": [
      "2025-03-29 19:16:37,437 - MainProcess - INFO - compressed_model:\n",
      "{\n",
      "    \"config_str\": \"features.0:(2, 44), features.3:(48, 144), features.6:(144, 288), features.8:(288, 179), features.10:(192, 192)\",\n",
      "    \"params\": 55985001,\n",
      "    \"flops\": 348246592,\n",
      "    \"accuracy\": 0.9902,\n",
      "    \"inference_time\": 0.1523892084757487,\n",
      "    \"compression_rate\": 1.0189302309738282,\n",
      "    \"accepted\": true\n",
      "}\n",
      "2025-03-29 19:16:37,446 - MainProcess - INFO - Compressing to:features.0:(2, 44), features.3:(48, 144), features.6:(144, 288), features.8:(288, 166), features.10:(192, 179)\n",
      "2025-03-29 19:16:41,566 - MainProcess - INFO - finetuning:features.0:(2, 44), features.3:(48, 144), features.6:(144, 288), features.8:(288, 166), features.10:(192, 179)\n"
     ]
    },
    {
     "name": "stdout",
     "output_type": "stream",
     "text": [
      "Epoch 3/3, Loss: 0.0391\n"
     ]
    },
    {
     "name": "stderr",
     "output_type": "stream",
     "text": [
      "2025-03-29 19:17:54,795 - MainProcess - INFO - compressed_model:\n",
      "{\n",
      "    \"config_str\": \"features.0:(2, 44), features.3:(48, 144), features.6:(144, 288), features.8:(288, 179), features.10:(192, 179)\",\n",
      "    \"params\": 55959209,\n",
      "    \"flops\": 399634304,\n",
      "    \"accuracy\": 0.9905,\n",
      "    \"inference_time\": 0.1527387533977533,\n",
      "    \"compression_rate\": 1.0193998632110757,\n",
      "    \"accepted\": true\n",
      "}\n",
      "2025-03-29 19:17:54,803 - MainProcess - INFO - Compressing to:features.0:(2, 44), features.3:(48, 144), features.6:(144, 288), features.8:(288, 166), features.10:(192, 166)\n",
      "2025-03-29 19:17:58,957 - MainProcess - INFO - finetuning:features.0:(2, 44), features.3:(48, 144), features.6:(144, 288), features.8:(288, 166), features.10:(192, 166)\n"
     ]
    },
    {
     "name": "stdout",
     "output_type": "stream",
     "text": [
      "Epoch 2/3, Loss: 0.0528\n"
     ]
    },
    {
     "name": "stderr",
     "output_type": "stream",
     "text": [
      "2025-03-29 19:19:14,599 - MainProcess - INFO - compressed_model:\n",
      "{\n",
      "    \"config_str\": \"features.0:(2, 44), features.3:(48, 144), features.6:(144, 288), features.8:(288, 179), features.10:(192, 166)\",\n",
      "    \"params\": 55933417,\n",
      "    \"flops\": 340643008,\n",
      "    \"accuracy\": 0.9912,\n",
      "    \"inference_time\": 0.16485004819882143,\n",
      "    \"compression_rate\": 1.0198699285616681,\n",
      "    \"accepted\": true\n",
      "}\n",
      "2025-03-29 19:19:14,612 - MainProcess - INFO - Compressing to:features.0:(2, 44), features.3:(48, 144), features.6:(144, 268), features.8:(288, 192), features.10:(192, 192)\n",
      "2025-03-29 19:19:18,939 - MainProcess - INFO - finetuning:features.0:(2, 44), features.3:(48, 144), features.6:(144, 268), features.8:(288, 192), features.10:(192, 192)\n"
     ]
    },
    {
     "name": "stdout",
     "output_type": "stream",
     "text": [
      "Epoch 1/3, Loss: 0.3197\n",
      "Epoch 1/3, Loss: 0.3217\n",
      "Epoch 3/3, Loss: 0.0391\n",
      "Epoch 1/3, Loss: 0.3109\n",
      "Epoch 2/3, Loss: 0.0534\n"
     ]
    },
    {
     "name": "stderr",
     "output_type": "stream",
     "text": [
      "2025-03-29 19:22:27,404 - MainProcess - INFO - compressed_model:\n",
      "{\n",
      "    \"config_str\": \"features.0:(2, 44), features.3:(48, 144), features.6:(144, 288), features.8:(288, 166), features.10:(192, 192)\",\n",
      "    \"params\": 55950057,\n",
      "    \"flops\": 342341056,\n",
      "    \"accuracy\": 0.9906,\n",
      "    \"inference_time\": 0.15817986628052536,\n",
      "    \"compression_rate\": 1.019566610986652,\n",
      "    \"accepted\": true\n",
      "}\n",
      "2025-03-29 19:22:27,419 - MainProcess - INFO - Compressing to:features.0:(2, 44), features.3:(48, 144), features.6:(144, 268), features.8:(288, 192), features.10:(192, 179)\n",
      "2025-03-29 19:22:31,726 - MainProcess - INFO - finetuning:features.0:(2, 44), features.3:(48, 144), features.6:(144, 268), features.8:(288, 192), features.10:(192, 179)\n"
     ]
    },
    {
     "name": "stdout",
     "output_type": "stream",
     "text": [
      "Epoch 2/3, Loss: 0.0529\n",
      "Epoch 3/3, Loss: 0.0380\n",
      "Epoch 2/3, Loss: 0.0525\n",
      "Epoch 1/3, Loss: 0.3284\n",
      "Epoch 3/3, Loss: 0.0397\n"
     ]
    },
    {
     "name": "stderr",
     "output_type": "stream",
     "text": [
      "2025-03-29 19:26:33,368 - MainProcess - INFO - compressed_model:\n",
      "{\n",
      "    \"config_str\": \"features.0:(2, 44), features.3:(48, 144), features.6:(144, 288), features.8:(288, 166), features.10:(192, 179)\",\n",
      "    \"params\": 55924265,\n",
      "    \"flops\": 337982208,\n",
      "    \"accuracy\": 0.989,\n",
      "    \"inference_time\": 0.15072731759138167,\n",
      "    \"compression_rate\": 1.020036830166655,\n",
      "    \"accepted\": true\n",
      "}\n",
      "2025-03-29 19:26:33,380 - MainProcess - INFO - Compressing to:features.0:(2, 44), features.3:(48, 144), features.6:(144, 268), features.8:(288, 192), features.10:(192, 166)\n",
      "2025-03-29 19:26:37,727 - MainProcess - INFO - finetuning:features.0:(2, 44), features.3:(48, 144), features.6:(144, 268), features.8:(288, 192), features.10:(192, 166)\n"
     ]
    },
    {
     "name": "stdout",
     "output_type": "stream",
     "text": [
      "Epoch 3/3, Loss: 0.0401\n"
     ]
    },
    {
     "name": "stderr",
     "output_type": "stream",
     "text": [
      "2025-03-29 19:27:54,058 - MainProcess - INFO - compressed_model:\n",
      "{\n",
      "    \"config_str\": \"features.0:(2, 44), features.3:(48, 144), features.6:(144, 288), features.8:(288, 166), features.10:(192, 166)\",\n",
      "    \"params\": 55898473,\n",
      "    \"flops\": 333623360,\n",
      "    \"accuracy\": 0.9908,\n",
      "    \"inference_time\": 0.14962676173815556,\n",
      "    \"compression_rate\": 1.0205074832723964,\n",
      "    \"accepted\": true\n",
      "}\n",
      "2025-03-29 19:27:54,064 - MainProcess - INFO - Compressing to:features.0:(2, 44), features.3:(48, 144), features.6:(144, 268), features.8:(288, 179), features.10:(192, 192)\n",
      "2025-03-29 19:27:58,380 - MainProcess - INFO - finetuning:features.0:(2, 44), features.3:(48, 144), features.6:(144, 268), features.8:(288, 179), features.10:(192, 192)\n"
     ]
    },
    {
     "name": "stdout",
     "output_type": "stream",
     "text": [
      "Epoch 2/3, Loss: 0.0529\n",
      "Epoch 1/3, Loss: 0.3222\n"
     ]
    },
    {
     "name": "stderr",
     "output_type": "stream",
     "text": [
      "2025-03-29 19:29:36,867 - MainProcess - INFO - compressed_model:\n",
      "{\n",
      "    \"config_str\": \"features.0:(2, 44), features.3:(48, 144), features.6:(144, 268), features.8:(288, 192), features.10:(192, 192)\",\n",
      "    \"params\": 56019945,\n",
      "    \"flops\": 354152128,\n",
      "    \"accuracy\": 0.9896,\n",
      "    \"inference_time\": 0.1681091456403145,\n",
      "    \"compression_rate\": 1.0182946448804975,\n",
      "    \"accepted\": true\n",
      "}\n",
      "2025-03-29 19:29:36,879 - MainProcess - INFO - Compressing to:features.0:(2, 44), features.3:(48, 144), features.6:(144, 268), features.8:(288, 179), features.10:(192, 179)\n",
      "2025-03-29 19:29:36,880 - MainProcess - INFO - Evaluated 90 configurations, found 90 accepted models\n",
      "2025-03-29 19:29:41,333 - MainProcess - INFO - finetuning:features.0:(2, 44), features.3:(48, 144), features.6:(144, 268), features.8:(288, 179), features.10:(192, 179)\n"
     ]
    },
    {
     "name": "stdout",
     "output_type": "stream",
     "text": [
      "Epoch 1/3, Loss: 0.3219\n",
      "Epoch 3/3, Loss: 0.0386\n",
      "Epoch 2/3, Loss: 0.0539\n",
      "Epoch 1/3, Loss: 0.3281\n"
     ]
    },
    {
     "name": "stderr",
     "output_type": "stream",
     "text": [
      "2025-03-29 19:32:38,848 - MainProcess - INFO - compressed_model:\n",
      "{\n",
      "    \"config_str\": \"features.0:(2, 44), features.3:(48, 144), features.6:(144, 268), features.8:(288, 192), features.10:(192, 179)\",\n",
      "    \"params\": 55994153,\n",
      "    \"flops\": 349793280,\n",
      "    \"accuracy\": 0.9899,\n",
      "    \"inference_time\": 0.15901658084488723,\n",
      "    \"compression_rate\": 1.0187636912732656,\n",
      "    \"accepted\": true\n",
      "}\n",
      "2025-03-29 19:32:38,856 - MainProcess - INFO - Compressing to:features.0:(2, 44), features.3:(48, 144), features.6:(144, 268), features.8:(288, 179), features.10:(192, 166)\n",
      "2025-03-29 19:32:43,156 - MainProcess - INFO - finetuning:features.0:(2, 44), features.3:(48, 144), features.6:(144, 268), features.8:(288, 179), features.10:(192, 166)\n"
     ]
    },
    {
     "name": "stdout",
     "output_type": "stream",
     "text": [
      "Epoch 2/3, Loss: 0.0529\n",
      "Epoch 3/3, Loss: 0.0392\n",
      "Epoch 2/3, Loss: 0.0531\n",
      "Epoch 1/3, Loss: 0.3183\n",
      "Epoch 3/3, Loss: 0.0390\n"
     ]
    },
    {
     "name": "stderr",
     "output_type": "stream",
     "text": [
      "2025-03-29 19:36:28,794 - MainProcess - INFO - compressed_model:\n",
      "{\n",
      "    \"config_str\": \"features.0:(2, 44), features.3:(48, 144), features.6:(144, 268), features.8:(288, 192), features.10:(192, 166)\",\n",
      "    \"params\": 55968361,\n",
      "    \"flops\": 345434432,\n",
      "    \"accuracy\": 0.9908,\n",
      "    \"inference_time\": 0.15283379534500674,\n",
      "    \"compression_rate\": 1.0192331699690116,\n",
      "    \"accepted\": true\n",
      "}\n",
      "2025-03-29 19:36:28,803 - MainProcess - INFO - Compressing to:features.0:(2, 44), features.3:(48, 144), features.6:(144, 268), features.8:(288, 166), features.10:(192, 192)\n",
      "2025-03-29 19:36:33,071 - MainProcess - INFO - finetuning:features.0:(2, 44), features.3:(48, 144), features.6:(144, 268), features.8:(288, 166), features.10:(192, 192)\n",
      "2025-03-29 19:37:53,294 - MainProcess - INFO - compressed_model:\n",
      "{\n",
      "    \"config_str\": \"features.0:(2, 44), features.3:(48, 144), features.6:(144, 268), features.8:(288, 179), features.10:(192, 192)\",\n",
      "    \"params\": 55985001,\n",
      "    \"flops\": 348246592,\n",
      "    \"accuracy\": 0.9906,\n",
      "    \"inference_time\": 0.15487526227461054,\n",
      "    \"compression_rate\": 1.0189302309738282,\n",
      "    \"accepted\": true\n",
      "}\n",
      "2025-03-29 19:37:53,301 - MainProcess - INFO - Compressing to:features.0:(2, 44), features.3:(48, 144), features.6:(144, 268), features.8:(288, 166), features.10:(192, 179)\n",
      "2025-03-29 19:37:57,523 - MainProcess - INFO - finetuning:features.0:(2, 44), features.3:(48, 144), features.6:(144, 268), features.8:(288, 166), features.10:(192, 179)\n"
     ]
    },
    {
     "name": "stdout",
     "output_type": "stream",
     "text": [
      "Epoch 3/3, Loss: 0.0396\n",
      "Epoch 2/3, Loss: 0.0525\n",
      "Epoch 1/3, Loss: 0.3153\n"
     ]
    },
    {
     "name": "stderr",
     "output_type": "stream",
     "text": [
      "2025-03-29 19:39:58,734 - MainProcess - INFO - compressed_model:\n",
      "{\n",
      "    \"config_str\": \"features.0:(2, 44), features.3:(48, 144), features.6:(144, 268), features.8:(288, 179), features.10:(192, 179)\",\n",
      "    \"params\": 55959209,\n",
      "    \"flops\": 343887744,\n",
      "    \"accuracy\": 0.9896,\n",
      "    \"inference_time\": 0.167130415100454,\n",
      "    \"compression_rate\": 1.0193998632110757,\n",
      "    \"accepted\": true\n",
      "}\n",
      "2025-03-29 19:39:58,742 - MainProcess - INFO - Compressing to:features.0:(2, 44), features.3:(48, 144), features.6:(144, 268), features.8:(288, 166), features.10:(192, 166)\n",
      "2025-03-29 19:40:03,104 - MainProcess - INFO - finetuning:features.0:(2, 44), features.3:(48, 144), features.6:(144, 268), features.8:(288, 166), features.10:(192, 166)\n"
     ]
    },
    {
     "name": "stdout",
     "output_type": "stream",
     "text": [
      "Epoch 1/3, Loss: 0.3222\n",
      "Epoch 3/3, Loss: 0.0398\n",
      "Epoch 2/3, Loss: 0.0541\n",
      "Epoch 1/3, Loss: 0.3231\n"
     ]
    },
    {
     "name": "stderr",
     "output_type": "stream",
     "text": [
      "2025-03-29 19:42:53,061 - MainProcess - INFO - compressed_model:\n",
      "{\n",
      "    \"config_str\": \"features.0:(2, 44), features.3:(48, 144), features.6:(144, 268), features.8:(288, 179), features.10:(192, 166)\",\n",
      "    \"params\": 55933417,\n",
      "    \"flops\": 339528896,\n",
      "    \"accuracy\": 0.9896,\n",
      "    \"inference_time\": 0.15911847618734762,\n",
      "    \"compression_rate\": 1.0198699285616681,\n",
      "    \"accepted\": true\n",
      "}\n",
      "2025-03-29 19:42:53,070 - MainProcess - INFO - Compressing to:features.0:(2, 44), features.3:(48, 144), features.6:(144, 249), features.8:(288, 192), features.10:(192, 192)\n",
      "2025-03-29 19:42:57,346 - MainProcess - INFO - finetuning:features.0:(2, 44), features.3:(48, 144), features.6:(144, 249), features.8:(288, 192), features.10:(192, 192)\n"
     ]
    },
    {
     "name": "stdout",
     "output_type": "stream",
     "text": [
      "Epoch 2/3, Loss: 0.0517\n",
      "Epoch 3/3, Loss: 0.0399\n",
      "Epoch 2/3, Loss: 0.0523\n",
      "Epoch 1/3, Loss: 0.3167\n",
      "Epoch 3/3, Loss: 0.0393\n"
     ]
    },
    {
     "name": "stderr",
     "output_type": "stream",
     "text": [
      "2025-03-29 19:46:29,198 - MainProcess - INFO - compressed_model:\n",
      "{\n",
      "    \"config_str\": \"features.0:(2, 44), features.3:(48, 144), features.6:(144, 268), features.8:(288, 166), features.10:(192, 192)\",\n",
      "    \"params\": 55950057,\n",
      "    \"flops\": 342341056,\n",
      "    \"accuracy\": 0.9895,\n",
      "    \"inference_time\": 0.1511998961179373,\n",
      "    \"compression_rate\": 1.019566610986652,\n",
      "    \"accepted\": true\n",
      "}\n",
      "2025-03-29 19:46:29,210 - MainProcess - INFO - Compressing to:features.0:(2, 44), features.3:(48, 144), features.6:(144, 249), features.8:(288, 192), features.10:(192, 179)\n",
      "2025-03-29 19:46:33,342 - MainProcess - INFO - finetuning:features.0:(2, 44), features.3:(48, 144), features.6:(144, 249), features.8:(288, 192), features.10:(192, 179)\n",
      "2025-03-29 19:47:50,630 - MainProcess - INFO - compressed_model:\n",
      "{\n",
      "    \"config_str\": \"features.0:(2, 44), features.3:(48, 144), features.6:(144, 268), features.8:(288, 166), features.10:(192, 179)\",\n",
      "    \"params\": 55924265,\n",
      "    \"flops\": 362763008,\n",
      "    \"accuracy\": 0.9899,\n",
      "    \"inference_time\": 0.14986139143601598,\n",
      "    \"compression_rate\": 1.020036830166655,\n",
      "    \"accepted\": true\n",
      "}\n",
      "2025-03-29 19:47:50,640 - MainProcess - INFO - Compressing to:features.0:(2, 44), features.3:(48, 144), features.6:(144, 249), features.8:(288, 192), features.10:(192, 166)\n",
      "2025-03-29 19:47:54,952 - MainProcess - INFO - finetuning:features.0:(2, 44), features.3:(48, 144), features.6:(144, 249), features.8:(288, 192), features.10:(192, 166)\n"
     ]
    },
    {
     "name": "stdout",
     "output_type": "stream",
     "text": [
      "Epoch 3/3, Loss: 0.0395\n",
      "Epoch 2/3, Loss: 0.0514\n",
      "Epoch 1/3, Loss: 0.3143\n"
     ]
    },
    {
     "name": "stderr",
     "output_type": "stream",
     "text": [
      "2025-03-29 19:50:23,230 - MainProcess - INFO - compressed_model:\n",
      "{\n",
      "    \"config_str\": \"features.0:(2, 44), features.3:(48, 144), features.6:(144, 268), features.8:(288, 166), features.10:(192, 166)\",\n",
      "    \"params\": 55898473,\n",
      "    \"flops\": 380473408,\n",
      "    \"accuracy\": 0.9904,\n",
      "    \"inference_time\": 0.17868513159944246,\n",
      "    \"compression_rate\": 1.0205074832723964,\n",
      "    \"accepted\": true\n",
      "}\n",
      "2025-03-29 19:50:23,243 - MainProcess - INFO - Compressing to:features.0:(2, 44), features.3:(48, 144), features.6:(144, 249), features.8:(288, 179), features.10:(192, 192)\n",
      "2025-03-29 19:50:29,660 - MainProcess - INFO - finetuning:features.0:(2, 44), features.3:(48, 144), features.6:(144, 249), features.8:(288, 179), features.10:(192, 192)\n",
      "2025-03-29 19:50:30,020 - MainProcess - ERROR - Error processing config: {'features.0': (2, 44), 'features.3': (48, 144), 'features.6': (144, 249), 'features.8': (288, 192), 'features.10': (192, 179)}. Error: CUDA out of memory. Tried to allocate 48.00 MiB. GPU 0 has a total capacity of 47.54 GiB of which 29.12 MiB is free. Including non-PyTorch memory, this process has 37.89 GiB memory in use. Process 3930001 has 5.97 GiB memory in use. Process 3530538 has 3.62 GiB memory in use. Of the allocated memory 36.82 GiB is allocated by PyTorch, and 724.32 MiB is reserved by PyTorch but unallocated. If reserved but unallocated memory is large try setting PYTORCH_CUDA_ALLOC_CONF=expandable_segments:True to avoid fragmentation.  See documentation for Memory Management  (https://pytorch.org/docs/stable/notes/cuda.html#environment-variables)\n",
      "2025-03-29 19:50:30,023 - MainProcess - INFO - Compressing to:features.0:(2, 44), features.3:(48, 144), features.6:(144, 249), features.8:(288, 179), features.10:(192, 179)\n",
      "2025-03-29 19:50:30,026 - MainProcess - ERROR - Error processing config: {'features.0': (2, 44), 'features.3': (48, 144), 'features.6': (144, 249), 'features.8': (288, 179), 'features.10': (192, 192)}. Error: CUDA out of memory. Tried to allocate 48.00 MiB. GPU 0 has a total capacity of 47.54 GiB of which 29.12 MiB is free. Including non-PyTorch memory, this process has 37.89 GiB memory in use. Process 3930001 has 5.97 GiB memory in use. Process 3530538 has 3.62 GiB memory in use. Of the allocated memory 36.79 GiB is allocated by PyTorch, and 758.50 MiB is reserved by PyTorch but unallocated. If reserved but unallocated memory is large try setting PYTORCH_CUDA_ALLOC_CONF=expandable_segments:True to avoid fragmentation.  See documentation for Memory Management  (https://pytorch.org/docs/stable/notes/cuda.html#environment-variables)\n",
      "2025-03-29 19:50:30,041 - MainProcess - INFO - Compressing to:features.0:(2, 44), features.3:(48, 144), features.6:(144, 249), features.8:(288, 179), features.10:(192, 166)\n",
      "2025-03-29 19:50:36,373 - MainProcess - INFO - finetuning:features.0:(2, 44), features.3:(48, 144), features.6:(144, 249), features.8:(288, 179), features.10:(192, 179)\n",
      "2025-03-29 19:50:37,507 - MainProcess - INFO - finetuning:features.0:(2, 44), features.3:(48, 144), features.6:(144, 249), features.8:(288, 179), features.10:(192, 166)\n"
     ]
    },
    {
     "name": "stdout",
     "output_type": "stream",
     "text": [
      "Epoch 1/3, Loss: 0.3245\n",
      "Epoch 3/3, Loss: 0.0398\n"
     ]
    },
    {
     "name": "stderr",
     "output_type": "stream",
     "text": [
      "2025-03-29 19:53:29,525 - MainProcess - INFO - compressed_model:\n",
      "{\n",
      "    \"config_str\": \"features.0:(2, 44), features.3:(48, 144), features.6:(144, 249), features.8:(288, 192), features.10:(192, 192)\",\n",
      "    \"params\": 56019945,\n",
      "    \"flops\": 354152128,\n",
      "    \"accuracy\": 0.9898,\n",
      "    \"inference_time\": 0.15834663223056025,\n",
      "    \"compression_rate\": 1.0182946448804975,\n",
      "    \"accepted\": true\n",
      "}\n",
      "2025-03-29 19:53:29,532 - MainProcess - INFO - Compressing to:features.0:(2, 44), features.3:(48, 144), features.6:(144, 249), features.8:(288, 166), features.10:(192, 192)\n",
      "2025-03-29 19:53:33,799 - MainProcess - INFO - finetuning:features.0:(2, 44), features.3:(48, 144), features.6:(144, 249), features.8:(288, 166), features.10:(192, 192)\n"
     ]
    },
    {
     "name": "stdout",
     "output_type": "stream",
     "text": [
      "Epoch 1/3, Loss: 0.3204\n",
      "Epoch 1/3, Loss: 0.3229\n",
      "Epoch 2/3, Loss: 0.0529\n",
      "Epoch 1/3, Loss: 0.3183\n",
      "Epoch 2/3, Loss: 0.0540\n",
      "Epoch 2/3, Loss: 0.0532\n",
      "Epoch 3/3, Loss: 0.0397\n"
     ]
    },
    {
     "name": "stderr",
     "output_type": "stream",
     "text": [
      "2025-03-29 19:58:15,981 - MainProcess - INFO - compressed_model:\n",
      "{\n",
      "    \"config_str\": \"features.0:(2, 44), features.3:(48, 144), features.6:(144, 249), features.8:(288, 192), features.10:(192, 166)\",\n",
      "    \"params\": 55968361,\n",
      "    \"flops\": 345434432,\n",
      "    \"accuracy\": 0.9892,\n",
      "    \"inference_time\": 0.1510764231347734,\n",
      "    \"compression_rate\": 1.0192331699690116,\n",
      "    \"accepted\": true\n",
      "}\n",
      "2025-03-29 19:58:15,996 - MainProcess - INFO - Compressing to:features.0:(2, 44), features.3:(48, 144), features.6:(144, 249), features.8:(288, 166), features.10:(192, 179)\n",
      "2025-03-29 19:58:15,996 - MainProcess - INFO - Evaluated 100 configurations, found 100 accepted models\n",
      "2025-03-29 19:58:20,290 - MainProcess - INFO - finetuning:features.0:(2, 44), features.3:(48, 144), features.6:(144, 249), features.8:(288, 166), features.10:(192, 179)\n",
      "2025-03-29 19:58:20,481 - MainProcess - ERROR - Error processing config: {'features.0': (2, 44), 'features.3': (48, 144), 'features.6': (144, 249), 'features.8': (288, 166), 'features.10': (192, 179)}. Error: CUDA out of memory. Tried to allocate 144.00 MiB. GPU 0 has a total capacity of 47.54 GiB of which 19.12 MiB is free. Including non-PyTorch memory, this process has 38.55 GiB memory in use. Process 3930001 has 5.29 GiB memory in use. Process 3530538 has 3.66 GiB memory in use. Of the allocated memory 37.81 GiB is allocated by PyTorch, and 385.24 MiB is reserved by PyTorch but unallocated. If reserved but unallocated memory is large try setting PYTORCH_CUDA_ALLOC_CONF=expandable_segments:True to avoid fragmentation.  See documentation for Memory Management  (https://pytorch.org/docs/stable/notes/cuda.html#environment-variables)\n",
      "2025-03-29 19:58:20,500 - MainProcess - INFO - Compressing to:features.0:(2, 44), features.3:(48, 144), features.6:(144, 249), features.8:(288, 166), features.10:(192, 166)\n",
      "2025-03-29 19:58:20,506 - MainProcess - ERROR - Error processing config: {'features.0': (2, 44), 'features.3': (48, 144), 'features.6': (144, 249), 'features.8': (288, 166), 'features.10': (192, 192)}. Error: CUDA out of memory. Tried to allocate 36.00 MiB. GPU 0 has a total capacity of 47.54 GiB of which 21.12 MiB is free. Including non-PyTorch memory, this process has 38.55 GiB memory in use. Process 3930001 has 5.29 GiB memory in use. Process 3530538 has 3.66 GiB memory in use. Of the allocated memory 37.79 GiB is allocated by PyTorch, and 397.48 MiB is reserved by PyTorch but unallocated. If reserved but unallocated memory is large try setting PYTORCH_CUDA_ALLOC_CONF=expandable_segments:True to avoid fragmentation.  See documentation for Memory Management  (https://pytorch.org/docs/stable/notes/cuda.html#environment-variables)\n",
      "2025-03-29 19:58:20,512 - MainProcess - INFO - Compressing to:features.0:(2, 44), features.3:(48, 134), features.6:(144, 288), features.8:(288, 192), features.10:(192, 192)\n",
      "2025-03-29 19:58:24,865 - MainProcess - INFO - finetuning:features.0:(2, 44), features.3:(48, 144), features.6:(144, 249), features.8:(288, 166), features.10:(192, 166)\n",
      "2025-03-29 19:58:25,136 - MainProcess - INFO - finetuning:features.0:(2, 44), features.3:(48, 134), features.6:(144, 288), features.8:(288, 192), features.10:(192, 192)\n",
      "2025-03-29 19:58:25,295 - MainProcess - ERROR - Error processing config: {'features.0': (2, 44), 'features.3': (48, 134), 'features.6': (144, 288), 'features.8': (288, 192), 'features.10': (192, 192)}. Error: CUDA out of memory. Tried to allocate 144.00 MiB. GPU 0 has a total capacity of 47.54 GiB of which 39.12 MiB is free. Including non-PyTorch memory, this process has 38.53 GiB memory in use. Process 3930001 has 5.29 GiB memory in use. Process 3530538 has 3.66 GiB memory in use. Of the allocated memory 37.55 GiB is allocated by PyTorch, and 625.64 MiB is reserved by PyTorch but unallocated. If reserved but unallocated memory is large try setting PYTORCH_CUDA_ALLOC_CONF=expandable_segments:True to avoid fragmentation.  See documentation for Memory Management  (https://pytorch.org/docs/stable/notes/cuda.html#environment-variables)\n",
      "2025-03-29 19:58:25,300 - MainProcess - INFO - Compressing to:features.0:(2, 44), features.3:(48, 134), features.6:(144, 288), features.8:(288, 192), features.10:(192, 179)\n",
      "2025-03-29 19:58:30,280 - MainProcess - INFO - finetuning:features.0:(2, 44), features.3:(48, 134), features.6:(144, 288), features.8:(288, 192), features.10:(192, 179)\n"
     ]
    },
    {
     "name": "stdout",
     "output_type": "stream",
     "text": [
      "Epoch 3/3, Loss: 0.0403\n",
      "Epoch 3/3, Loss: 0.0399\n"
     ]
    },
    {
     "name": "stderr",
     "output_type": "stream",
     "text": [
      "2025-03-29 20:00:50,225 - MainProcess - INFO - compressed_model:\n",
      "{\n",
      "    \"config_str\": \"features.0:(2, 44), features.3:(48, 144), features.6:(144, 249), features.8:(288, 179), features.10:(192, 179)\",\n",
      "    \"params\": 55959209,\n",
      "    \"flops\": 343887744,\n",
      "    \"accuracy\": 0.99,\n",
      "    \"inference_time\": 0.15500418446372777,\n",
      "    \"compression_rate\": 1.0193998632110757,\n",
      "    \"accepted\": true\n",
      "}\n",
      "2025-03-29 20:00:50,233 - MainProcess - INFO - Compressing to:features.0:(2, 44), features.3:(48, 134), features.6:(144, 288), features.8:(288, 192), features.10:(192, 166)\n",
      "2025-03-29 20:00:54,504 - MainProcess - INFO - finetuning:features.0:(2, 44), features.3:(48, 134), features.6:(144, 288), features.8:(288, 192), features.10:(192, 166)\n",
      "2025-03-29 20:00:54,658 - MainProcess - ERROR - Error processing config: {'features.0': (2, 44), 'features.3': (48, 134), 'features.6': (144, 288), 'features.8': (288, 192), 'features.10': (192, 166)}. Error: CUDA out of memory. Tried to allocate 144.00 MiB. GPU 0 has a total capacity of 47.54 GiB of which 27.12 MiB is free. Including non-PyTorch memory, this process has 38.93 GiB memory in use. Process 3930001 has 4.90 GiB memory in use. Process 3530538 has 3.66 GiB memory in use. Of the allocated memory 37.97 GiB is allocated by PyTorch, and 607.07 MiB is reserved by PyTorch but unallocated. If reserved but unallocated memory is large try setting PYTORCH_CUDA_ALLOC_CONF=expandable_segments:True to avoid fragmentation.  See documentation for Memory Management  (https://pytorch.org/docs/stable/notes/cuda.html#environment-variables)\n",
      "2025-03-29 20:00:54,663 - MainProcess - INFO - Compressing to:features.0:(2, 44), features.3:(48, 134), features.6:(144, 288), features.8:(288, 179), features.10:(192, 192)\n",
      "2025-03-29 20:00:58,822 - MainProcess - INFO - finetuning:features.0:(2, 44), features.3:(48, 134), features.6:(144, 288), features.8:(288, 179), features.10:(192, 192)\n",
      "2025-03-29 20:00:58,997 - MainProcess - ERROR - Error processing config: {'features.0': (2, 44), 'features.3': (48, 134), 'features.6': (144, 288), 'features.8': (288, 179), 'features.10': (192, 192)}. Error: CUDA out of memory. Tried to allocate 144.00 MiB. GPU 0 has a total capacity of 47.54 GiB of which 27.12 MiB is free. Including non-PyTorch memory, this process has 38.93 GiB memory in use. Process 3930001 has 4.90 GiB memory in use. Process 3530538 has 3.66 GiB memory in use. Of the allocated memory 37.97 GiB is allocated by PyTorch, and 606.00 MiB is reserved by PyTorch but unallocated. If reserved but unallocated memory is large try setting PYTORCH_CUDA_ALLOC_CONF=expandable_segments:True to avoid fragmentation.  See documentation for Memory Management  (https://pytorch.org/docs/stable/notes/cuda.html#environment-variables)\n",
      "2025-03-29 20:00:59,001 - MainProcess - INFO - Compressing to:features.0:(2, 44), features.3:(48, 134), features.6:(144, 288), features.8:(288, 179), features.10:(192, 179)\n",
      "2025-03-29 20:01:03,158 - MainProcess - INFO - finetuning:features.0:(2, 44), features.3:(48, 134), features.6:(144, 288), features.8:(288, 179), features.10:(192, 179)\n",
      "2025-03-29 20:01:03,362 - MainProcess - ERROR - Error processing config: {'features.0': (2, 44), 'features.3': (48, 134), 'features.6': (144, 288), 'features.8': (288, 179), 'features.10': (192, 179)}. Error: CUDA out of memory. Tried to allocate 48.00 MiB. GPU 0 has a total capacity of 47.54 GiB of which 35.12 MiB is free. Including non-PyTorch memory, this process has 38.92 GiB memory in use. Process 3930001 has 4.90 GiB memory in use. Process 3530538 has 3.66 GiB memory in use. Of the allocated memory 38.03 GiB is allocated by PyTorch, and 542.20 MiB is reserved by PyTorch but unallocated. If reserved but unallocated memory is large try setting PYTORCH_CUDA_ALLOC_CONF=expandable_segments:True to avoid fragmentation.  See documentation for Memory Management  (https://pytorch.org/docs/stable/notes/cuda.html#environment-variables)\n",
      "2025-03-29 20:01:03,368 - MainProcess - INFO - Compressing to:features.0:(2, 44), features.3:(48, 134), features.6:(144, 288), features.8:(288, 179), features.10:(192, 166)\n",
      "2025-03-29 20:01:03,374 - MainProcess - ERROR - Error processing config: {'features.0': (2, 44), 'features.3': (48, 134), 'features.6': (144, 288), 'features.8': (288, 192), 'features.10': (192, 179)}. Error: CUDA out of memory. Tried to allocate 144.00 MiB. GPU 0 has a total capacity of 47.54 GiB of which 37.12 MiB is free. Including non-PyTorch memory, this process has 38.92 GiB memory in use. Process 3930001 has 4.90 GiB memory in use. Process 3530538 has 3.66 GiB memory in use. Of the allocated memory 38.08 GiB is allocated by PyTorch, and 488.57 MiB is reserved by PyTorch but unallocated. If reserved but unallocated memory is large try setting PYTORCH_CUDA_ALLOC_CONF=expandable_segments:True to avoid fragmentation.  See documentation for Memory Management  (https://pytorch.org/docs/stable/notes/cuda.html#environment-variables)\n",
      "2025-03-29 20:01:03,402 - MainProcess - INFO - Compressing to:features.0:(2, 44), features.3:(48, 134), features.6:(144, 288), features.8:(288, 166), features.10:(192, 192)\n",
      "2025-03-29 20:01:07,699 - MainProcess - INFO - finetuning:features.0:(2, 44), features.3:(48, 134), features.6:(144, 288), features.8:(288, 179), features.10:(192, 166)\n",
      "2025-03-29 20:01:08,070 - MainProcess - INFO - finetuning:features.0:(2, 44), features.3:(48, 134), features.6:(144, 288), features.8:(288, 166), features.10:(192, 192)\n",
      "2025-03-29 20:01:08,243 - MainProcess - ERROR - Error processing config: {'features.0': (2, 44), 'features.3': (48, 134), 'features.6': (144, 288), 'features.8': (288, 179), 'features.10': (192, 166)}. Error: CUDA out of memory. Tried to allocate 144.00 MiB. GPU 0 has a total capacity of 47.54 GiB of which 55.12 MiB is free. Including non-PyTorch memory, this process has 38.90 GiB memory in use. Process 3930001 has 4.90 GiB memory in use. Process 3530538 has 3.66 GiB memory in use. Of the allocated memory 38.12 GiB is allocated by PyTorch, and 430.64 MiB is reserved by PyTorch but unallocated. If reserved but unallocated memory is large try setting PYTORCH_CUDA_ALLOC_CONF=expandable_segments:True to avoid fragmentation.  See documentation for Memory Management  (https://pytorch.org/docs/stable/notes/cuda.html#environment-variables)\n",
      "2025-03-29 20:01:08,246 - MainProcess - INFO - Compressing to:features.0:(2, 44), features.3:(48, 134), features.6:(144, 288), features.8:(288, 166), features.10:(192, 179)\n",
      "2025-03-29 20:01:08,250 - MainProcess - ERROR - Error processing config: {'features.0': (2, 44), 'features.3': (48, 134), 'features.6': (144, 288), 'features.8': (288, 166), 'features.10': (192, 192)}. Error: CUDA out of memory. Tried to allocate 144.00 MiB. GPU 0 has a total capacity of 47.54 GiB of which 55.12 MiB is free. Including non-PyTorch memory, this process has 38.90 GiB memory in use. Process 3930001 has 4.90 GiB memory in use. Process 3530538 has 3.66 GiB memory in use. Of the allocated memory 38.11 GiB is allocated by PyTorch, and 432.64 MiB is reserved by PyTorch but unallocated. If reserved but unallocated memory is large try setting PYTORCH_CUDA_ALLOC_CONF=expandable_segments:True to avoid fragmentation.  See documentation for Memory Management  (https://pytorch.org/docs/stable/notes/cuda.html#environment-variables)\n",
      "2025-03-29 20:01:08,256 - MainProcess - INFO - Compressing to:features.0:(2, 44), features.3:(48, 134), features.6:(144, 288), features.8:(288, 166), features.10:(192, 166)\n",
      "2025-03-29 20:01:09,151 - MainProcess - INFO - compressed_model:\n",
      "{\n",
      "    \"config_str\": \"features.0:(2, 44), features.3:(48, 144), features.6:(144, 249), features.8:(288, 179), features.10:(192, 166)\",\n",
      "    \"params\": 55933417,\n",
      "    \"flops\": 395799744,\n",
      "    \"accuracy\": 0.9897,\n",
      "    \"inference_time\": 0.1651286137331823,\n",
      "    \"compression_rate\": 1.0198699285616681,\n",
      "    \"accepted\": true\n",
      "}\n",
      "2025-03-29 20:01:09,154 - MainProcess - INFO - Compressing to:features.0:(2, 44), features.3:(48, 134), features.6:(144, 268), features.8:(288, 192), features.10:(192, 192)\n"
     ]
    },
    {
     "name": "stdout",
     "output_type": "stream",
     "text": [
      "Epoch 1/3, Loss: 0.3278\n"
     ]
    },
    {
     "name": "stderr",
     "output_type": "stream",
     "text": [
      "2025-03-29 20:01:12,653 - MainProcess - INFO - finetuning:features.0:(2, 44), features.3:(48, 134), features.6:(144, 288), features.8:(288, 166), features.10:(192, 179)\n",
      "2025-03-29 20:01:12,786 - MainProcess - ERROR - Error processing config: {'features.0': (2, 44), 'features.3': (48, 134), 'features.6': (144, 288), 'features.8': (288, 166), 'features.10': (192, 179)}. Error: CUDA out of memory. Tried to allocate 64.00 MiB. GPU 0 has a total capacity of 47.54 GiB of which 55.12 MiB is free. Including non-PyTorch memory, this process has 38.90 GiB memory in use. Process 3930001 has 4.90 GiB memory in use. Process 3530538 has 3.66 GiB memory in use. Of the allocated memory 37.84 GiB is allocated by PyTorch, and 718.87 MiB is reserved by PyTorch but unallocated. If reserved but unallocated memory is large try setting PYTORCH_CUDA_ALLOC_CONF=expandable_segments:True to avoid fragmentation.  See documentation for Memory Management  (https://pytorch.org/docs/stable/notes/cuda.html#environment-variables)\n",
      "2025-03-29 20:01:12,790 - MainProcess - INFO - Compressing to:features.0:(2, 44), features.3:(48, 134), features.6:(144, 268), features.8:(288, 192), features.10:(192, 179)\n",
      "2025-03-29 20:01:13,172 - MainProcess - INFO - finetuning:features.0:(2, 44), features.3:(48, 134), features.6:(144, 288), features.8:(288, 166), features.10:(192, 166)\n",
      "2025-03-29 20:01:13,337 - MainProcess - ERROR - Error processing config: {'features.0': (2, 44), 'features.3': (48, 134), 'features.6': (144, 288), 'features.8': (288, 166), 'features.10': (192, 166)}. Error: CUDA out of memory. Tried to allocate 144.00 MiB. GPU 0 has a total capacity of 47.54 GiB of which 29.12 MiB is free. Including non-PyTorch memory, this process has 38.93 GiB memory in use. Process 3930001 has 4.90 GiB memory in use. Process 3530538 has 3.66 GiB memory in use. Of the allocated memory 37.90 GiB is allocated by PyTorch, and 679.72 MiB is reserved by PyTorch but unallocated. If reserved but unallocated memory is large try setting PYTORCH_CUDA_ALLOC_CONF=expandable_segments:True to avoid fragmentation.  See documentation for Memory Management  (https://pytorch.org/docs/stable/notes/cuda.html#environment-variables)\n",
      "2025-03-29 20:01:13,341 - MainProcess - INFO - Compressing to:features.0:(2, 44), features.3:(48, 134), features.6:(144, 268), features.8:(288, 192), features.10:(192, 166)\n",
      "2025-03-29 20:01:13,742 - MainProcess - INFO - finetuning:features.0:(2, 44), features.3:(48, 134), features.6:(144, 268), features.8:(288, 192), features.10:(192, 192)\n",
      "2025-03-29 20:01:13,947 - MainProcess - ERROR - Error processing config: {'features.0': (2, 44), 'features.3': (48, 134), 'features.6': (144, 268), 'features.8': (288, 192), 'features.10': (192, 192)}. Error: CUDA out of memory. Tried to allocate 144.00 MiB. GPU 0 has a total capacity of 47.54 GiB of which 77.12 MiB is free. Including non-PyTorch memory, this process has 38.88 GiB memory in use. Process 3930001 has 4.90 GiB memory in use. Process 3530538 has 3.66 GiB memory in use. Of the allocated memory 37.91 GiB is allocated by PyTorch, and 622.69 MiB is reserved by PyTorch but unallocated. If reserved but unallocated memory is large try setting PYTORCH_CUDA_ALLOC_CONF=expandable_segments:True to avoid fragmentation.  See documentation for Memory Management  (https://pytorch.org/docs/stable/notes/cuda.html#environment-variables)\n",
      "2025-03-29 20:01:13,950 - MainProcess - INFO - Compressing to:features.0:(2, 44), features.3:(48, 134), features.6:(144, 268), features.8:(288, 179), features.10:(192, 192)\n",
      "2025-03-29 20:01:17,194 - MainProcess - INFO - finetuning:features.0:(2, 44), features.3:(48, 134), features.6:(144, 268), features.8:(288, 192), features.10:(192, 179)\n",
      "2025-03-29 20:01:17,312 - MainProcess - ERROR - Error processing config: {'features.0': (2, 44), 'features.3': (48, 134), 'features.6': (144, 268), 'features.8': (288, 192), 'features.10': (192, 179)}. Error: CUDA out of memory. Tried to allocate 144.00 MiB. GPU 0 has a total capacity of 47.54 GiB of which 77.12 MiB is free. Including non-PyTorch memory, this process has 38.88 GiB memory in use. Process 3930001 has 4.90 GiB memory in use. Process 3530538 has 3.66 GiB memory in use. Of the allocated memory 37.90 GiB is allocated by PyTorch, and 633.87 MiB is reserved by PyTorch but unallocated. If reserved but unallocated memory is large try setting PYTORCH_CUDA_ALLOC_CONF=expandable_segments:True to avoid fragmentation.  See documentation for Memory Management  (https://pytorch.org/docs/stable/notes/cuda.html#environment-variables)\n",
      "2025-03-29 20:01:17,314 - MainProcess - INFO - Compressing to:features.0:(2, 44), features.3:(48, 134), features.6:(144, 268), features.8:(288, 179), features.10:(192, 179)\n",
      "2025-03-29 20:01:17,744 - MainProcess - INFO - finetuning:features.0:(2, 44), features.3:(48, 134), features.6:(144, 268), features.8:(288, 192), features.10:(192, 166)\n",
      "2025-03-29 20:01:17,889 - MainProcess - ERROR - Error processing config: {'features.0': (2, 44), 'features.3': (48, 134), 'features.6': (144, 268), 'features.8': (288, 192), 'features.10': (192, 166)}. Error: CUDA out of memory. Tried to allocate 144.00 MiB. GPU 0 has a total capacity of 47.54 GiB of which 77.12 MiB is free. Including non-PyTorch memory, this process has 38.88 GiB memory in use. Process 3930001 has 4.90 GiB memory in use. Process 3530538 has 3.66 GiB memory in use. Of the allocated memory 37.90 GiB is allocated by PyTorch, and 630.33 MiB is reserved by PyTorch but unallocated. If reserved but unallocated memory is large try setting PYTORCH_CUDA_ALLOC_CONF=expandable_segments:True to avoid fragmentation.  See documentation for Memory Management  (https://pytorch.org/docs/stable/notes/cuda.html#environment-variables)\n",
      "2025-03-29 20:01:17,891 - MainProcess - INFO - Compressing to:features.0:(2, 44), features.3:(48, 134), features.6:(144, 268), features.8:(288, 179), features.10:(192, 166)\n",
      "2025-03-29 20:01:18,420 - MainProcess - INFO - finetuning:features.0:(2, 44), features.3:(48, 134), features.6:(144, 268), features.8:(288, 179), features.10:(192, 192)\n",
      "2025-03-29 20:01:18,560 - MainProcess - ERROR - Error processing config: {'features.0': (2, 44), 'features.3': (48, 134), 'features.6': (144, 268), 'features.8': (288, 179), 'features.10': (192, 192)}. Error: CUDA out of memory. Tried to allocate 144.00 MiB. GPU 0 has a total capacity of 47.54 GiB of which 77.12 MiB is free. Including non-PyTorch memory, this process has 38.88 GiB memory in use. Process 3930001 has 4.90 GiB memory in use. Process 3530538 has 3.66 GiB memory in use. Of the allocated memory 37.91 GiB is allocated by PyTorch, and 623.53 MiB is reserved by PyTorch but unallocated. If reserved but unallocated memory is large try setting PYTORCH_CUDA_ALLOC_CONF=expandable_segments:True to avoid fragmentation.  See documentation for Memory Management  (https://pytorch.org/docs/stable/notes/cuda.html#environment-variables)\n",
      "2025-03-29 20:01:18,562 - MainProcess - INFO - Compressing to:features.0:(2, 44), features.3:(48, 134), features.6:(144, 268), features.8:(288, 166), features.10:(192, 192)\n",
      "2025-03-29 20:01:21,673 - MainProcess - INFO - finetuning:features.0:(2, 44), features.3:(48, 134), features.6:(144, 268), features.8:(288, 179), features.10:(192, 179)\n",
      "2025-03-29 20:01:21,843 - MainProcess - ERROR - Error processing config: {'features.0': (2, 44), 'features.3': (48, 144), 'features.6': (144, 249), 'features.8': (288, 166), 'features.10': (192, 166)}. Error: CUDA out of memory. Tried to allocate 144.00 MiB. GPU 0 has a total capacity of 47.54 GiB of which 77.12 MiB is free. Including non-PyTorch memory, this process has 38.88 GiB memory in use. Process 3930001 has 4.90 GiB memory in use. Process 3530538 has 3.66 GiB memory in use. Of the allocated memory 37.89 GiB is allocated by PyTorch, and 635.75 MiB is reserved by PyTorch but unallocated. If reserved but unallocated memory is large try setting PYTORCH_CUDA_ALLOC_CONF=expandable_segments:True to avoid fragmentation.  See documentation for Memory Management  (https://pytorch.org/docs/stable/notes/cuda.html#environment-variables)\n",
      "2025-03-29 20:01:21,845 - MainProcess - INFO - Compressing to:features.0:(2, 44), features.3:(48, 134), features.6:(144, 268), features.8:(288, 166), features.10:(192, 179)\n",
      "2025-03-29 20:01:22,357 - MainProcess - INFO - finetuning:features.0:(2, 44), features.3:(48, 134), features.6:(144, 268), features.8:(288, 179), features.10:(192, 166)\n",
      "2025-03-29 20:01:22,472 - MainProcess - ERROR - Error processing config: {'features.0': (2, 44), 'features.3': (48, 134), 'features.6': (144, 268), 'features.8': (288, 179), 'features.10': (192, 166)}. Error: CUDA out of memory. Tried to allocate 144.00 MiB. GPU 0 has a total capacity of 47.54 GiB of which 77.12 MiB is free. Including non-PyTorch memory, this process has 38.88 GiB memory in use. Process 3930001 has 4.90 GiB memory in use. Process 3530538 has 3.66 GiB memory in use. Of the allocated memory 37.90 GiB is allocated by PyTorch, and 630.65 MiB is reserved by PyTorch but unallocated. If reserved but unallocated memory is large try setting PYTORCH_CUDA_ALLOC_CONF=expandable_segments:True to avoid fragmentation.  See documentation for Memory Management  (https://pytorch.org/docs/stable/notes/cuda.html#environment-variables)\n",
      "2025-03-29 20:01:22,473 - MainProcess - INFO - Compressing to:features.0:(2, 44), features.3:(48, 134), features.6:(144, 268), features.8:(288, 166), features.10:(192, 166)\n",
      "2025-03-29 20:01:23,104 - MainProcess - INFO - finetuning:features.0:(2, 44), features.3:(48, 134), features.6:(144, 268), features.8:(288, 166), features.10:(192, 192)\n",
      "2025-03-29 20:01:23,294 - MainProcess - ERROR - Error processing config: {'features.0': (2, 44), 'features.3': (48, 134), 'features.6': (144, 268), 'features.8': (288, 166), 'features.10': (192, 192)}. Error: CUDA out of memory. Tried to allocate 144.00 MiB. GPU 0 has a total capacity of 47.54 GiB of which 77.12 MiB is free. Including non-PyTorch memory, this process has 38.88 GiB memory in use. Process 3930001 has 4.90 GiB memory in use. Process 3530538 has 3.66 GiB memory in use. Of the allocated memory 37.91 GiB is allocated by PyTorch, and 623.02 MiB is reserved by PyTorch but unallocated. If reserved but unallocated memory is large try setting PYTORCH_CUDA_ALLOC_CONF=expandable_segments:True to avoid fragmentation.  See documentation for Memory Management  (https://pytorch.org/docs/stable/notes/cuda.html#environment-variables)\n",
      "2025-03-29 20:01:23,296 - MainProcess - INFO - Compressing to:features.0:(2, 44), features.3:(48, 134), features.6:(144, 249), features.8:(288, 192), features.10:(192, 192)\n",
      "2025-03-29 20:01:26,310 - MainProcess - INFO - finetuning:features.0:(2, 44), features.3:(48, 134), features.6:(144, 268), features.8:(288, 166), features.10:(192, 179)\n",
      "2025-03-29 20:01:26,464 - MainProcess - ERROR - Error processing config: {'features.0': (2, 44), 'features.3': (48, 134), 'features.6': (144, 268), 'features.8': (288, 166), 'features.10': (192, 179)}. Error: CUDA out of memory. Tried to allocate 144.00 MiB. GPU 0 has a total capacity of 47.54 GiB of which 79.12 MiB is free. Including non-PyTorch memory, this process has 38.88 GiB memory in use. Process 3930001 has 4.90 GiB memory in use. Process 3530538 has 3.66 GiB memory in use. Of the allocated memory 37.89 GiB is allocated by PyTorch, and 633.80 MiB is reserved by PyTorch but unallocated. If reserved but unallocated memory is large try setting PYTORCH_CUDA_ALLOC_CONF=expandable_segments:True to avoid fragmentation.  See documentation for Memory Management  (https://pytorch.org/docs/stable/notes/cuda.html#environment-variables)\n",
      "2025-03-29 20:01:26,466 - MainProcess - INFO - Compressing to:features.0:(2, 44), features.3:(48, 134), features.6:(144, 249), features.8:(288, 192), features.10:(192, 179)\n",
      "2025-03-29 20:01:26,856 - MainProcess - INFO - finetuning:features.0:(2, 44), features.3:(48, 134), features.6:(144, 268), features.8:(288, 166), features.10:(192, 166)\n",
      "2025-03-29 20:01:27,027 - MainProcess - ERROR - Error processing config: {'features.0': (2, 44), 'features.3': (48, 134), 'features.6': (144, 268), 'features.8': (288, 166), 'features.10': (192, 166)}. Error: CUDA out of memory. Tried to allocate 144.00 MiB. GPU 0 has a total capacity of 47.54 GiB of which 77.12 MiB is free. Including non-PyTorch memory, this process has 38.88 GiB memory in use. Process 3930001 has 4.90 GiB memory in use. Process 3530538 has 3.66 GiB memory in use. Of the allocated memory 37.90 GiB is allocated by PyTorch, and 629.17 MiB is reserved by PyTorch but unallocated. If reserved but unallocated memory is large try setting PYTORCH_CUDA_ALLOC_CONF=expandable_segments:True to avoid fragmentation.  See documentation for Memory Management  (https://pytorch.org/docs/stable/notes/cuda.html#environment-variables)\n",
      "2025-03-29 20:01:27,030 - MainProcess - INFO - Compressing to:features.0:(2, 44), features.3:(48, 134), features.6:(144, 249), features.8:(288, 192), features.10:(192, 166)\n",
      "2025-03-29 20:01:28,003 - MainProcess - INFO - finetuning:features.0:(2, 44), features.3:(48, 134), features.6:(144, 249), features.8:(288, 192), features.10:(192, 192)\n",
      "2025-03-29 20:01:28,138 - MainProcess - ERROR - Error processing config: {'features.0': (2, 44), 'features.3': (48, 134), 'features.6': (144, 249), 'features.8': (288, 192), 'features.10': (192, 192)}. Error: CUDA out of memory. Tried to allocate 144.00 MiB. GPU 0 has a total capacity of 47.54 GiB of which 77.12 MiB is free. Including non-PyTorch memory, this process has 38.88 GiB memory in use. Process 3930001 has 4.90 GiB memory in use. Process 3530538 has 3.66 GiB memory in use. Of the allocated memory 37.91 GiB is allocated by PyTorch, and 622.35 MiB is reserved by PyTorch but unallocated. If reserved but unallocated memory is large try setting PYTORCH_CUDA_ALLOC_CONF=expandable_segments:True to avoid fragmentation.  See documentation for Memory Management  (https://pytorch.org/docs/stable/notes/cuda.html#environment-variables)\n",
      "2025-03-29 20:01:28,140 - MainProcess - INFO - Compressing to:features.0:(2, 44), features.3:(48, 134), features.6:(144, 249), features.8:(288, 179), features.10:(192, 192)\n",
      "2025-03-29 20:01:30,943 - MainProcess - INFO - finetuning:features.0:(2, 44), features.3:(48, 134), features.6:(144, 249), features.8:(288, 192), features.10:(192, 179)\n",
      "2025-03-29 20:01:31,117 - MainProcess - ERROR - Error processing config: {'features.0': (2, 44), 'features.3': (48, 134), 'features.6': (144, 249), 'features.8': (288, 192), 'features.10': (192, 179)}. Error: CUDA out of memory. Tried to allocate 144.00 MiB. GPU 0 has a total capacity of 47.54 GiB of which 79.12 MiB is free. Including non-PyTorch memory, this process has 38.88 GiB memory in use. Process 3930001 has 4.90 GiB memory in use. Process 3530538 has 3.66 GiB memory in use. Of the allocated memory 37.90 GiB is allocated by PyTorch, and 631.44 MiB is reserved by PyTorch but unallocated. If reserved but unallocated memory is large try setting PYTORCH_CUDA_ALLOC_CONF=expandable_segments:True to avoid fragmentation.  See documentation for Memory Management  (https://pytorch.org/docs/stable/notes/cuda.html#environment-variables)\n",
      "2025-03-29 20:01:31,120 - MainProcess - INFO - Compressing to:features.0:(2, 44), features.3:(48, 134), features.6:(144, 249), features.8:(288, 179), features.10:(192, 179)\n",
      "2025-03-29 20:01:31,515 - MainProcess - INFO - finetuning:features.0:(2, 44), features.3:(48, 134), features.6:(144, 249), features.8:(288, 192), features.10:(192, 166)\n",
      "2025-03-29 20:01:31,694 - MainProcess - ERROR - Error processing config: {'features.0': (2, 44), 'features.3': (48, 134), 'features.6': (144, 249), 'features.8': (288, 192), 'features.10': (192, 166)}. Error: CUDA out of memory. Tried to allocate 144.00 MiB. GPU 0 has a total capacity of 47.54 GiB of which 77.12 MiB is free. Including non-PyTorch memory, this process has 38.88 GiB memory in use. Process 3930001 has 4.90 GiB memory in use. Process 3530538 has 3.66 GiB memory in use. Of the allocated memory 37.90 GiB is allocated by PyTorch, and 628.15 MiB is reserved by PyTorch but unallocated. If reserved but unallocated memory is large try setting PYTORCH_CUDA_ALLOC_CONF=expandable_segments:True to avoid fragmentation.  See documentation for Memory Management  (https://pytorch.org/docs/stable/notes/cuda.html#environment-variables)\n",
      "2025-03-29 20:01:31,696 - MainProcess - INFO - Compressing to:features.0:(2, 44), features.3:(48, 134), features.6:(144, 249), features.8:(288, 179), features.10:(192, 166)\n",
      "2025-03-29 20:01:32,807 - MainProcess - INFO - finetuning:features.0:(2, 44), features.3:(48, 134), features.6:(144, 249), features.8:(288, 179), features.10:(192, 192)\n",
      "2025-03-29 20:01:33,012 - MainProcess - ERROR - Error processing config: {'features.0': (2, 44), 'features.3': (48, 134), 'features.6': (144, 249), 'features.8': (288, 179), 'features.10': (192, 192)}. Error: CUDA out of memory. Tried to allocate 144.00 MiB. GPU 0 has a total capacity of 47.54 GiB of which 77.12 MiB is free. Including non-PyTorch memory, this process has 38.88 GiB memory in use. Process 3930001 has 4.90 GiB memory in use. Process 3530538 has 3.66 GiB memory in use. Of the allocated memory 37.91 GiB is allocated by PyTorch, and 623.11 MiB is reserved by PyTorch but unallocated. If reserved but unallocated memory is large try setting PYTORCH_CUDA_ALLOC_CONF=expandable_segments:True to avoid fragmentation.  See documentation for Memory Management  (https://pytorch.org/docs/stable/notes/cuda.html#environment-variables)\n",
      "2025-03-29 20:01:33,016 - MainProcess - INFO - Compressing to:features.0:(2, 44), features.3:(48, 134), features.6:(144, 249), features.8:(288, 166), features.10:(192, 192)\n",
      "2025-03-29 20:01:35,766 - MainProcess - INFO - finetuning:features.0:(2, 44), features.3:(48, 134), features.6:(144, 249), features.8:(288, 179), features.10:(192, 179)\n",
      "2025-03-29 20:01:36,110 - MainProcess - INFO - finetuning:features.0:(2, 44), features.3:(48, 134), features.6:(144, 249), features.8:(288, 179), features.10:(192, 166)\n",
      "2025-03-29 20:01:37,375 - MainProcess - INFO - finetuning:features.0:(2, 44), features.3:(48, 134), features.6:(144, 249), features.8:(288, 166), features.10:(192, 192)\n"
     ]
    },
    {
     "name": "stdout",
     "output_type": "stream",
     "text": [
      "Epoch 1/3, Loss: 0.3279\n",
      "Epoch 1/3, Loss: 0.3317\n",
      "Epoch 1/3, Loss: 0.3352\n",
      "Epoch 1/3, Loss: 0.3248\n",
      "Epoch 2/3, Loss: 0.0537\n",
      "Epoch 2/3, Loss: 0.0520\n",
      "Epoch 2/3, Loss: 0.0541\n",
      "Epoch 2/3, Loss: 0.0525\n",
      "Epoch 3/3, Loss: 0.0388\n",
      "Epoch 3/3, Loss: 0.0391\n",
      "Epoch 3/3, Loss: 0.0399\n",
      "Epoch 3/3, Loss: 0.0400\n"
     ]
    },
    {
     "name": "stderr",
     "output_type": "stream",
     "text": [
      "2025-03-29 20:11:16,129 - MainProcess - INFO - compressed_model:\n",
      "{\n",
      "    \"config_str\": \"features.0:(2, 44), features.3:(48, 134), features.6:(144, 268), features.8:(288, 179), features.10:(192, 179)\",\n",
      "    \"params\": 55959209,\n",
      "    \"flops\": 343887744,\n",
      "    \"accuracy\": 0.9898,\n",
      "    \"inference_time\": 0.1546337250185114,\n",
      "    \"compression_rate\": 1.0193998632110757,\n",
      "    \"accepted\": true\n",
      "}\n",
      "2025-03-29 20:11:16,837 - MainProcess - INFO - Compressing to:features.0:(2, 44), features.3:(48, 134), features.6:(144, 249), features.8:(288, 166), features.10:(192, 179)\n",
      "2025-03-29 20:11:20,878 - MainProcess - INFO - finetuning:features.0:(2, 44), features.3:(48, 134), features.6:(144, 249), features.8:(288, 166), features.10:(192, 179)\n",
      "2025-03-29 20:11:34,854 - MainProcess - INFO - compressed_model:\n",
      "{\n",
      "    \"config_str\": \"features.0:(2, 44), features.3:(48, 134), features.6:(144, 249), features.8:(288, 179), features.10:(192, 179)\",\n",
      "    \"params\": 55959209,\n",
      "    \"flops\": 343887744,\n",
      "    \"accuracy\": 0.99,\n",
      "    \"inference_time\": 0.1556626915172407,\n",
      "    \"compression_rate\": 1.0193998632110757,\n",
      "    \"accepted\": true\n",
      "}\n",
      "2025-03-29 20:11:34,858 - MainProcess - INFO - Compressing to:features.0:(2, 44), features.3:(48, 134), features.6:(144, 249), features.8:(288, 166), features.10:(192, 166)\n",
      "2025-03-29 20:11:38,986 - MainProcess - INFO - finetuning:features.0:(2, 44), features.3:(48, 134), features.6:(144, 249), features.8:(288, 166), features.10:(192, 166)\n",
      "2025-03-29 20:11:43,420 - MainProcess - INFO - compressed_model:\n",
      "{\n",
      "    \"config_str\": \"features.0:(2, 44), features.3:(48, 134), features.6:(144, 249), features.8:(288, 179), features.10:(192, 166)\",\n",
      "    \"params\": 55933417,\n",
      "    \"flops\": 339528896,\n",
      "    \"accuracy\": 0.9899,\n",
      "    \"inference_time\": 0.1623485174401804,\n",
      "    \"compression_rate\": 1.0198699285616681,\n",
      "    \"accepted\": true\n",
      "}\n",
      "2025-03-29 20:11:43,439 - MainProcess - INFO - Compressing to:features.0:(2, 44), features.3:(48, 124), features.6:(144, 288), features.8:(288, 192), features.10:(192, 192)\n",
      "2025-03-29 20:11:47,721 - MainProcess - INFO - finetuning:features.0:(2, 44), features.3:(48, 124), features.6:(144, 288), features.8:(288, 192), features.10:(192, 192)\n",
      "2025-03-29 20:11:48,526 - MainProcess - INFO - compressed_model:\n",
      "{\n",
      "    \"config_str\": \"features.0:(2, 44), features.3:(48, 134), features.6:(144, 249), features.8:(288, 166), features.10:(192, 192)\",\n",
      "    \"params\": 55950057,\n",
      "    \"flops\": 385037760,\n",
      "    \"accuracy\": 0.9902,\n",
      "    \"inference_time\": 0.16609943039604558,\n",
      "    \"compression_rate\": 1.019566610986652,\n",
      "    \"accepted\": true\n",
      "}\n",
      "2025-03-29 20:11:48,543 - MainProcess - INFO - Compressing to:features.0:(2, 44), features.3:(48, 124), features.6:(144, 288), features.8:(288, 192), features.10:(192, 179)\n",
      "2025-03-29 20:11:52,811 - MainProcess - INFO - finetuning:features.0:(2, 44), features.3:(48, 124), features.6:(144, 288), features.8:(288, 192), features.10:(192, 179)\n"
     ]
    },
    {
     "name": "stdout",
     "output_type": "stream",
     "text": [
      "Epoch 1/3, Loss: 0.3140\n",
      "Epoch 1/3, Loss: 0.3203\n",
      "Epoch 1/3, Loss: 0.3156\n",
      "Epoch 1/3, Loss: 0.3222\n",
      "Epoch 2/3, Loss: 0.0531\n",
      "Epoch 2/3, Loss: 0.0526\n",
      "Epoch 2/3, Loss: 0.0528\n",
      "Epoch 2/3, Loss: 0.0538\n",
      "Epoch 3/3, Loss: 0.0396\n",
      "Epoch 3/3, Loss: 0.0387\n",
      "Epoch 3/3, Loss: 0.0393\n",
      "Epoch 3/3, Loss: 0.0390\n"
     ]
    },
    {
     "name": "stderr",
     "output_type": "stream",
     "text": [
      "2025-03-29 20:21:16,908 - MainProcess - INFO - compressed_model:\n",
      "{\n",
      "    \"config_str\": \"features.0:(2, 44), features.3:(48, 134), features.6:(144, 249), features.8:(288, 166), features.10:(192, 179)\",\n",
      "    \"params\": 55924265,\n",
      "    \"flops\": 337982208,\n",
      "    \"accuracy\": 0.9873,\n",
      "    \"inference_time\": 0.1577815341342027,\n",
      "    \"compression_rate\": 1.020036830166655,\n",
      "    \"accepted\": true\n",
      "}\n",
      "2025-03-29 20:21:16,921 - MainProcess - INFO - Compressing to:features.0:(2, 44), features.3:(48, 124), features.6:(144, 288), features.8:(288, 192), features.10:(192, 166)\n",
      "2025-03-29 20:21:21,203 - MainProcess - INFO - finetuning:features.0:(2, 44), features.3:(48, 124), features.6:(144, 288), features.8:(288, 192), features.10:(192, 166)\n",
      "2025-03-29 20:21:37,242 - MainProcess - INFO - compressed_model:\n",
      "{\n",
      "    \"config_str\": \"features.0:(2, 44), features.3:(48, 134), features.6:(144, 249), features.8:(288, 166), features.10:(192, 166)\",\n",
      "    \"params\": 55898473,\n",
      "    \"flops\": 389894208,\n",
      "    \"accuracy\": 0.9882,\n",
      "    \"inference_time\": 0.15731589151289305,\n",
      "    \"compression_rate\": 1.0205074832723964,\n",
      "    \"accepted\": true\n",
      "}\n",
      "2025-03-29 20:21:37,251 - MainProcess - INFO - Compressing to:features.0:(2, 44), features.3:(48, 124), features.6:(144, 288), features.8:(288, 179), features.10:(192, 192)\n",
      "2025-03-29 20:21:41,463 - MainProcess - INFO - finetuning:features.0:(2, 44), features.3:(48, 124), features.6:(144, 288), features.8:(288, 179), features.10:(192, 192)\n",
      "2025-03-29 20:21:51,289 - MainProcess - INFO - compressed_model:\n",
      "{\n",
      "    \"config_str\": \"features.0:(2, 44), features.3:(48, 124), features.6:(144, 288), features.8:(288, 192), features.10:(192, 192)\",\n",
      "    \"params\": 56019945,\n",
      "    \"flops\": 354152128,\n",
      "    \"accuracy\": 0.9896,\n",
      "    \"inference_time\": 0.16234738052270975,\n",
      "    \"compression_rate\": 1.0182946448804975,\n",
      "    \"accepted\": true\n",
      "}\n",
      "2025-03-29 20:21:51,295 - MainProcess - INFO - Compressing to:features.0:(2, 44), features.3:(48, 124), features.6:(144, 288), features.8:(288, 179), features.10:(192, 179)\n",
      "2025-03-29 20:21:55,518 - MainProcess - INFO - finetuning:features.0:(2, 44), features.3:(48, 124), features.6:(144, 288), features.8:(288, 179), features.10:(192, 179)\n",
      "2025-03-29 20:22:01,703 - MainProcess - INFO - compressed_model:\n",
      "{\n",
      "    \"config_str\": \"features.0:(2, 44), features.3:(48, 124), features.6:(144, 288), features.8:(288, 192), features.10:(192, 179)\",\n",
      "    \"params\": 55994153,\n",
      "    \"flops\": 349793280,\n",
      "    \"accuracy\": 0.9889,\n",
      "    \"inference_time\": 0.16696218118039918,\n",
      "    \"compression_rate\": 1.0187636912732656,\n",
      "    \"accepted\": true\n",
      "}\n",
      "2025-03-29 20:22:01,717 - MainProcess - INFO - Compressing to:features.0:(2, 44), features.3:(48, 124), features.6:(144, 288), features.8:(288, 179), features.10:(192, 166)\n",
      "2025-03-29 20:22:01,717 - MainProcess - INFO - Evaluated 110 configurations, found 110 accepted models\n",
      "2025-03-29 20:22:06,090 - MainProcess - INFO - finetuning:features.0:(2, 44), features.3:(48, 124), features.6:(144, 288), features.8:(288, 179), features.10:(192, 166)\n"
     ]
    },
    {
     "name": "stdout",
     "output_type": "stream",
     "text": [
      "Epoch 1/3, Loss: 0.3272\n",
      "Epoch 1/3, Loss: 0.3252\n",
      "Epoch 1/3, Loss: 0.3277\n",
      "Epoch 1/3, Loss: 0.3206\n",
      "Epoch 2/3, Loss: 0.0529\n",
      "Epoch 2/3, Loss: 0.0531\n",
      "Epoch 2/3, Loss: 0.0541\n",
      "Epoch 2/3, Loss: 0.0524\n",
      "Epoch 3/3, Loss: 0.0392\n",
      "Epoch 3/3, Loss: 0.0394\n",
      "Epoch 3/3, Loss: 0.0388\n",
      "Epoch 3/3, Loss: 0.0377\n"
     ]
    },
    {
     "name": "stderr",
     "output_type": "stream",
     "text": [
      "2025-03-29 20:31:18,278 - MainProcess - INFO - compressed_model:\n",
      "{\n",
      "    \"config_str\": \"features.0:(2, 44), features.3:(48, 124), features.6:(144, 288), features.8:(288, 192), features.10:(192, 166)\",\n",
      "    \"params\": 55968361,\n",
      "    \"flops\": 345434432,\n",
      "    \"accuracy\": 0.9891,\n",
      "    \"inference_time\": 0.15602880982077047,\n",
      "    \"compression_rate\": 1.0192331699690116,\n",
      "    \"accepted\": true\n",
      "}\n",
      "2025-03-29 20:31:18,290 - MainProcess - INFO - Compressing to:features.0:(2, 44), features.3:(48, 124), features.6:(144, 288), features.8:(288, 166), features.10:(192, 192)\n",
      "2025-03-29 20:31:22,435 - MainProcess - INFO - finetuning:features.0:(2, 44), features.3:(48, 124), features.6:(144, 288), features.8:(288, 166), features.10:(192, 192)\n",
      "2025-03-29 20:31:39,181 - MainProcess - INFO - compressed_model:\n",
      "{\n",
      "    \"config_str\": \"features.0:(2, 44), features.3:(48, 124), features.6:(144, 288), features.8:(288, 179), features.10:(192, 192)\",\n",
      "    \"params\": 55985001,\n",
      "    \"flops\": 348246592,\n",
      "    \"accuracy\": 0.981,\n",
      "    \"inference_time\": 0.15648580053050046,\n",
      "    \"compression_rate\": 1.0189302309738282,\n",
      "    \"accepted\": true\n",
      "}\n",
      "2025-03-29 20:31:39,189 - MainProcess - INFO - Compressing to:features.0:(2, 44), features.3:(48, 124), features.6:(144, 288), features.8:(288, 166), features.10:(192, 179)\n",
      "2025-03-29 20:31:43,354 - MainProcess - INFO - finetuning:features.0:(2, 44), features.3:(48, 124), features.6:(144, 288), features.8:(288, 166), features.10:(192, 179)\n",
      "2025-03-29 20:32:01,213 - MainProcess - INFO - compressed_model:\n",
      "{\n",
      "    \"config_str\": \"features.0:(2, 44), features.3:(48, 124), features.6:(144, 288), features.8:(288, 179), features.10:(192, 179)\",\n",
      "    \"params\": 55959209,\n",
      "    \"flops\": 343887744,\n",
      "    \"accuracy\": 0.99,\n",
      "    \"inference_time\": 0.1607697318820184,\n",
      "    \"compression_rate\": 1.0193998632110757,\n",
      "    \"accepted\": true\n",
      "}\n",
      "2025-03-29 20:32:01,221 - MainProcess - INFO - Compressing to:features.0:(2, 44), features.3:(48, 124), features.6:(144, 288), features.8:(288, 166), features.10:(192, 166)\n",
      "2025-03-29 20:32:05,470 - MainProcess - INFO - finetuning:features.0:(2, 44), features.3:(48, 124), features.6:(144, 288), features.8:(288, 166), features.10:(192, 166)\n",
      "2025-03-29 20:32:19,255 - MainProcess - INFO - compressed_model:\n",
      "{\n",
      "    \"config_str\": \"features.0:(2, 44), features.3:(48, 124), features.6:(144, 288), features.8:(288, 179), features.10:(192, 166)\",\n",
      "    \"params\": 55933417,\n",
      "    \"flops\": 339528896,\n",
      "    \"accuracy\": 0.9904,\n",
      "    \"inference_time\": 0.16752282120366513,\n",
      "    \"compression_rate\": 1.0198699285616681,\n",
      "    \"accepted\": true\n",
      "}\n",
      "2025-03-29 20:32:19,269 - MainProcess - INFO - Compressing to:features.0:(2, 44), features.3:(48, 124), features.6:(144, 268), features.8:(288, 192), features.10:(192, 192)\n",
      "2025-03-29 20:32:23,748 - MainProcess - INFO - finetuning:features.0:(2, 44), features.3:(48, 124), features.6:(144, 268), features.8:(288, 192), features.10:(192, 192)\n"
     ]
    },
    {
     "name": "stdout",
     "output_type": "stream",
     "text": [
      "Epoch 1/3, Loss: 0.3166\n",
      "Epoch 1/3, Loss: 0.3195\n",
      "Epoch 1/3, Loss: 0.3216\n",
      "Epoch 1/3, Loss: 0.3195\n",
      "Epoch 2/3, Loss: 0.0536\n",
      "Epoch 2/3, Loss: 0.0544\n",
      "Epoch 2/3, Loss: 0.0525\n",
      "Epoch 2/3, Loss: 0.0526\n",
      "Epoch 3/3, Loss: 0.0393\n",
      "Epoch 3/3, Loss: 0.0396\n",
      "Epoch 3/3, Loss: 0.0402\n",
      "Epoch 3/3, Loss: 0.0390\n"
     ]
    },
    {
     "name": "stderr",
     "output_type": "stream",
     "text": [
      "2025-03-29 20:41:32,136 - MainProcess - INFO - compressed_model:\n",
      "{\n",
      "    \"config_str\": \"features.0:(2, 44), features.3:(48, 124), features.6:(144, 288), features.8:(288, 166), features.10:(192, 192)\",\n",
      "    \"params\": 55950057,\n",
      "    \"flops\": 342341056,\n",
      "    \"accuracy\": 0.9897,\n",
      "    \"inference_time\": 0.15929778670049777,\n",
      "    \"compression_rate\": 1.019566610986652,\n",
      "    \"accepted\": true\n",
      "}\n",
      "2025-03-29 20:41:32,152 - MainProcess - INFO - Compressing to:features.0:(2, 44), features.3:(48, 124), features.6:(144, 268), features.8:(288, 192), features.10:(192, 179)\n",
      "2025-03-29 20:41:36,334 - MainProcess - INFO - finetuning:features.0:(2, 44), features.3:(48, 124), features.6:(144, 268), features.8:(288, 192), features.10:(192, 179)\n",
      "2025-03-29 20:41:56,116 - MainProcess - INFO - compressed_model:\n",
      "{\n",
      "    \"config_str\": \"features.0:(2, 44), features.3:(48, 124), features.6:(144, 288), features.8:(288, 166), features.10:(192, 179)\",\n",
      "    \"params\": 55924265,\n",
      "    \"flops\": 446640896,\n",
      "    \"accuracy\": 0.9904,\n",
      "    \"inference_time\": 0.1607943568260047,\n",
      "    \"compression_rate\": 1.020036830166655,\n",
      "    \"accepted\": true\n",
      "}\n",
      "2025-03-29 20:41:56,125 - MainProcess - INFO - Compressing to:features.0:(2, 44), features.3:(48, 124), features.6:(144, 268), features.8:(288, 192), features.10:(192, 166)\n",
      "2025-03-29 20:42:02,065 - MainProcess - INFO - finetuning:features.0:(2, 44), features.3:(48, 124), features.6:(144, 268), features.8:(288, 192), features.10:(192, 166)\n",
      "2025-03-29 20:42:29,408 - MainProcess - INFO - compressed_model:\n",
      "{\n",
      "    \"config_str\": \"features.0:(2, 44), features.3:(48, 124), features.6:(144, 288), features.8:(288, 166), features.10:(192, 166)\",\n",
      "    \"params\": 55898473,\n",
      "    \"flops\": 333623360,\n",
      "    \"accuracy\": 0.9902,\n",
      "    \"inference_time\": 0.16841308883294434,\n",
      "    \"compression_rate\": 1.0205074832723964,\n",
      "    \"accepted\": true\n",
      "}\n",
      "2025-03-29 20:42:29,414 - MainProcess - INFO - Compressing to:features.0:(2, 44), features.3:(48, 124), features.6:(144, 268), features.8:(288, 179), features.10:(192, 192)\n",
      "2025-03-29 20:42:33,514 - MainProcess - INFO - finetuning:features.0:(2, 44), features.3:(48, 124), features.6:(144, 268), features.8:(288, 179), features.10:(192, 192)\n",
      "2025-03-29 20:42:55,991 - MainProcess - INFO - compressed_model:\n",
      "{\n",
      "    \"config_str\": \"features.0:(2, 44), features.3:(48, 124), features.6:(144, 268), features.8:(288, 192), features.10:(192, 192)\",\n",
      "    \"params\": 56019945,\n",
      "    \"flops\": 354152128,\n",
      "    \"accuracy\": 0.9903,\n",
      "    \"inference_time\": 0.17215258300684058,\n",
      "    \"compression_rate\": 1.0182946448804975,\n",
      "    \"accepted\": true\n",
      "}\n",
      "2025-03-29 20:42:56,003 - MainProcess - INFO - Compressing to:features.0:(2, 44), features.3:(48, 124), features.6:(144, 268), features.8:(288, 179), features.10:(192, 179)\n",
      "2025-03-29 20:43:00,470 - MainProcess - INFO - finetuning:features.0:(2, 44), features.3:(48, 124), features.6:(144, 268), features.8:(288, 179), features.10:(192, 179)\n"
     ]
    },
    {
     "name": "stdout",
     "output_type": "stream",
     "text": [
      "Epoch 1/3, Loss: 0.3264\n",
      "Epoch 1/3, Loss: 0.3239\n",
      "Epoch 1/3, Loss: 0.3246\n",
      "Epoch 1/3, Loss: 0.3247\n",
      "Epoch 2/3, Loss: 0.0534\n",
      "Epoch 2/3, Loss: 0.0527\n",
      "Epoch 2/3, Loss: 0.0546\n",
      "Epoch 2/3, Loss: 0.0523\n",
      "Epoch 3/3, Loss: 0.0392\n",
      "Epoch 3/3, Loss: 0.0389\n",
      "Epoch 3/3, Loss: 0.0393\n",
      "Epoch 3/3, Loss: 0.0385\n"
     ]
    },
    {
     "name": "stderr",
     "output_type": "stream",
     "text": [
      "2025-03-29 20:51:37,791 - MainProcess - INFO - compressed_model:\n",
      "{\n",
      "    \"config_str\": \"features.0:(2, 44), features.3:(48, 124), features.6:(144, 268), features.8:(288, 192), features.10:(192, 179)\",\n",
      "    \"params\": 55994153,\n",
      "    \"flops\": 349793280,\n",
      "    \"accuracy\": 0.9905,\n",
      "    \"inference_time\": 0.15541103842911444,\n",
      "    \"compression_rate\": 1.0187636912732656,\n",
      "    \"accepted\": true\n",
      "}\n",
      "2025-03-29 20:51:37,804 - MainProcess - INFO - Compressing to:features.0:(2, 44), features.3:(48, 124), features.6:(144, 268), features.8:(288, 179), features.10:(192, 166)\n",
      "2025-03-29 20:51:41,977 - MainProcess - INFO - finetuning:features.0:(2, 44), features.3:(48, 124), features.6:(144, 268), features.8:(288, 179), features.10:(192, 166)\n",
      "2025-03-29 20:52:03,489 - MainProcess - INFO - compressed_model:\n",
      "{\n",
      "    \"config_str\": \"features.0:(2, 44), features.3:(48, 124), features.6:(144, 268), features.8:(288, 192), features.10:(192, 166)\",\n",
      "    \"params\": 55968361,\n",
      "    \"flops\": 345434432,\n",
      "    \"accuracy\": 0.9892,\n",
      "    \"inference_time\": 0.15763593124988984,\n",
      "    \"compression_rate\": 1.0192331699690116,\n",
      "    \"accepted\": true\n",
      "}\n",
      "2025-03-29 20:52:03,498 - MainProcess - INFO - Compressing to:features.0:(2, 44), features.3:(48, 124), features.6:(144, 268), features.8:(288, 166), features.10:(192, 192)\n",
      "2025-03-29 20:52:03,499 - MainProcess - INFO - Evaluated 120 configurations, found 120 accepted models\n",
      "2025-03-29 20:52:07,769 - MainProcess - INFO - finetuning:features.0:(2, 44), features.3:(48, 124), features.6:(144, 268), features.8:(288, 166), features.10:(192, 192)\n",
      "2025-03-29 20:52:47,855 - MainProcess - INFO - compressed_model:\n",
      "{\n",
      "    \"config_str\": \"features.0:(2, 44), features.3:(48, 124), features.6:(144, 268), features.8:(288, 179), features.10:(192, 192)\",\n",
      "    \"params\": 55985001,\n",
      "    \"flops\": 348246592,\n",
      "    \"accuracy\": 0.9903,\n",
      "    \"inference_time\": 0.16677489300948545,\n",
      "    \"compression_rate\": 1.0189302309738282,\n",
      "    \"accepted\": true\n",
      "}\n",
      "2025-03-29 20:52:47,861 - MainProcess - INFO - Compressing to:features.0:(2, 44), features.3:(48, 124), features.6:(144, 268), features.8:(288, 166), features.10:(192, 179)\n",
      "2025-03-29 20:52:52,016 - MainProcess - INFO - finetuning:features.0:(2, 44), features.3:(48, 124), features.6:(144, 268), features.8:(288, 166), features.10:(192, 179)\n",
      "2025-03-29 20:53:22,814 - MainProcess - INFO - compressed_model:\n",
      "{\n",
      "    \"config_str\": \"features.0:(2, 44), features.3:(48, 124), features.6:(144, 268), features.8:(288, 179), features.10:(192, 179)\",\n",
      "    \"params\": 55959209,\n",
      "    \"flops\": 343887744,\n",
      "    \"accuracy\": 0.9898,\n",
      "    \"inference_time\": 0.1691460548692448,\n",
      "    \"compression_rate\": 1.0193998632110757,\n",
      "    \"accepted\": true\n",
      "}\n",
      "2025-03-29 20:53:22,827 - MainProcess - INFO - Compressing to:features.0:(2, 44), features.3:(48, 124), features.6:(144, 268), features.8:(288, 166), features.10:(192, 166)\n",
      "2025-03-29 20:53:27,206 - MainProcess - INFO - finetuning:features.0:(2, 44), features.3:(48, 124), features.6:(144, 268), features.8:(288, 166), features.10:(192, 166)\n"
     ]
    },
    {
     "name": "stdout",
     "output_type": "stream",
     "text": [
      "Epoch 1/3, Loss: 0.3279\n",
      "Epoch 1/3, Loss: 0.3067\n",
      "Epoch 1/3, Loss: 0.3185\n",
      "Epoch 1/3, Loss: 0.3235\n",
      "Epoch 2/3, Loss: 0.0524\n",
      "Epoch 2/3, Loss: 0.0531\n",
      "Epoch 2/3, Loss: 0.0546\n",
      "Epoch 2/3, Loss: 0.0536\n",
      "Epoch 3/3, Loss: 0.0393\n",
      "Epoch 3/3, Loss: 0.0385\n",
      "Epoch 3/3, Loss: 0.0387\n"
     ]
    },
    {
     "name": "stderr",
     "output_type": "stream",
     "text": [
      "2025-03-29 21:01:41,360 - MainProcess - INFO - compressed_model:\n",
      "{\n",
      "    \"config_str\": \"features.0:(2, 44), features.3:(48, 124), features.6:(144, 268), features.8:(288, 179), features.10:(192, 166)\",\n",
      "    \"params\": 55933417,\n",
      "    \"flops\": 339528896,\n",
      "    \"accuracy\": 0.9892,\n",
      "    \"inference_time\": 0.15574704563035582,\n",
      "    \"compression_rate\": 1.0198699285616681,\n",
      "    \"accepted\": true\n",
      "}\n",
      "2025-03-29 21:01:41,374 - MainProcess - INFO - Compressing to:features.0:(2, 44), features.3:(48, 124), features.6:(144, 249), features.8:(288, 192), features.10:(192, 192)\n",
      "2025-03-29 21:01:45,620 - MainProcess - INFO - finetuning:features.0:(2, 44), features.3:(48, 124), features.6:(144, 249), features.8:(288, 192), features.10:(192, 192)\n"
     ]
    },
    {
     "name": "stdout",
     "output_type": "stream",
     "text": [
      "Epoch 3/3, Loss: 0.0403\n"
     ]
    },
    {
     "name": "stderr",
     "output_type": "stream",
     "text": [
      "2025-03-29 21:02:08,678 - MainProcess - INFO - compressed_model:\n",
      "{\n",
      "    \"config_str\": \"features.0:(2, 44), features.3:(48, 124), features.6:(144, 268), features.8:(288, 166), features.10:(192, 192)\",\n",
      "    \"params\": 55950057,\n",
      "    \"flops\": 342341056,\n",
      "    \"accuracy\": 0.9892,\n",
      "    \"inference_time\": 0.15500367472379326,\n",
      "    \"compression_rate\": 1.019566610986652,\n",
      "    \"accepted\": true\n",
      "}\n",
      "2025-03-29 21:02:08,687 - MainProcess - INFO - Compressing to:features.0:(2, 44), features.3:(48, 124), features.6:(144, 249), features.8:(288, 192), features.10:(192, 179)\n",
      "2025-03-29 21:02:12,966 - MainProcess - INFO - finetuning:features.0:(2, 44), features.3:(48, 124), features.6:(144, 249), features.8:(288, 192), features.10:(192, 179)\n",
      "2025-03-29 21:03:03,464 - MainProcess - INFO - compressed_model:\n",
      "{\n",
      "    \"config_str\": \"features.0:(2, 44), features.3:(48, 124), features.6:(144, 268), features.8:(288, 166), features.10:(192, 179)\",\n",
      "    \"params\": 55924265,\n",
      "    \"flops\": 337982208,\n",
      "    \"accuracy\": 0.9905,\n",
      "    \"inference_time\": 0.16031894106773814,\n",
      "    \"compression_rate\": 1.020036830166655,\n",
      "    \"accepted\": true\n",
      "}\n",
      "2025-03-29 21:03:03,469 - MainProcess - INFO - Compressing to:features.0:(2, 44), features.3:(48, 124), features.6:(144, 249), features.8:(288, 192), features.10:(192, 166)\n",
      "2025-03-29 21:03:07,624 - MainProcess - INFO - finetuning:features.0:(2, 44), features.3:(48, 124), features.6:(144, 249), features.8:(288, 192), features.10:(192, 166)\n",
      "2025-03-29 21:03:46,360 - MainProcess - INFO - compressed_model:\n",
      "{\n",
      "    \"config_str\": \"features.0:(2, 44), features.3:(48, 124), features.6:(144, 268), features.8:(288, 166), features.10:(192, 166)\",\n",
      "    \"params\": 55898473,\n",
      "    \"flops\": 333623360,\n",
      "    \"accuracy\": 0.9897,\n",
      "    \"inference_time\": 0.1662799400888431,\n",
      "    \"compression_rate\": 1.0205074832723964,\n",
      "    \"accepted\": true\n",
      "}\n",
      "2025-03-29 21:03:46,370 - MainProcess - INFO - Compressing to:features.0:(2, 44), features.3:(48, 124), features.6:(144, 249), features.8:(288, 179), features.10:(192, 192)\n",
      "2025-03-29 21:03:50,729 - MainProcess - INFO - finetuning:features.0:(2, 44), features.3:(48, 124), features.6:(144, 249), features.8:(288, 179), features.10:(192, 192)\n"
     ]
    },
    {
     "name": "stdout",
     "output_type": "stream",
     "text": [
      "Epoch 1/3, Loss: 0.3195\n",
      "Epoch 1/3, Loss: 0.3159\n",
      "Epoch 1/3, Loss: 0.3162\n",
      "Epoch 1/3, Loss: 0.3303\n",
      "Epoch 2/3, Loss: 0.0533\n",
      "Epoch 2/3, Loss: 0.0530\n",
      "Epoch 2/3, Loss: 0.0535\n",
      "Epoch 2/3, Loss: 0.0535\n",
      "Epoch 3/3, Loss: 0.0391\n",
      "Epoch 3/3, Loss: 0.0391\n",
      "Epoch 3/3, Loss: 0.0390\n"
     ]
    },
    {
     "name": "stderr",
     "output_type": "stream",
     "text": [
      "2025-03-29 21:11:38,881 - MainProcess - INFO - compressed_model:\n",
      "{\n",
      "    \"config_str\": \"features.0:(2, 44), features.3:(48, 124), features.6:(144, 249), features.8:(288, 192), features.10:(192, 192)\",\n",
      "    \"params\": 56019945,\n",
      "    \"flops\": 354152128,\n",
      "    \"accuracy\": 0.9909,\n",
      "    \"inference_time\": 0.15691647408114878,\n",
      "    \"compression_rate\": 1.0182946448804975,\n",
      "    \"accepted\": true\n",
      "}\n",
      "2025-03-29 21:11:38,892 - MainProcess - INFO - Compressing to:features.0:(2, 44), features.3:(48, 124), features.6:(144, 249), features.8:(288, 179), features.10:(192, 179)\n",
      "2025-03-29 21:11:43,187 - MainProcess - INFO - finetuning:features.0:(2, 44), features.3:(48, 124), features.6:(144, 249), features.8:(288, 179), features.10:(192, 179)\n",
      "2025-03-29 21:12:07,782 - MainProcess - INFO - compressed_model:\n",
      "{\n",
      "    \"config_str\": \"features.0:(2, 44), features.3:(48, 124), features.6:(144, 249), features.8:(288, 192), features.10:(192, 179)\",\n",
      "    \"params\": 55994153,\n",
      "    \"flops\": 349793280,\n",
      "    \"accuracy\": 0.9894,\n",
      "    \"inference_time\": 0.15566348067767555,\n",
      "    \"compression_rate\": 1.0187636912732656,\n",
      "    \"accepted\": true\n",
      "}\n",
      "2025-03-29 21:12:07,792 - MainProcess - INFO - Compressing to:features.0:(2, 44), features.3:(48, 124), features.6:(144, 249), features.8:(288, 179), features.10:(192, 166)\n",
      "2025-03-29 21:12:12,036 - MainProcess - INFO - finetuning:features.0:(2, 44), features.3:(48, 124), features.6:(144, 249), features.8:(288, 179), features.10:(192, 166)\n"
     ]
    },
    {
     "name": "stdout",
     "output_type": "stream",
     "text": [
      "Epoch 3/3, Loss: 0.0392\n"
     ]
    },
    {
     "name": "stderr",
     "output_type": "stream",
     "text": [
      "2025-03-29 21:13:15,443 - MainProcess - INFO - compressed_model:\n",
      "{\n",
      "    \"config_str\": \"features.0:(2, 44), features.3:(48, 124), features.6:(144, 249), features.8:(288, 192), features.10:(192, 166)\",\n",
      "    \"params\": 55968361,\n",
      "    \"flops\": 345434432,\n",
      "    \"accuracy\": 0.9888,\n",
      "    \"inference_time\": 0.1610220283459706,\n",
      "    \"compression_rate\": 1.0192331699690116,\n",
      "    \"accepted\": true\n",
      "}\n",
      "2025-03-29 21:13:15,451 - MainProcess - INFO - Compressing to:features.0:(2, 44), features.3:(48, 124), features.6:(144, 249), features.8:(288, 166), features.10:(192, 192)\n",
      "2025-03-29 21:13:19,758 - MainProcess - INFO - finetuning:features.0:(2, 44), features.3:(48, 124), features.6:(144, 249), features.8:(288, 166), features.10:(192, 192)\n",
      "2025-03-29 21:14:06,351 - MainProcess - INFO - compressed_model:\n",
      "{\n",
      "    \"config_str\": \"features.0:(2, 44), features.3:(48, 124), features.6:(144, 249), features.8:(288, 179), features.10:(192, 192)\",\n",
      "    \"params\": 55985001,\n",
      "    \"flops\": 348246592,\n",
      "    \"accuracy\": 0.9905,\n",
      "    \"inference_time\": 0.16599419061292256,\n",
      "    \"compression_rate\": 1.0189302309738282,\n",
      "    \"accepted\": true\n",
      "}\n",
      "2025-03-29 21:14:06,367 - MainProcess - INFO - Compressing to:features.0:(2, 44), features.3:(48, 124), features.6:(144, 249), features.8:(288, 166), features.10:(192, 179)\n",
      "2025-03-29 21:14:06,368 - MainProcess - INFO - Evaluated 130 configurations, found 130 accepted models\n",
      "2025-03-29 21:14:10,626 - MainProcess - INFO - finetuning:features.0:(2, 44), features.3:(48, 124), features.6:(144, 249), features.8:(288, 166), features.10:(192, 179)\n"
     ]
    },
    {
     "name": "stdout",
     "output_type": "stream",
     "text": [
      "Epoch 1/3, Loss: 0.3194\n",
      "Epoch 1/3, Loss: 0.3275\n",
      "Epoch 1/3, Loss: 0.3164\n",
      "Epoch 1/3, Loss: 0.3209\n",
      "Epoch 2/3, Loss: 0.0529\n",
      "Epoch 2/3, Loss: 0.0537\n",
      "Epoch 2/3, Loss: 0.0525\n",
      "Epoch 2/3, Loss: 0.0525\n",
      "Epoch 3/3, Loss: 0.0401\n",
      "Epoch 3/3, Loss: 0.0400\n"
     ]
    },
    {
     "name": "stderr",
     "output_type": "stream",
     "text": [
      "2025-03-29 21:21:35,256 - MainProcess - INFO - compressed_model:\n",
      "{\n",
      "    \"config_str\": \"features.0:(2, 44), features.3:(48, 124), features.6:(144, 249), features.8:(288, 179), features.10:(192, 179)\",\n",
      "    \"params\": 55959209,\n",
      "    \"flops\": 343887744,\n",
      "    \"accuracy\": 0.9905,\n",
      "    \"inference_time\": 0.15428781610638725,\n",
      "    \"compression_rate\": 1.0193998632110757,\n",
      "    \"accepted\": true\n",
      "}\n",
      "2025-03-29 21:21:35,268 - MainProcess - INFO - Compressing to:features.0:(2, 44), features.3:(48, 124), features.6:(144, 249), features.8:(288, 166), features.10:(192, 166)\n",
      "2025-03-29 21:21:39,363 - MainProcess - INFO - finetuning:features.0:(2, 44), features.3:(48, 124), features.6:(144, 249), features.8:(288, 166), features.10:(192, 166)\n"
     ]
    },
    {
     "name": "stdout",
     "output_type": "stream",
     "text": [
      "Epoch 3/3, Loss: 0.0389\n"
     ]
    },
    {
     "name": "stderr",
     "output_type": "stream",
     "text": [
      "2025-03-29 21:22:04,611 - MainProcess - INFO - compressed_model:\n",
      "{\n",
      "    \"config_str\": \"features.0:(2, 44), features.3:(48, 124), features.6:(144, 249), features.8:(288, 179), features.10:(192, 166)\",\n",
      "    \"params\": 55933417,\n",
      "    \"flops\": 339528896,\n",
      "    \"accuracy\": 0.99,\n",
      "    \"inference_time\": 0.15368701748534122,\n",
      "    \"compression_rate\": 1.0198699285616681,\n",
      "    \"accepted\": true\n",
      "}\n",
      "2025-03-29 21:22:04,624 - MainProcess - INFO - Compressing to:features.0:(2, 41), features.3:(48, 144), features.6:(144, 288), features.8:(288, 192), features.10:(192, 192)\n",
      "2025-03-29 21:22:08,788 - MainProcess - INFO - finetuning:features.0:(2, 41), features.3:(48, 144), features.6:(144, 288), features.8:(288, 192), features.10:(192, 192)\n"
     ]
    },
    {
     "name": "stdout",
     "output_type": "stream",
     "text": [
      "Epoch 3/3, Loss: 0.0392\n"
     ]
    },
    {
     "name": "stderr",
     "output_type": "stream",
     "text": [
      "2025-03-29 21:23:22,777 - MainProcess - INFO - compressed_model:\n",
      "{\n",
      "    \"config_str\": \"features.0:(2, 44), features.3:(48, 124), features.6:(144, 249), features.8:(288, 166), features.10:(192, 192)\",\n",
      "    \"params\": 55950057,\n",
      "    \"flops\": 342341056,\n",
      "    \"accuracy\": 0.9844,\n",
      "    \"inference_time\": 0.15764103219261086,\n",
      "    \"compression_rate\": 1.019566610986652,\n",
      "    \"accepted\": true\n",
      "}\n",
      "2025-03-29 21:23:22,789 - MainProcess - INFO - Compressing to:features.0:(2, 41), features.3:(48, 144), features.6:(144, 288), features.8:(288, 192), features.10:(192, 179)\n",
      "2025-03-29 21:23:27,062 - MainProcess - INFO - finetuning:features.0:(2, 41), features.3:(48, 144), features.6:(144, 288), features.8:(288, 192), features.10:(192, 179)\n",
      "2025-03-29 21:24:21,445 - MainProcess - INFO - compressed_model:\n",
      "{\n",
      "    \"config_str\": \"features.0:(2, 44), features.3:(48, 124), features.6:(144, 249), features.8:(288, 166), features.10:(192, 179)\",\n",
      "    \"params\": 55924265,\n",
      "    \"flops\": 384832256,\n",
      "    \"accuracy\": 0.9898,\n",
      "    \"inference_time\": 0.16484986191848786,\n",
      "    \"compression_rate\": 1.020036830166655,\n",
      "    \"accepted\": true\n",
      "}\n",
      "2025-03-29 21:24:21,452 - MainProcess - INFO - Compressing to:features.0:(2, 41), features.3:(48, 144), features.6:(144, 288), features.8:(288, 192), features.10:(192, 166)\n"
     ]
    },
    {
     "name": "stdout",
     "output_type": "stream",
     "text": [
      "Epoch 1/3, Loss: 0.3234\n"
     ]
    },
    {
     "name": "stderr",
     "output_type": "stream",
     "text": [
      "2025-03-29 21:24:25,880 - MainProcess - INFO - finetuning:features.0:(2, 41), features.3:(48, 144), features.6:(144, 288), features.8:(288, 192), features.10:(192, 166)\n"
     ]
    },
    {
     "name": "stdout",
     "output_type": "stream",
     "text": [
      "Epoch 1/3, Loss: 0.3175\n",
      "Epoch 1/3, Loss: 0.3156\n",
      "Epoch 2/3, Loss: 0.0536\n",
      "Epoch 1/3, Loss: 0.3239\n",
      "Epoch 2/3, Loss: 0.0529\n",
      "Epoch 2/3, Loss: 0.0533\n",
      "Epoch 3/3, Loss: 0.0400\n",
      "Epoch 2/3, Loss: 0.0535\n",
      "Epoch 3/3, Loss: 0.0401\n"
     ]
    },
    {
     "name": "stderr",
     "output_type": "stream",
     "text": [
      "2025-03-29 21:31:28,522 - MainProcess - INFO - compressed_model:\n",
      "{\n",
      "    \"config_str\": \"features.0:(2, 44), features.3:(48, 124), features.6:(144, 249), features.8:(288, 166), features.10:(192, 166)\",\n",
      "    \"params\": 55898473,\n",
      "    \"flops\": 333623360,\n",
      "    \"accuracy\": 0.9888,\n",
      "    \"inference_time\": 0.15383039108000998,\n",
      "    \"compression_rate\": 1.0205074832723964,\n",
      "    \"accepted\": true\n",
      "}\n",
      "2025-03-29 21:31:28,537 - MainProcess - INFO - Compressing to:features.0:(2, 41), features.3:(48, 144), features.6:(144, 288), features.8:(288, 179), features.10:(192, 192)\n",
      "2025-03-29 21:31:32,913 - MainProcess - INFO - finetuning:features.0:(2, 41), features.3:(48, 144), features.6:(144, 288), features.8:(288, 179), features.10:(192, 192)\n"
     ]
    },
    {
     "name": "stdout",
     "output_type": "stream",
     "text": [
      "Epoch 3/3, Loss: 0.0395\n"
     ]
    },
    {
     "name": "stderr",
     "output_type": "stream",
     "text": [
      "2025-03-29 21:31:59,267 - MainProcess - INFO - compressed_model:\n",
      "{\n",
      "    \"config_str\": \"features.0:(2, 41), features.3:(48, 144), features.6:(144, 288), features.8:(288, 192), features.10:(192, 192)\",\n",
      "    \"params\": 56019945,\n",
      "    \"flops\": 354152128,\n",
      "    \"accuracy\": 0.9912,\n",
      "    \"inference_time\": 0.15219189862536775,\n",
      "    \"compression_rate\": 1.0182946448804975,\n",
      "    \"accepted\": true\n",
      "}\n",
      "2025-03-29 21:31:59,273 - MainProcess - INFO - Compressing to:features.0:(2, 41), features.3:(48, 144), features.6:(144, 288), features.8:(288, 179), features.10:(192, 179)\n",
      "2025-03-29 21:32:03,570 - MainProcess - INFO - finetuning:features.0:(2, 41), features.3:(48, 144), features.6:(144, 288), features.8:(288, 179), features.10:(192, 179)\n"
     ]
    },
    {
     "name": "stdout",
     "output_type": "stream",
     "text": [
      "Epoch 3/3, Loss: 0.0394\n"
     ]
    },
    {
     "name": "stderr",
     "output_type": "stream",
     "text": [
      "2025-03-29 21:33:31,253 - MainProcess - INFO - compressed_model:\n",
      "{\n",
      "    \"config_str\": \"features.0:(2, 41), features.3:(48, 144), features.6:(144, 288), features.8:(288, 192), features.10:(192, 179)\",\n",
      "    \"params\": 55994153,\n",
      "    \"flops\": 396643328,\n",
      "    \"accuracy\": 0.9885,\n",
      "    \"inference_time\": 0.15868187659358776,\n",
      "    \"compression_rate\": 1.0187636912732656,\n",
      "    \"accepted\": true\n",
      "}\n",
      "2025-03-29 21:33:31,262 - MainProcess - INFO - Compressing to:features.0:(2, 41), features.3:(48, 144), features.6:(144, 288), features.8:(288, 179), features.10:(192, 166)\n",
      "2025-03-29 21:33:35,454 - MainProcess - INFO - finetuning:features.0:(2, 41), features.3:(48, 144), features.6:(144, 288), features.8:(288, 179), features.10:(192, 166)\n"
     ]
    },
    {
     "name": "stdout",
     "output_type": "stream",
     "text": [
      "Epoch 1/3, Loss: 0.3121\n"
     ]
    },
    {
     "name": "stderr",
     "output_type": "stream",
     "text": [
      "2025-03-29 21:34:37,278 - MainProcess - INFO - compressed_model:\n",
      "{\n",
      "    \"config_str\": \"features.0:(2, 41), features.3:(48, 144), features.6:(144, 288), features.8:(288, 192), features.10:(192, 166)\",\n",
      "    \"params\": 55968361,\n",
      "    \"flops\": 345434432,\n",
      "    \"accuracy\": 0.9884,\n",
      "    \"inference_time\": 0.1653069305824879,\n",
      "    \"compression_rate\": 1.0192331699690116,\n",
      "    \"accepted\": true\n",
      "}\n",
      "2025-03-29 21:34:37,287 - MainProcess - INFO - Compressing to:features.0:(2, 41), features.3:(48, 144), features.6:(144, 288), features.8:(288, 166), features.10:(192, 192)\n",
      "2025-03-29 21:34:41,574 - MainProcess - INFO - finetuning:features.0:(2, 41), features.3:(48, 144), features.6:(144, 288), features.8:(288, 166), features.10:(192, 192)\n"
     ]
    },
    {
     "name": "stdout",
     "output_type": "stream",
     "text": [
      "Epoch 1/3, Loss: 0.3149\n",
      "Epoch 1/3, Loss: 0.3300\n",
      "Epoch 2/3, Loss: 0.0522\n",
      "Epoch 1/3, Loss: 0.3187\n",
      "Epoch 2/3, Loss: 0.0536\n",
      "Epoch 2/3, Loss: 0.0545\n",
      "Epoch 3/3, Loss: 0.0385\n",
      "Epoch 2/3, Loss: 0.0527\n",
      "Epoch 3/3, Loss: 0.0387\n"
     ]
    },
    {
     "name": "stderr",
     "output_type": "stream",
     "text": [
      "2025-03-29 21:41:22,981 - MainProcess - INFO - compressed_model:\n",
      "{\n",
      "    \"config_str\": \"features.0:(2, 41), features.3:(48, 144), features.6:(144, 288), features.8:(288, 179), features.10:(192, 192)\",\n",
      "    \"params\": 55985001,\n",
      "    \"flops\": 357667392,\n",
      "    \"accuracy\": 0.9835,\n",
      "    \"inference_time\": 0.15173318937832128,\n",
      "    \"compression_rate\": 1.0189302309738282,\n",
      "    \"accepted\": true\n",
      "}\n",
      "2025-03-29 21:41:22,993 - MainProcess - INFO - Compressing to:features.0:(2, 41), features.3:(48, 144), features.6:(144, 288), features.8:(288, 166), features.10:(192, 179)\n",
      "2025-03-29 21:41:27,136 - MainProcess - INFO - finetuning:features.0:(2, 41), features.3:(48, 144), features.6:(144, 288), features.8:(288, 166), features.10:(192, 179)\n",
      "2025-03-29 21:41:54,632 - MainProcess - INFO - compressed_model:\n",
      "{\n",
      "    \"config_str\": \"features.0:(2, 41), features.3:(48, 144), features.6:(144, 288), features.8:(288, 179), features.10:(192, 179)\",\n",
      "    \"params\": 55959209,\n",
      "    \"flops\": 343887744,\n",
      "    \"accuracy\": 0.9889,\n",
      "    \"inference_time\": 0.15035582246800644,\n",
      "    \"compression_rate\": 1.0193998632110757,\n",
      "    \"accepted\": true\n",
      "}\n",
      "2025-03-29 21:41:54,640 - MainProcess - INFO - Compressing to:features.0:(2, 41), features.3:(48, 144), features.6:(144, 288), features.8:(288, 166), features.10:(192, 166)\n",
      "2025-03-29 21:41:54,641 - MainProcess - INFO - Evaluated 140 configurations, found 140 accepted models\n"
     ]
    },
    {
     "name": "stdout",
     "output_type": "stream",
     "text": [
      "Epoch 3/3, Loss: 0.0409\n"
     ]
    },
    {
     "name": "stderr",
     "output_type": "stream",
     "text": [
      "2025-03-29 21:41:58,825 - MainProcess - INFO - finetuning:features.0:(2, 41), features.3:(48, 144), features.6:(144, 288), features.8:(288, 166), features.10:(192, 166)\n"
     ]
    },
    {
     "name": "stdout",
     "output_type": "stream",
     "text": [
      "Epoch 3/3, Loss: 0.0409\n"
     ]
    },
    {
     "name": "stderr",
     "output_type": "stream",
     "text": [
      "2025-03-29 21:43:36,869 - MainProcess - INFO - compressed_model:\n",
      "{\n",
      "    \"config_str\": \"features.0:(2, 41), features.3:(48, 144), features.6:(144, 288), features.8:(288, 179), features.10:(192, 166)\",\n",
      "    \"params\": 55933417,\n",
      "    \"flops\": 386378944,\n",
      "    \"accuracy\": 0.9883,\n",
      "    \"inference_time\": 0.15864152311013255,\n",
      "    \"compression_rate\": 1.0198699285616681,\n",
      "    \"accepted\": true\n",
      "}\n",
      "2025-03-29 21:43:36,876 - MainProcess - INFO - Compressing to:features.0:(2, 41), features.3:(48, 144), features.6:(144, 268), features.8:(288, 192), features.10:(192, 192)\n",
      "2025-03-29 21:43:41,183 - MainProcess - INFO - finetuning:features.0:(2, 41), features.3:(48, 144), features.6:(144, 268), features.8:(288, 192), features.10:(192, 192)\n"
     ]
    },
    {
     "name": "stdout",
     "output_type": "stream",
     "text": [
      "Epoch 1/3, Loss: 0.3176\n",
      "Epoch 1/3, Loss: 0.3184\n"
     ]
    },
    {
     "name": "stderr",
     "output_type": "stream",
     "text": [
      "2025-03-29 21:44:52,420 - MainProcess - INFO - compressed_model:\n",
      "{\n",
      "    \"config_str\": \"features.0:(2, 41), features.3:(48, 144), features.6:(144, 288), features.8:(288, 166), features.10:(192, 192)\",\n",
      "    \"params\": 55950057,\n",
      "    \"flops\": 342341056,\n",
      "    \"accuracy\": 0.9906,\n",
      "    \"inference_time\": 0.1646452198109556,\n",
      "    \"compression_rate\": 1.019566610986652,\n",
      "    \"accepted\": true\n",
      "}\n",
      "2025-03-29 21:44:52,433 - MainProcess - INFO - Compressing to:features.0:(2, 41), features.3:(48, 144), features.6:(144, 268), features.8:(288, 192), features.10:(192, 179)\n",
      "2025-03-29 21:44:56,673 - MainProcess - INFO - finetuning:features.0:(2, 41), features.3:(48, 144), features.6:(144, 268), features.8:(288, 192), features.10:(192, 179)\n"
     ]
    },
    {
     "name": "stdout",
     "output_type": "stream",
     "text": [
      "Epoch 1/3, Loss: 0.3224\n",
      "Epoch 2/3, Loss: 0.0524\n",
      "Epoch 2/3, Loss: 0.0543\n",
      "Epoch 1/3, Loss: 0.3344\n",
      "Epoch 2/3, Loss: 0.0539\n",
      "Epoch 3/3, Loss: 0.0412\n",
      "Epoch 3/3, Loss: 0.0389\n",
      "Epoch 2/3, Loss: 0.0536\n"
     ]
    },
    {
     "name": "stderr",
     "output_type": "stream",
     "text": [
      "2025-03-29 21:51:17,395 - MainProcess - INFO - compressed_model:\n",
      "{\n",
      "    \"config_str\": \"features.0:(2, 41), features.3:(48, 144), features.6:(144, 288), features.8:(288, 166), features.10:(192, 179)\",\n",
      "    \"params\": 55924265,\n",
      "    \"flops\": 337982208,\n",
      "    \"accuracy\": 0.9908,\n",
      "    \"inference_time\": 0.15424070236789192,\n",
      "    \"compression_rate\": 1.020036830166655,\n",
      "    \"accepted\": true\n",
      "}\n",
      "2025-03-29 21:51:17,410 - MainProcess - INFO - Compressing to:features.0:(2, 41), features.3:(48, 144), features.6:(144, 268), features.8:(288, 192), features.10:(192, 166)\n",
      "2025-03-29 21:51:21,578 - MainProcess - INFO - finetuning:features.0:(2, 41), features.3:(48, 144), features.6:(144, 268), features.8:(288, 192), features.10:(192, 166)\n",
      "2025-03-29 21:51:52,732 - MainProcess - INFO - compressed_model:\n",
      "{\n",
      "    \"config_str\": \"features.0:(2, 41), features.3:(48, 144), features.6:(144, 288), features.8:(288, 166), features.10:(192, 166)\",\n",
      "    \"params\": 55898473,\n",
      "    \"flops\": 343044160,\n",
      "    \"accuracy\": 0.9911,\n",
      "    \"inference_time\": 0.15307238349995542,\n",
      "    \"compression_rate\": 1.0205074832723964,\n",
      "    \"accepted\": true\n",
      "}\n",
      "2025-03-29 21:51:52,740 - MainProcess - INFO - Compressing to:features.0:(2, 41), features.3:(48, 144), features.6:(144, 268), features.8:(288, 179), features.10:(192, 192)\n",
      "2025-03-29 21:51:57,113 - MainProcess - INFO - finetuning:features.0:(2, 41), features.3:(48, 144), features.6:(144, 268), features.8:(288, 179), features.10:(192, 192)\n"
     ]
    },
    {
     "name": "stdout",
     "output_type": "stream",
     "text": [
      "Epoch 3/3, Loss: 0.0386\n",
      "Epoch 3/3, Loss: 0.0403\n"
     ]
    },
    {
     "name": "stderr",
     "output_type": "stream",
     "text": [
      "2025-03-29 21:53:48,105 - MainProcess - INFO - compressed_model:\n",
      "{\n",
      "    \"config_str\": \"features.0:(2, 41), features.3:(48, 144), features.6:(144, 268), features.8:(288, 192), features.10:(192, 192)\",\n",
      "    \"params\": 56019945,\n",
      "    \"flops\": 354152128,\n",
      "    \"accuracy\": 0.9903,\n",
      "    \"inference_time\": 0.1588370931629416,\n",
      "    \"compression_rate\": 1.0182946448804975,\n",
      "    \"accepted\": true\n",
      "}\n",
      "2025-03-29 21:53:48,135 - MainProcess - INFO - Compressing to:features.0:(2, 41), features.3:(48, 144), features.6:(144, 268), features.8:(288, 179), features.10:(192, 179)\n",
      "2025-03-29 21:53:52,364 - MainProcess - INFO - finetuning:features.0:(2, 41), features.3:(48, 144), features.6:(144, 268), features.8:(288, 179), features.10:(192, 179)\n"
     ]
    },
    {
     "name": "stdout",
     "output_type": "stream",
     "text": [
      "Epoch 1/3, Loss: 0.3161\n",
      "Epoch 1/3, Loss: 0.3115\n"
     ]
    },
    {
     "name": "stderr",
     "output_type": "stream",
     "text": [
      "2025-03-29 21:55:11,768 - MainProcess - INFO - compressed_model:\n",
      "{\n",
      "    \"config_str\": \"features.0:(2, 41), features.3:(48, 144), features.6:(144, 268), features.8:(288, 192), features.10:(192, 179)\",\n",
      "    \"params\": 55994153,\n",
      "    \"flops\": 349793280,\n",
      "    \"accuracy\": 0.987,\n",
      "    \"inference_time\": 0.16614031538588733,\n",
      "    \"compression_rate\": 1.0187636912732656,\n",
      "    \"accepted\": true\n",
      "}\n",
      "2025-03-29 21:55:11,778 - MainProcess - INFO - Compressing to:features.0:(2, 41), features.3:(48, 144), features.6:(144, 268), features.8:(288, 179), features.10:(192, 166)\n",
      "2025-03-29 21:55:16,062 - MainProcess - INFO - finetuning:features.0:(2, 41), features.3:(48, 144), features.6:(144, 268), features.8:(288, 179), features.10:(192, 166)\n"
     ]
    },
    {
     "name": "stdout",
     "output_type": "stream",
     "text": [
      "Epoch 1/3, Loss: 0.3206\n",
      "Epoch 2/3, Loss: 0.0531\n",
      "Epoch 2/3, Loss: 0.0533\n",
      "Epoch 1/3, Loss: 0.3336\n",
      "Epoch 2/3, Loss: 0.0553\n",
      "Epoch 3/3, Loss: 0.0398\n",
      "Epoch 3/3, Loss: 0.0396\n",
      "Epoch 2/3, Loss: 0.0532\n"
     ]
    },
    {
     "name": "stderr",
     "output_type": "stream",
     "text": [
      "2025-03-29 22:01:14,345 - MainProcess - INFO - compressed_model:\n",
      "{\n",
      "    \"config_str\": \"features.0:(2, 41), features.3:(48, 144), features.6:(144, 268), features.8:(288, 192), features.10:(192, 166)\",\n",
      "    \"params\": 55968361,\n",
      "    \"flops\": 345434432,\n",
      "    \"accuracy\": 0.9899,\n",
      "    \"inference_time\": 0.15359952242257993,\n",
      "    \"compression_rate\": 1.0192331699690116,\n",
      "    \"accepted\": true\n",
      "}\n",
      "2025-03-29 22:01:14,353 - MainProcess - INFO - Compressing to:features.0:(2, 41), features.3:(48, 144), features.6:(144, 268), features.8:(288, 166), features.10:(192, 192)\n",
      "2025-03-29 22:01:18,597 - MainProcess - INFO - finetuning:features.0:(2, 41), features.3:(48, 144), features.6:(144, 268), features.8:(288, 166), features.10:(192, 192)\n",
      "2025-03-29 22:01:49,462 - MainProcess - INFO - compressed_model:\n",
      "{\n",
      "    \"config_str\": \"features.0:(2, 41), features.3:(48, 144), features.6:(144, 268), features.8:(288, 179), features.10:(192, 192)\",\n",
      "    \"params\": 55985001,\n",
      "    \"flops\": 348246592,\n",
      "    \"accuracy\": 0.9887,\n",
      "    \"inference_time\": 0.15021565562853642,\n",
      "    \"compression_rate\": 1.0189302309738282,\n",
      "    \"accepted\": true\n",
      "}\n",
      "2025-03-29 22:01:49,473 - MainProcess - INFO - Compressing to:features.0:(2, 41), features.3:(48, 144), features.6:(144, 268), features.8:(288, 166), features.10:(192, 179)\n",
      "2025-03-29 22:01:53,658 - MainProcess - INFO - finetuning:features.0:(2, 41), features.3:(48, 144), features.6:(144, 268), features.8:(288, 166), features.10:(192, 179)\n"
     ]
    },
    {
     "name": "stdout",
     "output_type": "stream",
     "text": [
      "Epoch 3/3, Loss: 0.0404\n",
      "Epoch 3/3, Loss: 0.0402\n"
     ]
    },
    {
     "name": "stderr",
     "output_type": "stream",
     "text": [
      "2025-03-29 22:03:52,197 - MainProcess - INFO - compressed_model:\n",
      "{\n",
      "    \"config_str\": \"features.0:(2, 41), features.3:(48, 144), features.6:(144, 268), features.8:(288, 179), features.10:(192, 179)\",\n",
      "    \"params\": 55959209,\n",
      "    \"flops\": 343887744,\n",
      "    \"accuracy\": 0.9904,\n",
      "    \"inference_time\": 0.15881878251482728,\n",
      "    \"compression_rate\": 1.0193998632110757,\n",
      "    \"accepted\": true\n",
      "}\n",
      "2025-03-29 22:03:52,226 - MainProcess - INFO - Compressing to:features.0:(2, 41), features.3:(48, 144), features.6:(144, 268), features.8:(288, 166), features.10:(192, 166)\n",
      "2025-03-29 22:03:56,528 - MainProcess - INFO - finetuning:features.0:(2, 41), features.3:(48, 144), features.6:(144, 268), features.8:(288, 166), features.10:(192, 166)\n"
     ]
    },
    {
     "name": "stdout",
     "output_type": "stream",
     "text": [
      "Epoch 1/3, Loss: 0.3174\n",
      "Epoch 1/3, Loss: 0.3209\n"
     ]
    },
    {
     "name": "stderr",
     "output_type": "stream",
     "text": [
      "2025-03-29 22:05:25,906 - MainProcess - INFO - compressed_model:\n",
      "{\n",
      "    \"config_str\": \"features.0:(2, 41), features.3:(48, 144), features.6:(144, 268), features.8:(288, 179), features.10:(192, 166)\",\n",
      "    \"params\": 55933417,\n",
      "    \"flops\": 339528896,\n",
      "    \"accuracy\": 0.9845,\n",
      "    \"inference_time\": 0.16596673248679775,\n",
      "    \"compression_rate\": 1.0198699285616681,\n",
      "    \"accepted\": true\n",
      "}\n",
      "2025-03-29 22:05:25,910 - MainProcess - INFO - Compressing to:features.0:(2, 41), features.3:(48, 144), features.6:(144, 249), features.8:(288, 192), features.10:(192, 192)\n",
      "2025-03-29 22:05:25,911 - MainProcess - INFO - Evaluated 150 configurations, found 150 accepted models\n",
      "2025-03-29 22:05:30,079 - MainProcess - INFO - finetuning:features.0:(2, 41), features.3:(48, 144), features.6:(144, 249), features.8:(288, 192), features.10:(192, 192)\n"
     ]
    },
    {
     "name": "stdout",
     "output_type": "stream",
     "text": [
      "Epoch 1/3, Loss: 0.3209\n",
      "Epoch 2/3, Loss: 0.0533\n",
      "Epoch 2/3, Loss: 0.0541\n",
      "Epoch 1/3, Loss: 0.3140\n",
      "Epoch 2/3, Loss: 0.0533\n",
      "Epoch 3/3, Loss: 0.0394\n",
      "Epoch 3/3, Loss: 0.0393\n"
     ]
    },
    {
     "name": "stderr",
     "output_type": "stream",
     "text": [
      "2025-03-29 22:11:06,489 - MainProcess - INFO - compressed_model:\n",
      "{\n",
      "    \"config_str\": \"features.0:(2, 41), features.3:(48, 144), features.6:(144, 268), features.8:(288, 166), features.10:(192, 192)\",\n",
      "    \"params\": 55950057,\n",
      "    \"flops\": 342341056,\n",
      "    \"accuracy\": 0.9897,\n",
      "    \"inference_time\": 0.15268945542110757,\n",
      "    \"compression_rate\": 1.019566610986652,\n",
      "    \"accepted\": true\n",
      "}\n",
      "2025-03-29 22:11:06,501 - MainProcess - INFO - Compressing to:features.0:(2, 41), features.3:(48, 144), features.6:(144, 249), features.8:(288, 192), features.10:(192, 179)\n"
     ]
    },
    {
     "name": "stdout",
     "output_type": "stream",
     "text": [
      "Epoch 2/3, Loss: 0.0527\n"
     ]
    },
    {
     "name": "stderr",
     "output_type": "stream",
     "text": [
      "2025-03-29 22:11:10,757 - MainProcess - INFO - finetuning:features.0:(2, 41), features.3:(48, 144), features.6:(144, 249), features.8:(288, 192), features.10:(192, 179)\n",
      "2025-03-29 22:11:43,331 - MainProcess - INFO - compressed_model:\n",
      "{\n",
      "    \"config_str\": \"features.0:(2, 41), features.3:(48, 144), features.6:(144, 268), features.8:(288, 166), features.10:(192, 179)\",\n",
      "    \"params\": 55924265,\n",
      "    \"flops\": 380678912,\n",
      "    \"accuracy\": 0.991,\n",
      "    \"inference_time\": 0.15062817190862765,\n",
      "    \"compression_rate\": 1.020036830166655,\n",
      "    \"accepted\": true\n",
      "}\n",
      "2025-03-29 22:11:43,341 - MainProcess - INFO - Compressing to:features.0:(2, 41), features.3:(48, 144), features.6:(144, 249), features.8:(288, 192), features.10:(192, 166)\n",
      "2025-03-29 22:11:47,673 - MainProcess - INFO - finetuning:features.0:(2, 41), features.3:(48, 144), features.6:(144, 249), features.8:(288, 192), features.10:(192, 166)\n"
     ]
    },
    {
     "name": "stdout",
     "output_type": "stream",
     "text": [
      "Epoch 3/3, Loss: 0.0388\n",
      "Epoch 3/3, Loss: 0.0396\n"
     ]
    },
    {
     "name": "stderr",
     "output_type": "stream",
     "text": [
      "2025-03-29 22:13:57,464 - MainProcess - INFO - compressed_model:\n",
      "{\n",
      "    \"config_str\": \"features.0:(2, 41), features.3:(48, 144), features.6:(144, 268), features.8:(288, 166), features.10:(192, 166)\",\n",
      "    \"params\": 55898473,\n",
      "    \"flops\": 333623360,\n",
      "    \"accuracy\": 0.9889,\n",
      "    \"inference_time\": 0.1559472443444967,\n",
      "    \"compression_rate\": 1.0205074832723964,\n",
      "    \"accepted\": true\n",
      "}\n",
      "2025-03-29 22:13:57,479 - MainProcess - INFO - Compressing to:features.0:(2, 41), features.3:(48, 144), features.6:(144, 249), features.8:(288, 179), features.10:(192, 192)\n"
     ]
    },
    {
     "name": "stdout",
     "output_type": "stream",
     "text": [
      "Epoch 1/3, Loss: 0.3214\n"
     ]
    },
    {
     "name": "stderr",
     "output_type": "stream",
     "text": [
      "2025-03-29 22:14:01,650 - MainProcess - INFO - finetuning:features.0:(2, 41), features.3:(48, 144), features.6:(144, 249), features.8:(288, 179), features.10:(192, 192)\n"
     ]
    },
    {
     "name": "stdout",
     "output_type": "stream",
     "text": [
      "Epoch 1/3, Loss: 0.3272\n"
     ]
    },
    {
     "name": "stderr",
     "output_type": "stream",
     "text": [
      "2025-03-29 22:15:38,562 - MainProcess - INFO - compressed_model:\n",
      "{\n",
      "    \"config_str\": \"features.0:(2, 41), features.3:(48, 144), features.6:(144, 249), features.8:(288, 192), features.10:(192, 192)\",\n",
      "    \"params\": 56019945,\n",
      "    \"flops\": 354152128,\n",
      "    \"accuracy\": 0.9882,\n",
      "    \"inference_time\": 0.16424615874158854,\n",
      "    \"compression_rate\": 1.0182946448804975,\n",
      "    \"accepted\": true\n",
      "}\n",
      "2025-03-29 22:15:38,575 - MainProcess - INFO - Compressing to:features.0:(2, 41), features.3:(48, 144), features.6:(144, 249), features.8:(288, 179), features.10:(192, 179)\n",
      "2025-03-29 22:15:42,990 - MainProcess - INFO - finetuning:features.0:(2, 41), features.3:(48, 144), features.6:(144, 249), features.8:(288, 179), features.10:(192, 179)\n"
     ]
    },
    {
     "name": "stdout",
     "output_type": "stream",
     "text": [
      "Epoch 2/3, Loss: 0.0543\n",
      "Epoch 1/3, Loss: 0.3194\n",
      "Epoch 2/3, Loss: 0.0530\n",
      "Epoch 1/3, Loss: 0.3132\n",
      "Epoch 3/3, Loss: 0.0393\n",
      "Epoch 2/3, Loss: 0.0531\n",
      "Epoch 3/3, Loss: 0.0392\n"
     ]
    },
    {
     "name": "stderr",
     "output_type": "stream",
     "text": [
      "2025-03-29 22:21:00,904 - MainProcess - INFO - compressed_model:\n",
      "{\n",
      "    \"config_str\": \"features.0:(2, 41), features.3:(48, 144), features.6:(144, 249), features.8:(288, 192), features.10:(192, 179)\",\n",
      "    \"params\": 55994153,\n",
      "    \"flops\": 349793280,\n",
      "    \"accuracy\": 0.9898,\n",
      "    \"inference_time\": 0.151408761423358,\n",
      "    \"compression_rate\": 1.0187636912732656,\n",
      "    \"accepted\": true\n",
      "}\n",
      "2025-03-29 22:21:00,914 - MainProcess - INFO - Compressing to:features.0:(2, 41), features.3:(48, 144), features.6:(144, 249), features.8:(288, 179), features.10:(192, 166)\n",
      "2025-03-29 22:21:05,313 - MainProcess - INFO - finetuning:features.0:(2, 41), features.3:(48, 144), features.6:(144, 249), features.8:(288, 179), features.10:(192, 166)\n"
     ]
    },
    {
     "name": "stdout",
     "output_type": "stream",
     "text": [
      "Epoch 2/3, Loss: 0.0534\n"
     ]
    },
    {
     "name": "stderr",
     "output_type": "stream",
     "text": [
      "2025-03-29 22:21:38,367 - MainProcess - INFO - compressed_model:\n",
      "{\n",
      "    \"config_str\": \"features.0:(2, 41), features.3:(48, 144), features.6:(144, 249), features.8:(288, 192), features.10:(192, 166)\",\n",
      "    \"params\": 55968361,\n",
      "    \"flops\": 345434432,\n",
      "    \"accuracy\": 0.9899,\n",
      "    \"inference_time\": 0.1516798914364695,\n",
      "    \"compression_rate\": 1.0192331699690116,\n",
      "    \"accepted\": true\n",
      "}\n",
      "2025-03-29 22:21:38,383 - MainProcess - INFO - Compressing to:features.0:(2, 41), features.3:(48, 144), features.6:(144, 249), features.8:(288, 166), features.10:(192, 192)\n",
      "2025-03-29 22:21:42,597 - MainProcess - INFO - finetuning:features.0:(2, 41), features.3:(48, 144), features.6:(144, 249), features.8:(288, 166), features.10:(192, 192)\n"
     ]
    },
    {
     "name": "stdout",
     "output_type": "stream",
     "text": [
      "Epoch 3/3, Loss: 0.0391\n",
      "Epoch 1/3, Loss: 0.3390\n"
     ]
    },
    {
     "name": "stderr",
     "output_type": "stream",
     "text": [
      "2025-03-29 22:24:03,612 - MainProcess - INFO - compressed_model:\n",
      "{\n",
      "    \"config_str\": \"features.0:(2, 41), features.3:(48, 144), features.6:(144, 249), features.8:(288, 179), features.10:(192, 192)\",\n",
      "    \"params\": 55985001,\n",
      "    \"flops\": 348246592,\n",
      "    \"accuracy\": 0.9888,\n",
      "    \"inference_time\": 0.15822879422748673,\n",
      "    \"compression_rate\": 1.0189302309738282,\n",
      "    \"accepted\": true\n",
      "}\n",
      "2025-03-29 22:24:03,625 - MainProcess - INFO - Compressing to:features.0:(2, 41), features.3:(48, 144), features.6:(144, 249), features.8:(288, 166), features.10:(192, 179)\n",
      "2025-03-29 22:24:07,941 - MainProcess - INFO - finetuning:features.0:(2, 41), features.3:(48, 144), features.6:(144, 249), features.8:(288, 166), features.10:(192, 179)\n"
     ]
    },
    {
     "name": "stdout",
     "output_type": "stream",
     "text": [
      "Epoch 3/3, Loss: 0.0389\n",
      "Epoch 1/3, Loss: 0.3121\n"
     ]
    },
    {
     "name": "stderr",
     "output_type": "stream",
     "text": [
      "2025-03-29 22:25:54,649 - MainProcess - INFO - compressed_model:\n",
      "{\n",
      "    \"config_str\": \"features.0:(2, 41), features.3:(48, 144), features.6:(144, 249), features.8:(288, 179), features.10:(192, 179)\",\n",
      "    \"params\": 55959209,\n",
      "    \"flops\": 343887744,\n",
      "    \"accuracy\": 0.9901,\n",
      "    \"inference_time\": 0.16576094839982927,\n",
      "    \"compression_rate\": 1.0193998632110757,\n",
      "    \"accepted\": true\n",
      "}\n",
      "2025-03-29 22:25:54,657 - MainProcess - INFO - Compressing to:features.0:(2, 41), features.3:(48, 144), features.6:(144, 249), features.8:(288, 166), features.10:(192, 166)\n",
      "2025-03-29 22:25:59,010 - MainProcess - INFO - finetuning:features.0:(2, 41), features.3:(48, 144), features.6:(144, 249), features.8:(288, 166), features.10:(192, 166)\n"
     ]
    },
    {
     "name": "stdout",
     "output_type": "stream",
     "text": [
      "Epoch 2/3, Loss: 0.0528\n",
      "Epoch 1/3, Loss: 0.3217\n",
      "Epoch 2/3, Loss: 0.0523\n",
      "Epoch 1/3, Loss: 0.3198\n",
      "Epoch 3/3, Loss: 0.0406\n",
      "Epoch 2/3, Loss: 0.0535\n",
      "Epoch 3/3, Loss: 0.0381\n"
     ]
    },
    {
     "name": "stderr",
     "output_type": "stream",
     "text": [
      "2025-03-29 22:30:57,887 - MainProcess - INFO - compressed_model:\n",
      "{\n",
      "    \"config_str\": \"features.0:(2, 41), features.3:(48, 144), features.6:(144, 249), features.8:(288, 179), features.10:(192, 166)\",\n",
      "    \"params\": 55933417,\n",
      "    \"flops\": 339528896,\n",
      "    \"accuracy\": 0.9903,\n",
      "    \"inference_time\": 0.1529080219835739,\n",
      "    \"compression_rate\": 1.0198699285616681,\n",
      "    \"accepted\": true\n",
      "}\n",
      "2025-03-29 22:30:57,899 - MainProcess - INFO - Compressing to:features.0:(2, 41), features.3:(48, 134), features.6:(144, 288), features.8:(288, 192), features.10:(192, 192)\n",
      "2025-03-29 22:31:02,229 - MainProcess - INFO - finetuning:features.0:(2, 41), features.3:(48, 134), features.6:(144, 288), features.8:(288, 192), features.10:(192, 192)\n",
      "2025-03-29 22:31:37,512 - MainProcess - INFO - compressed_model:\n",
      "{\n",
      "    \"config_str\": \"features.0:(2, 41), features.3:(48, 144), features.6:(144, 249), features.8:(288, 166), features.10:(192, 192)\",\n",
      "    \"params\": 55950057,\n",
      "    \"flops\": 342341056,\n",
      "    \"accuracy\": 0.9897,\n",
      "    \"inference_time\": 0.15254660472748385,\n",
      "    \"compression_rate\": 1.019566610986652,\n",
      "    \"accepted\": true\n",
      "}\n",
      "2025-03-29 22:31:37,527 - MainProcess - INFO - Compressing to:features.0:(2, 41), features.3:(48, 134), features.6:(144, 288), features.8:(288, 192), features.10:(192, 179)\n",
      "2025-03-29 22:31:37,527 - MainProcess - INFO - Evaluated 160 configurations, found 160 accepted models\n"
     ]
    },
    {
     "name": "stdout",
     "output_type": "stream",
     "text": [
      "Epoch 2/3, Loss: 0.0532\n"
     ]
    },
    {
     "name": "stderr",
     "output_type": "stream",
     "text": [
      "2025-03-29 22:31:41,765 - MainProcess - INFO - finetuning:features.0:(2, 41), features.3:(48, 134), features.6:(144, 288), features.8:(288, 192), features.10:(192, 179)\n"
     ]
    },
    {
     "name": "stdout",
     "output_type": "stream",
     "text": [
      "Epoch 3/3, Loss: 0.0390\n",
      "Epoch 1/3, Loss: 0.3144\n"
     ]
    },
    {
     "name": "stderr",
     "output_type": "stream",
     "text": [
      "2025-03-29 22:34:10,265 - MainProcess - INFO - compressed_model:\n",
      "{\n",
      "    \"config_str\": \"features.0:(2, 41), features.3:(48, 144), features.6:(144, 249), features.8:(288, 166), features.10:(192, 179)\",\n",
      "    \"params\": 55924265,\n",
      "    \"flops\": 337982208,\n",
      "    \"accuracy\": 0.9846,\n",
      "    \"inference_time\": 0.15744078032783135,\n",
      "    \"compression_rate\": 1.020036830166655,\n",
      "    \"accepted\": true\n",
      "}\n",
      "2025-03-29 22:34:10,275 - MainProcess - INFO - Compressing to:features.0:(2, 41), features.3:(48, 134), features.6:(144, 288), features.8:(288, 192), features.10:(192, 166)\n",
      "2025-03-29 22:34:14,519 - MainProcess - INFO - finetuning:features.0:(2, 41), features.3:(48, 134), features.6:(144, 288), features.8:(288, 192), features.10:(192, 166)\n"
     ]
    },
    {
     "name": "stdout",
     "output_type": "stream",
     "text": [
      "Epoch 3/3, Loss: 0.0398\n",
      "Epoch 1/3, Loss: 0.3190\n"
     ]
    },
    {
     "name": "stderr",
     "output_type": "stream",
     "text": [
      "2025-03-29 22:36:13,800 - MainProcess - INFO - compressed_model:\n",
      "{\n",
      "    \"config_str\": \"features.0:(2, 41), features.3:(48, 144), features.6:(144, 249), features.8:(288, 166), features.10:(192, 166)\",\n",
      "    \"params\": 55898473,\n",
      "    \"flops\": 333623360,\n",
      "    \"accuracy\": 0.99,\n",
      "    \"inference_time\": 0.1675621795046861,\n",
      "    \"compression_rate\": 1.0205074832723964,\n",
      "    \"accepted\": true\n",
      "}\n",
      "2025-03-29 22:36:13,811 - MainProcess - INFO - Compressing to:features.0:(2, 41), features.3:(48, 134), features.6:(144, 288), features.8:(288, 179), features.10:(192, 192)\n",
      "2025-03-29 22:36:18,223 - MainProcess - INFO - finetuning:features.0:(2, 41), features.3:(48, 134), features.6:(144, 288), features.8:(288, 179), features.10:(192, 192)\n"
     ]
    },
    {
     "name": "stdout",
     "output_type": "stream",
     "text": [
      "Epoch 2/3, Loss: 0.0522\n",
      "Epoch 1/3, Loss: 0.3287\n",
      "Epoch 2/3, Loss: 0.0543\n",
      "Epoch 1/3, Loss: 0.3205\n",
      "Epoch 3/3, Loss: 0.0403\n",
      "Epoch 2/3, Loss: 0.0526\n",
      "Epoch 3/3, Loss: 0.0404\n"
     ]
    },
    {
     "name": "stderr",
     "output_type": "stream",
     "text": [
      "2025-03-29 22:40:56,626 - MainProcess - INFO - compressed_model:\n",
      "{\n",
      "    \"config_str\": \"features.0:(2, 41), features.3:(48, 134), features.6:(144, 288), features.8:(288, 192), features.10:(192, 192)\",\n",
      "    \"params\": 56019945,\n",
      "    \"flops\": 354152128,\n",
      "    \"accuracy\": 0.9913,\n",
      "    \"inference_time\": 0.15513314512378346,\n",
      "    \"compression_rate\": 1.0182946448804975,\n",
      "    \"accepted\": true\n",
      "}\n",
      "2025-03-29 22:40:56,636 - MainProcess - INFO - Compressing to:features.0:(2, 41), features.3:(48, 134), features.6:(144, 288), features.8:(288, 179), features.10:(192, 179)\n",
      "2025-03-29 22:41:00,791 - MainProcess - INFO - finetuning:features.0:(2, 41), features.3:(48, 134), features.6:(144, 288), features.8:(288, 179), features.10:(192, 179)\n",
      "2025-03-29 22:41:35,596 - MainProcess - INFO - compressed_model:\n",
      "{\n",
      "    \"config_str\": \"features.0:(2, 41), features.3:(48, 134), features.6:(144, 288), features.8:(288, 192), features.10:(192, 179)\",\n",
      "    \"params\": 55994153,\n",
      "    \"flops\": 363367424,\n",
      "    \"accuracy\": 0.9905,\n",
      "    \"inference_time\": 0.1510645072677839,\n",
      "    \"compression_rate\": 1.0187636912732656,\n",
      "    \"accepted\": true\n",
      "}\n",
      "2025-03-29 22:41:35,605 - MainProcess - INFO - Compressing to:features.0:(2, 41), features.3:(48, 134), features.6:(144, 288), features.8:(288, 179), features.10:(192, 166)\n",
      "2025-03-29 22:41:39,799 - MainProcess - INFO - finetuning:features.0:(2, 41), features.3:(48, 134), features.6:(144, 288), features.8:(288, 179), features.10:(192, 166)\n"
     ]
    },
    {
     "name": "stdout",
     "output_type": "stream",
     "text": [
      "Epoch 2/3, Loss: 0.0518\n",
      "Epoch 3/3, Loss: 0.0393\n",
      "Epoch 1/3, Loss: 0.3284\n"
     ]
    },
    {
     "name": "stderr",
     "output_type": "stream",
     "text": [
      "2025-03-29 22:44:17,701 - MainProcess - INFO - compressed_model:\n",
      "{\n",
      "    \"config_str\": \"features.0:(2, 41), features.3:(48, 134), features.6:(144, 288), features.8:(288, 192), features.10:(192, 166)\",\n",
      "    \"params\": 55968361,\n",
      "    \"flops\": 345434432,\n",
      "    \"accuracy\": 0.9888,\n",
      "    \"inference_time\": 0.15717933638586867,\n",
      "    \"compression_rate\": 1.0192331699690116,\n",
      "    \"accepted\": true\n",
      "}\n",
      "2025-03-29 22:44:17,713 - MainProcess - INFO - Compressing to:features.0:(2, 41), features.3:(48, 134), features.6:(144, 288), features.8:(288, 166), features.10:(192, 192)\n",
      "2025-03-29 22:44:21,986 - MainProcess - INFO - finetuning:features.0:(2, 41), features.3:(48, 134), features.6:(144, 288), features.8:(288, 166), features.10:(192, 192)\n"
     ]
    },
    {
     "name": "stdout",
     "output_type": "stream",
     "text": [
      "Epoch 1/3, Loss: 0.3306\n",
      "Epoch 3/3, Loss: 0.0394\n",
      "Epoch 2/3, Loss: 0.0521\n"
     ]
    },
    {
     "name": "stderr",
     "output_type": "stream",
     "text": [
      "2025-03-29 22:46:33,408 - MainProcess - INFO - compressed_model:\n",
      "{\n",
      "    \"config_str\": \"features.0:(2, 41), features.3:(48, 134), features.6:(144, 288), features.8:(288, 179), features.10:(192, 192)\",\n",
      "    \"params\": 55985001,\n",
      "    \"flops\": 348246592,\n",
      "    \"accuracy\": 0.9869,\n",
      "    \"inference_time\": 0.1665246846063375,\n",
      "    \"compression_rate\": 1.0189302309738282,\n",
      "    \"accepted\": true\n",
      "}\n",
      "2025-03-29 22:46:33,417 - MainProcess - INFO - Compressing to:features.0:(2, 41), features.3:(48, 134), features.6:(144, 288), features.8:(288, 166), features.10:(192, 179)\n",
      "2025-03-29 22:46:37,870 - MainProcess - INFO - finetuning:features.0:(2, 41), features.3:(48, 134), features.6:(144, 288), features.8:(288, 166), features.10:(192, 179)\n"
     ]
    },
    {
     "name": "stdout",
     "output_type": "stream",
     "text": [
      "Epoch 1/3, Loss: 0.3216\n",
      "Epoch 2/3, Loss: 0.0535\n",
      "Epoch 3/3, Loss: 0.0395\n",
      "Epoch 1/3, Loss: 0.3181\n",
      "Epoch 2/3, Loss: 0.0532\n",
      "Epoch 3/3, Loss: 0.0399\n"
     ]
    },
    {
     "name": "stderr",
     "output_type": "stream",
     "text": [
      "2025-03-29 22:51:01,455 - MainProcess - INFO - compressed_model:\n",
      "{\n",
      "    \"config_str\": \"features.0:(2, 41), features.3:(48, 134), features.6:(144, 288), features.8:(288, 179), features.10:(192, 179)\",\n",
      "    \"params\": 55959209,\n",
      "    \"flops\": 343887744,\n",
      "    \"accuracy\": 0.9903,\n",
      "    \"inference_time\": 0.15656274645698046,\n",
      "    \"compression_rate\": 1.0193998632110757,\n",
      "    \"accepted\": true\n",
      "}\n",
      "2025-03-29 22:51:01,466 - MainProcess - INFO - Compressing to:features.0:(2, 41), features.3:(48, 134), features.6:(144, 288), features.8:(288, 166), features.10:(192, 166)\n",
      "2025-03-29 22:51:05,805 - MainProcess - INFO - finetuning:features.0:(2, 41), features.3:(48, 134), features.6:(144, 288), features.8:(288, 166), features.10:(192, 166)\n",
      "2025-03-29 22:51:43,658 - MainProcess - INFO - compressed_model:\n",
      "{\n",
      "    \"config_str\": \"features.0:(2, 41), features.3:(48, 134), features.6:(144, 288), features.8:(288, 179), features.10:(192, 166)\",\n",
      "    \"params\": 55933417,\n",
      "    \"flops\": 339528896,\n",
      "    \"accuracy\": 0.9908,\n",
      "    \"inference_time\": 0.155945450383893,\n",
      "    \"compression_rate\": 1.0198699285616681,\n",
      "    \"accepted\": true\n",
      "}\n",
      "2025-03-29 22:51:43,671 - MainProcess - INFO - Compressing to:features.0:(2, 41), features.3:(48, 134), features.6:(144, 268), features.8:(288, 192), features.10:(192, 192)\n",
      "2025-03-29 22:51:47,873 - MainProcess - INFO - finetuning:features.0:(2, 41), features.3:(48, 134), features.6:(144, 268), features.8:(288, 192), features.10:(192, 192)\n"
     ]
    },
    {
     "name": "stdout",
     "output_type": "stream",
     "text": [
      "Epoch 2/3, Loss: 0.0516\n",
      "Epoch 3/3, Loss: 0.0403\n",
      "Epoch 1/3, Loss: 0.3285\n"
     ]
    },
    {
     "name": "stderr",
     "output_type": "stream",
     "text": [
      "2025-03-29 22:54:36,565 - MainProcess - INFO - compressed_model:\n",
      "{\n",
      "    \"config_str\": \"features.0:(2, 41), features.3:(48, 134), features.6:(144, 288), features.8:(288, 166), features.10:(192, 192)\",\n",
      "    \"params\": 55950057,\n",
      "    \"flops\": 342341056,\n",
      "    \"accuracy\": 0.9889,\n",
      "    \"inference_time\": 0.15756336544223146,\n",
      "    \"compression_rate\": 1.019566610986652,\n",
      "    \"accepted\": true\n",
      "}\n",
      "2025-03-29 22:54:36,586 - MainProcess - INFO - Compressing to:features.0:(2, 41), features.3:(48, 134), features.6:(144, 268), features.8:(288, 192), features.10:(192, 179)\n"
     ]
    },
    {
     "name": "stdout",
     "output_type": "stream",
     "text": [
      "Epoch 1/3, Loss: 0.3225\n"
     ]
    },
    {
     "name": "stderr",
     "output_type": "stream",
     "text": [
      "2025-03-29 22:54:40,991 - MainProcess - INFO - finetuning:features.0:(2, 41), features.3:(48, 134), features.6:(144, 268), features.8:(288, 192), features.10:(192, 179)\n"
     ]
    },
    {
     "name": "stdout",
     "output_type": "stream",
     "text": [
      "Epoch 3/3, Loss: 0.0397\n",
      "Epoch 2/3, Loss: 0.0537\n"
     ]
    },
    {
     "name": "stderr",
     "output_type": "stream",
     "text": [
      "2025-03-29 22:57:16,605 - MainProcess - INFO - compressed_model:\n",
      "{\n",
      "    \"config_str\": \"features.0:(2, 41), features.3:(48, 134), features.6:(144, 288), features.8:(288, 166), features.10:(192, 179)\",\n",
      "    \"params\": 55924265,\n",
      "    \"flops\": 337982208,\n",
      "    \"accuracy\": 0.9903,\n",
      "    \"inference_time\": 0.1723656401259631,\n",
      "    \"compression_rate\": 1.020036830166655,\n",
      "    \"accepted\": true\n",
      "}\n",
      "2025-03-29 22:57:16,618 - MainProcess - INFO - Compressing to:features.0:(2, 41), features.3:(48, 134), features.6:(144, 268), features.8:(288, 192), features.10:(192, 166)\n",
      "2025-03-29 22:57:16,618 - MainProcess - INFO - Evaluated 170 configurations, found 170 accepted models\n",
      "2025-03-29 22:57:22,961 - MainProcess - INFO - finetuning:features.0:(2, 41), features.3:(48, 134), features.6:(144, 268), features.8:(288, 192), features.10:(192, 166)\n"
     ]
    },
    {
     "name": "stdout",
     "output_type": "stream",
     "text": [
      "Epoch 2/3, Loss: 0.0539\n",
      "Epoch 1/3, Loss: 0.3191\n",
      "Epoch 3/3, Loss: 0.0400\n",
      "Epoch 1/3, Loss: 0.3247\n",
      "Epoch 3/3, Loss: 0.0392\n",
      "Epoch 2/3, Loss: 0.0527\n"
     ]
    },
    {
     "name": "stderr",
     "output_type": "stream",
     "text": [
      "2025-03-29 23:01:41,731 - MainProcess - INFO - compressed_model:\n",
      "{\n",
      "    \"config_str\": \"features.0:(2, 41), features.3:(48, 134), features.6:(144, 288), features.8:(288, 166), features.10:(192, 166)\",\n",
      "    \"params\": 55898473,\n",
      "    \"flops\": 333623360,\n",
      "    \"accuracy\": 0.987,\n",
      "    \"inference_time\": 0.17902875756508732,\n",
      "    \"compression_rate\": 1.0205074832723964,\n",
      "    \"accepted\": true\n",
      "}\n",
      "2025-03-29 23:01:41,767 - MainProcess - INFO - Compressing to:features.0:(2, 41), features.3:(48, 134), features.6:(144, 268), features.8:(288, 179), features.10:(192, 192)\n",
      "2025-03-29 23:01:47,192 - MainProcess - INFO - finetuning:features.0:(2, 41), features.3:(48, 134), features.6:(144, 268), features.8:(288, 179), features.10:(192, 192)\n",
      "2025-03-29 23:02:27,972 - MainProcess - INFO - compressed_model:\n",
      "{\n",
      "    \"config_str\": \"features.0:(2, 41), features.3:(48, 134), features.6:(144, 268), features.8:(288, 192), features.10:(192, 192)\",\n",
      "    \"params\": 56019945,\n",
      "    \"flops\": 354152128,\n",
      "    \"accuracy\": 0.9894,\n",
      "    \"inference_time\": 0.17648377843723176,\n",
      "    \"compression_rate\": 1.0182946448804975,\n",
      "    \"accepted\": true\n",
      "}\n",
      "2025-03-29 23:02:27,980 - MainProcess - INFO - Compressing to:features.0:(2, 41), features.3:(48, 134), features.6:(144, 268), features.8:(288, 179), features.10:(192, 179)\n",
      "2025-03-29 23:02:33,553 - MainProcess - INFO - finetuning:features.0:(2, 41), features.3:(48, 134), features.6:(144, 268), features.8:(288, 179), features.10:(192, 179)\n"
     ]
    },
    {
     "name": "stdout",
     "output_type": "stream",
     "text": [
      "Epoch 2/3, Loss: 0.0525\n",
      "Epoch 3/3, Loss: 0.0405\n",
      "Epoch 1/3, Loss: 0.3165\n",
      "Epoch 1/3, Loss: 0.3195\n"
     ]
    },
    {
     "name": "stderr",
     "output_type": "stream",
     "text": [
      "2025-03-29 23:05:35,538 - MainProcess - INFO - compressed_model:\n",
      "{\n",
      "    \"config_str\": \"features.0:(2, 41), features.3:(48, 134), features.6:(144, 268), features.8:(288, 192), features.10:(192, 179)\",\n",
      "    \"params\": 55994153,\n",
      "    \"flops\": 349793280,\n",
      "    \"accuracy\": 0.9889,\n",
      "    \"inference_time\": 0.1566114850864289,\n",
      "    \"compression_rate\": 1.0187636912732656,\n",
      "    \"accepted\": true\n",
      "}\n",
      "2025-03-29 23:05:35,557 - MainProcess - INFO - Compressing to:features.0:(2, 41), features.3:(48, 134), features.6:(144, 268), features.8:(288, 179), features.10:(192, 166)\n",
      "2025-03-29 23:05:39,852 - MainProcess - INFO - finetuning:features.0:(2, 41), features.3:(48, 134), features.6:(144, 268), features.8:(288, 179), features.10:(192, 166)\n"
     ]
    },
    {
     "name": "stdout",
     "output_type": "stream",
     "text": [
      "Epoch 3/3, Loss: 0.0392\n",
      "Epoch 2/3, Loss: 0.0535\n",
      "Epoch 2/3, Loss: 0.0527\n",
      "Epoch 1/3, Loss: 0.3240\n"
     ]
    },
    {
     "name": "stderr",
     "output_type": "stream",
     "text": [
      "2025-03-29 23:08:39,938 - MainProcess - INFO - compressed_model:\n",
      "{\n",
      "    \"config_str\": \"features.0:(2, 41), features.3:(48, 134), features.6:(144, 268), features.8:(288, 192), features.10:(192, 166)\",\n",
      "    \"params\": 55968361,\n",
      "    \"flops\": 345434432,\n",
      "    \"accuracy\": 0.9904,\n",
      "    \"inference_time\": 0.1987291582071098,\n",
      "    \"compression_rate\": 1.0192331699690116,\n",
      "    \"accepted\": true\n",
      "}\n",
      "2025-03-29 23:08:39,949 - MainProcess - INFO - Compressing to:features.0:(2, 41), features.3:(48, 134), features.6:(144, 268), features.8:(288, 166), features.10:(192, 192)\n",
      "2025-03-29 23:08:45,491 - MainProcess - INFO - finetuning:features.0:(2, 41), features.3:(48, 134), features.6:(144, 268), features.8:(288, 166), features.10:(192, 192)\n"
     ]
    },
    {
     "name": "stdout",
     "output_type": "stream",
     "text": [
      "Epoch 3/3, Loss: 0.0407\n",
      "Epoch 3/3, Loss: 0.0388\n",
      "Epoch 2/3, Loss: 0.0545\n",
      "Epoch 1/3, Loss: 0.3116\n"
     ]
    },
    {
     "name": "stderr",
     "output_type": "stream",
     "text": [
      "2025-03-29 23:12:40,822 - MainProcess - INFO - compressed_model:\n",
      "{\n",
      "    \"config_str\": \"features.0:(2, 41), features.3:(48, 134), features.6:(144, 268), features.8:(288, 179), features.10:(192, 192)\",\n",
      "    \"params\": 55985001,\n",
      "    \"flops\": 348246592,\n",
      "    \"accuracy\": 0.9903,\n",
      "    \"inference_time\": 0.17794720787404703,\n",
      "    \"compression_rate\": 1.0189302309738282,\n",
      "    \"accepted\": true\n",
      "}\n",
      "2025-03-29 23:12:40,833 - MainProcess - INFO - Compressing to:features.0:(2, 41), features.3:(48, 134), features.6:(144, 268), features.8:(288, 166), features.10:(192, 179)\n",
      "2025-03-29 23:12:46,291 - MainProcess - INFO - finetuning:features.0:(2, 41), features.3:(48, 134), features.6:(144, 268), features.8:(288, 166), features.10:(192, 179)\n",
      "2025-03-29 23:13:29,339 - MainProcess - INFO - compressed_model:\n",
      "{\n",
      "    \"config_str\": \"features.0:(2, 41), features.3:(48, 134), features.6:(144, 268), features.8:(288, 179), features.10:(192, 179)\",\n",
      "    \"params\": 55959209,\n",
      "    \"flops\": 343887744,\n",
      "    \"accuracy\": 0.9883,\n",
      "    \"inference_time\": 0.17582959784570518,\n",
      "    \"compression_rate\": 1.0193998632110757,\n",
      "    \"accepted\": true\n",
      "}\n",
      "2025-03-29 23:13:29,349 - MainProcess - INFO - Compressing to:features.0:(2, 41), features.3:(48, 134), features.6:(144, 268), features.8:(288, 166), features.10:(192, 166)\n",
      "2025-03-29 23:13:35,107 - MainProcess - INFO - finetuning:features.0:(2, 41), features.3:(48, 134), features.6:(144, 268), features.8:(288, 166), features.10:(192, 166)\n"
     ]
    },
    {
     "name": "stdout",
     "output_type": "stream",
     "text": [
      "Epoch 3/3, Loss: 0.0395\n",
      "Epoch 2/3, Loss: 0.0524\n",
      "Epoch 1/3, Loss: 0.3173\n",
      "Epoch 1/3, Loss: 0.3206\n"
     ]
    },
    {
     "name": "stderr",
     "output_type": "stream",
     "text": [
      "2025-03-29 23:17:07,373 - MainProcess - INFO - compressed_model:\n",
      "{\n",
      "    \"config_str\": \"features.0:(2, 41), features.3:(48, 134), features.6:(144, 268), features.8:(288, 179), features.10:(192, 166)\",\n",
      "    \"params\": 55933417,\n",
      "    \"flops\": 339528896,\n",
      "    \"accuracy\": 0.9897,\n",
      "    \"inference_time\": 0.1820340779176943,\n",
      "    \"compression_rate\": 1.0198699285616681,\n",
      "    \"accepted\": true\n",
      "}\n",
      "2025-03-29 23:17:07,387 - MainProcess - INFO - Compressing to:features.0:(2, 41), features.3:(48, 134), features.6:(144, 249), features.8:(288, 192), features.10:(192, 192)\n",
      "2025-03-29 23:17:12,867 - MainProcess - INFO - finetuning:features.0:(2, 41), features.3:(48, 134), features.6:(144, 249), features.8:(288, 192), features.10:(192, 192)\n"
     ]
    },
    {
     "name": "stdout",
     "output_type": "stream",
     "text": [
      "Epoch 3/3, Loss: 0.0391\n",
      "Epoch 2/3, Loss: 0.0531\n",
      "Epoch 2/3, Loss: 0.0517\n",
      "Epoch 1/3, Loss: 0.3098\n"
     ]
    },
    {
     "name": "stderr",
     "output_type": "stream",
     "text": [
      "2025-03-29 23:20:55,158 - MainProcess - INFO - compressed_model:\n",
      "{\n",
      "    \"config_str\": \"features.0:(2, 41), features.3:(48, 134), features.6:(144, 268), features.8:(288, 166), features.10:(192, 192)\",\n",
      "    \"params\": 55950057,\n",
      "    \"flops\": 342341056,\n",
      "    \"accuracy\": 0.9891,\n",
      "    \"inference_time\": 0.19516910312028954,\n",
      "    \"compression_rate\": 1.019566610986652,\n",
      "    \"accepted\": true\n",
      "}\n",
      "2025-03-29 23:20:55,170 - MainProcess - INFO - Compressing to:features.0:(2, 41), features.3:(48, 134), features.6:(144, 249), features.8:(288, 192), features.10:(192, 179)\n",
      "2025-03-29 23:21:00,796 - MainProcess - INFO - finetuning:features.0:(2, 41), features.3:(48, 134), features.6:(144, 249), features.8:(288, 192), features.10:(192, 179)\n"
     ]
    },
    {
     "name": "stdout",
     "output_type": "stream",
     "text": [
      "Epoch 3/3, Loss: 0.0387\n",
      "Epoch 3/3, Loss: 0.0394\n",
      "Epoch 2/3, Loss: 0.0526\n"
     ]
    },
    {
     "name": "stderr",
     "output_type": "stream",
     "text": [
      "2025-03-29 23:24:10,288 - MainProcess - INFO - compressed_model:\n",
      "{\n",
      "    \"config_str\": \"features.0:(2, 41), features.3:(48, 134), features.6:(144, 268), features.8:(288, 166), features.10:(192, 179)\",\n",
      "    \"params\": 55924265,\n",
      "    \"flops\": 337982208,\n",
      "    \"accuracy\": 0.9888,\n",
      "    \"inference_time\": 0.1809331424170492,\n",
      "    \"compression_rate\": 1.020036830166655,\n",
      "    \"accepted\": true\n",
      "}\n",
      "2025-03-29 23:24:10,295 - MainProcess - INFO - Compressing to:features.0:(2, 41), features.3:(48, 134), features.6:(144, 249), features.8:(288, 192), features.10:(192, 166)\n",
      "2025-03-29 23:24:16,096 - MainProcess - INFO - finetuning:features.0:(2, 41), features.3:(48, 134), features.6:(144, 249), features.8:(288, 192), features.10:(192, 166)\n"
     ]
    },
    {
     "name": "stdout",
     "output_type": "stream",
     "text": [
      "Epoch 1/3, Loss: 0.3266\n"
     ]
    },
    {
     "name": "stderr",
     "output_type": "stream",
     "text": [
      "2025-03-29 23:25:01,469 - MainProcess - INFO - compressed_model:\n",
      "{\n",
      "    \"config_str\": \"features.0:(2, 41), features.3:(48, 134), features.6:(144, 268), features.8:(288, 166), features.10:(192, 166)\",\n",
      "    \"params\": 55898473,\n",
      "    \"flops\": 333623360,\n",
      "    \"accuracy\": 0.99,\n",
      "    \"inference_time\": 0.17788708184681626,\n",
      "    \"compression_rate\": 1.0205074832723964,\n",
      "    \"accepted\": true\n",
      "}\n",
      "2025-03-29 23:25:01,476 - MainProcess - INFO - Compressing to:features.0:(2, 41), features.3:(48, 134), features.6:(144, 249), features.8:(288, 179), features.10:(192, 192)\n",
      "2025-03-29 23:25:01,477 - MainProcess - INFO - Evaluated 180 configurations, found 180 accepted models\n",
      "2025-03-29 23:25:06,734 - MainProcess - INFO - finetuning:features.0:(2, 41), features.3:(48, 134), features.6:(144, 249), features.8:(288, 179), features.10:(192, 192)\n"
     ]
    },
    {
     "name": "stdout",
     "output_type": "stream",
     "text": [
      "Epoch 3/3, Loss: 0.0386\n",
      "Epoch 1/3, Loss: 0.3280\n",
      "Epoch 2/3, Loss: 0.0528\n",
      "Epoch 1/3, Loss: 0.3197\n"
     ]
    },
    {
     "name": "stderr",
     "output_type": "stream",
     "text": [
      "2025-03-29 23:28:54,538 - MainProcess - INFO - compressed_model:\n",
      "{\n",
      "    \"config_str\": \"features.0:(2, 41), features.3:(48, 134), features.6:(144, 249), features.8:(288, 192), features.10:(192, 192)\",\n",
      "    \"params\": 56019945,\n",
      "    \"flops\": 354152128,\n",
      "    \"accuracy\": 0.9843,\n",
      "    \"inference_time\": 0.1830121164868592,\n",
      "    \"compression_rate\": 1.0182946448804975,\n",
      "    \"accepted\": true\n",
      "}\n",
      "2025-03-29 23:28:54,553 - MainProcess - INFO - Compressing to:features.0:(2, 41), features.3:(48, 134), features.6:(144, 249), features.8:(288, 179), features.10:(192, 179)\n",
      "2025-03-29 23:29:00,072 - MainProcess - INFO - finetuning:features.0:(2, 41), features.3:(48, 134), features.6:(144, 249), features.8:(288, 179), features.10:(192, 179)\n"
     ]
    },
    {
     "name": "stdout",
     "output_type": "stream",
     "text": [
      "Epoch 2/3, Loss: 0.0531\n",
      "Epoch 3/3, Loss: 0.0399\n",
      "Epoch 2/3, Loss: 0.0530\n",
      "Epoch 1/3, Loss: 0.3203\n"
     ]
    },
    {
     "name": "stderr",
     "output_type": "stream",
     "text": [
      "2025-03-29 23:33:16,330 - MainProcess - INFO - compressed_model:\n",
      "{\n",
      "    \"config_str\": \"features.0:(2, 41), features.3:(48, 134), features.6:(144, 249), features.8:(288, 192), features.10:(192, 179)\",\n",
      "    \"params\": 55994153,\n",
      "    \"flops\": 349793280,\n",
      "    \"accuracy\": 0.9898,\n",
      "    \"inference_time\": 0.193808224550478,\n",
      "    \"compression_rate\": 1.0187636912732656,\n",
      "    \"accepted\": true\n",
      "}\n",
      "2025-03-29 23:33:16,342 - MainProcess - INFO - Compressing to:features.0:(2, 41), features.3:(48, 134), features.6:(144, 249), features.8:(288, 179), features.10:(192, 166)\n",
      "2025-03-29 23:33:21,623 - MainProcess - INFO - finetuning:features.0:(2, 41), features.3:(48, 134), features.6:(144, 249), features.8:(288, 179), features.10:(192, 166)\n"
     ]
    },
    {
     "name": "stdout",
     "output_type": "stream",
     "text": [
      "Epoch 3/3, Loss: 0.0407\n",
      "Epoch 3/3, Loss: 0.0400\n",
      "Epoch 2/3, Loss: 0.0524\n"
     ]
    },
    {
     "name": "stderr",
     "output_type": "stream",
     "text": [
      "2025-03-29 23:35:37,541 - MainProcess - INFO - compressed_model:\n",
      "{\n",
      "    \"config_str\": \"features.0:(2, 41), features.3:(48, 134), features.6:(144, 249), features.8:(288, 192), features.10:(192, 166)\",\n",
      "    \"params\": 55968361,\n",
      "    \"flops\": 345434432,\n",
      "    \"accuracy\": 0.9908,\n",
      "    \"inference_time\": 0.17190333333997465,\n",
      "    \"compression_rate\": 1.0192331699690116,\n",
      "    \"accepted\": true\n",
      "}\n",
      "2025-03-29 23:35:37,561 - MainProcess - INFO - Compressing to:features.0:(2, 41), features.3:(48, 134), features.6:(144, 249), features.8:(288, 166), features.10:(192, 192)\n",
      "2025-03-29 23:35:44,077 - MainProcess - INFO - finetuning:features.0:(2, 41), features.3:(48, 134), features.6:(144, 249), features.8:(288, 166), features.10:(192, 192)\n",
      "2025-03-29 23:36:36,627 - MainProcess - INFO - compressed_model:\n",
      "{\n",
      "    \"config_str\": \"features.0:(2, 41), features.3:(48, 134), features.6:(144, 249), features.8:(288, 179), features.10:(192, 192)\",\n",
      "    \"params\": 55985001,\n",
      "    \"flops\": 348246592,\n",
      "    \"accuracy\": 0.9897,\n",
      "    \"inference_time\": 0.18741808524810077,\n",
      "    \"compression_rate\": 1.0189302309738282,\n",
      "    \"accepted\": true\n",
      "}\n",
      "2025-03-29 23:36:36,635 - MainProcess - INFO - Compressing to:features.0:(2, 41), features.3:(48, 134), features.6:(144, 249), features.8:(288, 166), features.10:(192, 179)\n",
      "2025-03-29 23:36:42,261 - MainProcess - INFO - finetuning:features.0:(2, 41), features.3:(48, 134), features.6:(144, 249), features.8:(288, 166), features.10:(192, 179)\n"
     ]
    },
    {
     "name": "stdout",
     "output_type": "stream",
     "text": [
      "Epoch 1/3, Loss: 0.3204\n",
      "Epoch 3/3, Loss: 0.0396\n",
      "Epoch 1/3, Loss: 0.3231\n",
      "Epoch 1/3, Loss: 0.3192\n",
      "Epoch 2/3, Loss: 0.0536\n"
     ]
    },
    {
     "name": "stderr",
     "output_type": "stream",
     "text": [
      "2025-03-29 23:40:53,986 - MainProcess - INFO - compressed_model:\n",
      "{\n",
      "    \"config_str\": \"features.0:(2, 41), features.3:(48, 134), features.6:(144, 249), features.8:(288, 179), features.10:(192, 179)\",\n",
      "    \"params\": 55959209,\n",
      "    \"flops\": 343887744,\n",
      "    \"accuracy\": 0.9878,\n",
      "    \"inference_time\": 0.18565610715538072,\n",
      "    \"compression_rate\": 1.0193998632110757,\n",
      "    \"accepted\": true\n",
      "}\n",
      "2025-03-29 23:40:53,997 - MainProcess - INFO - Compressing to:features.0:(2, 41), features.3:(48, 134), features.6:(144, 249), features.8:(288, 166), features.10:(192, 166)\n",
      "2025-03-29 23:41:01,141 - MainProcess - INFO - finetuning:features.0:(2, 41), features.3:(48, 134), features.6:(144, 249), features.8:(288, 166), features.10:(192, 166)\n"
     ]
    },
    {
     "name": "stdout",
     "output_type": "stream",
     "text": [
      "Epoch 2/3, Loss: 0.0541\n",
      "Epoch 2/3, Loss: 0.0526\n",
      "Epoch 3/3, Loss: 0.0405\n",
      "Epoch 1/3, Loss: 0.3177\n",
      "Epoch 3/3, Loss: 0.0380\n"
     ]
    },
    {
     "name": "stderr",
     "output_type": "stream",
     "text": [
      "2025-03-29 23:45:37,404 - MainProcess - INFO - compressed_model:\n",
      "{\n",
      "    \"config_str\": \"features.0:(2, 41), features.3:(48, 134), features.6:(144, 249), features.8:(288, 179), features.10:(192, 166)\",\n",
      "    \"params\": 55933417,\n",
      "    \"flops\": 339528896,\n",
      "    \"accuracy\": 0.983,\n",
      "    \"inference_time\": 0.17009625262768657,\n",
      "    \"compression_rate\": 1.0198699285616681,\n",
      "    \"accepted\": true\n",
      "}\n",
      "2025-03-29 23:45:37,417 - MainProcess - INFO - Compressing to:features.0:(2, 41), features.3:(48, 124), features.6:(144, 288), features.8:(288, 192), features.10:(192, 192)\n",
      "2025-03-29 23:45:41,911 - MainProcess - INFO - finetuning:features.0:(2, 41), features.3:(48, 124), features.6:(144, 288), features.8:(288, 192), features.10:(192, 192)\n"
     ]
    },
    {
     "name": "stdout",
     "output_type": "stream",
     "text": [
      "Epoch 3/3, Loss: 0.0405\n"
     ]
    },
    {
     "name": "stderr",
     "output_type": "stream",
     "text": [
      "2025-03-29 23:47:05,338 - MainProcess - INFO - compressed_model:\n",
      "{\n",
      "    \"config_str\": \"features.0:(2, 41), features.3:(48, 134), features.6:(144, 249), features.8:(288, 166), features.10:(192, 192)\",\n",
      "    \"params\": 55950057,\n",
      "    \"flops\": 342341056,\n",
      "    \"accuracy\": 0.9893,\n",
      "    \"inference_time\": 0.1626348794139368,\n",
      "    \"compression_rate\": 1.019566610986652,\n",
      "    \"accepted\": true\n",
      "}\n",
      "2025-03-29 23:47:05,356 - MainProcess - INFO - Compressing to:features.0:(2, 41), features.3:(48, 124), features.6:(144, 288), features.8:(288, 192), features.10:(192, 179)\n",
      "2025-03-29 23:47:09,702 - MainProcess - INFO - finetuning:features.0:(2, 41), features.3:(48, 124), features.6:(144, 288), features.8:(288, 192), features.10:(192, 179)\n"
     ]
    },
    {
     "name": "stdout",
     "output_type": "stream",
     "text": [
      "Epoch 2/3, Loss: 0.0542\n"
     ]
    },
    {
     "name": "stderr",
     "output_type": "stream",
     "text": [
      "2025-03-29 23:47:58,020 - MainProcess - INFO - compressed_model:\n",
      "{\n",
      "    \"config_str\": \"features.0:(2, 41), features.3:(48, 134), features.6:(144, 249), features.8:(288, 166), features.10:(192, 179)\",\n",
      "    \"params\": 55924265,\n",
      "    \"flops\": 337982208,\n",
      "    \"accuracy\": 0.9904,\n",
      "    \"inference_time\": 0.15879593837033412,\n",
      "    \"compression_rate\": 1.020036830166655,\n",
      "    \"accepted\": true\n",
      "}\n",
      "2025-03-29 23:47:58,031 - MainProcess - INFO - Compressing to:features.0:(2, 41), features.3:(48, 124), features.6:(144, 288), features.8:(288, 192), features.10:(192, 166)\n",
      "2025-03-29 23:48:02,478 - MainProcess - INFO - finetuning:features.0:(2, 41), features.3:(48, 124), features.6:(144, 288), features.8:(288, 192), features.10:(192, 166)\n"
     ]
    },
    {
     "name": "stdout",
     "output_type": "stream",
     "text": [
      "Epoch 1/3, Loss: 0.3182\n",
      "Epoch 1/3, Loss: 0.3199\n",
      "Epoch 3/3, Loss: 0.0385\n",
      "Epoch 1/3, Loss: 0.3205\n",
      "Epoch 2/3, Loss: 0.0539\n"
     ]
    },
    {
     "name": "stderr",
     "output_type": "stream",
     "text": [
      "2025-03-29 23:52:01,651 - MainProcess - INFO - compressed_model:\n",
      "{\n",
      "    \"config_str\": \"features.0:(2, 41), features.3:(48, 134), features.6:(144, 249), features.8:(288, 166), features.10:(192, 166)\",\n",
      "    \"params\": 55898473,\n",
      "    \"flops\": 343044160,\n",
      "    \"accuracy\": 0.99,\n",
      "    \"inference_time\": 0.17761064841236027,\n",
      "    \"compression_rate\": 1.0205074832723964,\n",
      "    \"accepted\": true\n",
      "}\n",
      "2025-03-29 23:52:01,662 - MainProcess - INFO - Compressing to:features.0:(2, 41), features.3:(48, 124), features.6:(144, 288), features.8:(288, 179), features.10:(192, 192)\n",
      "2025-03-29 23:52:06,835 - MainProcess - INFO - finetuning:features.0:(2, 41), features.3:(48, 124), features.6:(144, 288), features.8:(288, 179), features.10:(192, 192)\n"
     ]
    },
    {
     "name": "stdout",
     "output_type": "stream",
     "text": [
      "Epoch 2/3, Loss: 0.0516\n",
      "Epoch 2/3, Loss: 0.0543\n",
      "Epoch 3/3, Loss: 0.0402\n",
      "Epoch 1/3, Loss: 0.3169\n",
      "Epoch 3/3, Loss: 0.0400\n"
     ]
    },
    {
     "name": "stderr",
     "output_type": "stream",
     "text": [
      "2025-03-29 23:56:53,075 - MainProcess - INFO - compressed_model:\n",
      "{\n",
      "    \"config_str\": \"features.0:(2, 41), features.3:(48, 124), features.6:(144, 288), features.8:(288, 192), features.10:(192, 192)\",\n",
      "    \"params\": 56019945,\n",
      "    \"flops\": 354152128,\n",
      "    \"accuracy\": 0.9889,\n",
      "    \"inference_time\": 0.17807597212983794,\n",
      "    \"compression_rate\": 1.0182946448804975,\n",
      "    \"accepted\": true\n",
      "}\n",
      "2025-03-29 23:56:53,087 - MainProcess - INFO - Compressing to:features.0:(2, 41), features.3:(48, 124), features.6:(144, 288), features.8:(288, 179), features.10:(192, 179)\n",
      "2025-03-29 23:56:53,087 - MainProcess - INFO - Evaluated 190 configurations, found 190 accepted models\n"
     ]
    },
    {
     "name": "stdout",
     "output_type": "stream",
     "text": [
      "Epoch 3/3, Loss: 0.0391\n"
     ]
    },
    {
     "name": "stderr",
     "output_type": "stream",
     "text": [
      "2025-03-29 23:56:58,514 - MainProcess - INFO - finetuning:features.0:(2, 41), features.3:(48, 124), features.6:(144, 288), features.8:(288, 179), features.10:(192, 179)\n",
      "2025-03-29 23:57:51,747 - MainProcess - INFO - compressed_model:\n",
      "{\n",
      "    \"config_str\": \"features.0:(2, 41), features.3:(48, 124), features.6:(144, 288), features.8:(288, 192), features.10:(192, 179)\",\n",
      "    \"params\": 55994153,\n",
      "    \"flops\": 349793280,\n",
      "    \"accuracy\": 0.9902,\n",
      "    \"inference_time\": 0.17401506440148484,\n",
      "    \"compression_rate\": 1.0187636912732656,\n",
      "    \"accepted\": true\n",
      "}\n",
      "2025-03-29 23:57:51,756 - MainProcess - INFO - Compressing to:features.0:(2, 41), features.3:(48, 124), features.6:(144, 288), features.8:(288, 179), features.10:(192, 166)\n",
      "2025-03-29 23:57:56,923 - MainProcess - INFO - finetuning:features.0:(2, 41), features.3:(48, 124), features.6:(144, 288), features.8:(288, 179), features.10:(192, 166)\n"
     ]
    },
    {
     "name": "stdout",
     "output_type": "stream",
     "text": [
      "Epoch 2/3, Loss: 0.0542\n"
     ]
    },
    {
     "name": "stderr",
     "output_type": "stream",
     "text": [
      "2025-03-29 23:58:47,255 - MainProcess - INFO - compressed_model:\n",
      "{\n",
      "    \"config_str\": \"features.0:(2, 41), features.3:(48, 124), features.6:(144, 288), features.8:(288, 192), features.10:(192, 166)\",\n",
      "    \"params\": 55968361,\n",
      "    \"flops\": 345434432,\n",
      "    \"accuracy\": 0.9899,\n",
      "    \"inference_time\": 0.17117519743123633,\n",
      "    \"compression_rate\": 1.0192331699690116,\n",
      "    \"accepted\": true\n",
      "}\n",
      "2025-03-29 23:58:47,263 - MainProcess - INFO - Compressing to:features.0:(2, 41), features.3:(48, 124), features.6:(144, 288), features.8:(288, 166), features.10:(192, 192)\n",
      "2025-03-29 23:58:52,350 - MainProcess - INFO - finetuning:features.0:(2, 41), features.3:(48, 124), features.6:(144, 288), features.8:(288, 166), features.10:(192, 192)\n"
     ]
    },
    {
     "name": "stdout",
     "output_type": "stream",
     "text": [
      "Epoch 1/3, Loss: 0.3268\n",
      "Epoch 1/3, Loss: 0.3276\n",
      "Epoch 3/3, Loss: 0.0407\n",
      "Epoch 1/3, Loss: 0.3107\n"
     ]
    },
    {
     "name": "stderr",
     "output_type": "stream",
     "text": [
      "2025-03-30 00:03:14,891 - MainProcess - INFO - compressed_model:\n",
      "{\n",
      "    \"config_str\": \"features.0:(2, 41), features.3:(48, 124), features.6:(144, 288), features.8:(288, 179), features.10:(192, 192)\",\n",
      "    \"params\": 55985001,\n",
      "    \"flops\": 348508736,\n",
      "    \"accuracy\": 0.9894,\n",
      "    \"inference_time\": 0.17736769481829018,\n",
      "    \"compression_rate\": 1.0189302309738282,\n",
      "    \"accepted\": true\n",
      "}\n",
      "2025-03-30 00:03:14,898 - MainProcess - INFO - Compressing to:features.0:(2, 41), features.3:(48, 124), features.6:(144, 288), features.8:(288, 166), features.10:(192, 179)\n",
      "2025-03-30 00:03:19,799 - MainProcess - INFO - finetuning:features.0:(2, 41), features.3:(48, 124), features.6:(144, 288), features.8:(288, 166), features.10:(192, 179)\n"
     ]
    },
    {
     "name": "stdout",
     "output_type": "stream",
     "text": [
      "Epoch 2/3, Loss: 0.0522\n",
      "Epoch 2/3, Loss: 0.0539\n",
      "Epoch 2/3, Loss: 0.0519\n",
      "Epoch 1/3, Loss: 0.3184\n",
      "Epoch 3/3, Loss: 0.0402\n",
      "Epoch 3/3, Loss: 0.0401\n",
      "Epoch 3/3, Loss: 0.0411\n"
     ]
    },
    {
     "name": "stderr",
     "output_type": "stream",
     "text": [
      "2025-03-30 00:08:51,139 - MainProcess - INFO - compressed_model:\n",
      "{\n",
      "    \"config_str\": \"features.0:(2, 41), features.3:(48, 124), features.6:(144, 288), features.8:(288, 179), features.10:(192, 179)\",\n",
      "    \"params\": 55959209,\n",
      "    \"flops\": 400158592,\n",
      "    \"accuracy\": 0.9904,\n",
      "    \"inference_time\": 0.21129462167209376,\n",
      "    \"compression_rate\": 1.0193998632110757,\n",
      "    \"accepted\": true\n",
      "}\n",
      "2025-03-30 00:08:51,153 - MainProcess - INFO - Compressing to:features.0:(2, 41), features.3:(48, 124), features.6:(144, 288), features.8:(288, 166), features.10:(192, 166)\n",
      "2025-03-30 00:08:57,116 - MainProcess - INFO - finetuning:features.0:(2, 41), features.3:(48, 124), features.6:(144, 288), features.8:(288, 166), features.10:(192, 166)\n",
      "2025-03-30 00:09:16,047 - MainProcess - INFO - compressed_model:\n",
      "{\n",
      "    \"config_str\": \"features.0:(2, 41), features.3:(48, 124), features.6:(144, 288), features.8:(288, 179), features.10:(192, 166)\",\n",
      "    \"params\": 55933417,\n",
      "    \"flops\": 339528896,\n",
      "    \"accuracy\": 0.9899,\n",
      "    \"inference_time\": 0.1976706267921788,\n",
      "    \"compression_rate\": 1.0198699285616681,\n",
      "    \"accepted\": true\n",
      "}\n",
      "2025-03-30 00:09:16,056 - MainProcess - INFO - Compressing to:features.0:(2, 41), features.3:(48, 124), features.6:(144, 268), features.8:(288, 192), features.10:(192, 192)\n",
      "2025-03-30 00:09:16,734 - MainProcess - ERROR - Error processing config: {'features.0': (2, 41), 'features.3': (48, 124), 'features.6': (144, 288), 'features.8': (288, 166), 'features.10': (192, 166)}. Error: CUDA out of memory. Tried to allocate 48.00 MiB. GPU 0 has a total capacity of 47.54 GiB of which 19.12 MiB is free. Including non-PyTorch memory, this process has 38.53 GiB memory in use. Process 3930001 has 5.31 GiB memory in use. Process 3530538 has 3.66 GiB memory in use. Of the allocated memory 37.70 GiB is allocated by PyTorch, and 468.60 MiB is reserved by PyTorch but unallocated. If reserved but unallocated memory is large try setting PYTORCH_CUDA_ALLOC_CONF=expandable_segments:True to avoid fragmentation.  See documentation for Memory Management  (https://pytorch.org/docs/stable/notes/cuda.html#environment-variables)\n",
      "2025-03-30 00:09:16,736 - MainProcess - INFO - Compressing to:features.0:(2, 41), features.3:(48, 124), features.6:(144, 268), features.8:(288, 192), features.10:(192, 179)\n",
      "2025-03-30 00:09:22,538 - MainProcess - INFO - finetuning:features.0:(2, 41), features.3:(48, 124), features.6:(144, 268), features.8:(288, 192), features.10:(192, 192)\n",
      "2025-03-30 00:09:23,177 - MainProcess - INFO - finetuning:features.0:(2, 41), features.3:(48, 124), features.6:(144, 268), features.8:(288, 192), features.10:(192, 179)\n"
     ]
    },
    {
     "name": "stdout",
     "output_type": "stream",
     "text": [
      "Epoch 2/3, Loss: 0.0526\n"
     ]
    },
    {
     "name": "stderr",
     "output_type": "stream",
     "text": [
      "2025-03-30 00:10:15,384 - MainProcess - INFO - compressed_model:\n",
      "{\n",
      "    \"config_str\": \"features.0:(2, 41), features.3:(48, 124), features.6:(144, 288), features.8:(288, 166), features.10:(192, 192)\",\n",
      "    \"params\": 55950057,\n",
      "    \"flops\": 342341056,\n",
      "    \"accuracy\": 0.9889,\n",
      "    \"inference_time\": 0.1931710643120379,\n",
      "    \"compression_rate\": 1.019566610986652,\n",
      "    \"accepted\": true\n",
      "}\n",
      "2025-03-30 00:10:15,392 - MainProcess - INFO - Compressing to:features.0:(2, 41), features.3:(48, 124), features.6:(144, 268), features.8:(288, 192), features.10:(192, 166)\n",
      "2025-03-30 00:10:21,767 - MainProcess - INFO - finetuning:features.0:(2, 41), features.3:(48, 124), features.6:(144, 268), features.8:(288, 192), features.10:(192, 166)\n",
      "2025-03-30 00:10:22,024 - MainProcess - ERROR - Error processing config: {'features.0': (2, 41), 'features.3': (48, 124), 'features.6': (144, 268), 'features.8': (288, 192), 'features.10': (192, 166)}. Error: CUDA out of memory. Tried to allocate 48.00 MiB. GPU 0 has a total capacity of 47.54 GiB of which 1.12 MiB is free. Including non-PyTorch memory, this process has 39.16 GiB memory in use. Process 3930001 has 4.70 GiB memory in use. Process 3530538 has 3.66 GiB memory in use. Of the allocated memory 38.36 GiB is allocated by PyTorch, and 442.22 MiB is reserved by PyTorch but unallocated. If reserved but unallocated memory is large try setting PYTORCH_CUDA_ALLOC_CONF=expandable_segments:True to avoid fragmentation.  See documentation for Memory Management  (https://pytorch.org/docs/stable/notes/cuda.html#environment-variables)\n",
      "2025-03-30 00:10:22,037 - MainProcess - INFO - Compressing to:features.0:(2, 41), features.3:(48, 124), features.6:(144, 268), features.8:(288, 179), features.10:(192, 192)\n",
      "2025-03-30 00:10:28,011 - MainProcess - INFO - finetuning:features.0:(2, 41), features.3:(48, 124), features.6:(144, 268), features.8:(288, 179), features.10:(192, 192)\n",
      "2025-03-30 00:10:28,244 - MainProcess - ERROR - Error processing config: {'features.0': (2, 41), 'features.3': (48, 124), 'features.6': (144, 268), 'features.8': (288, 179), 'features.10': (192, 192)}. Error: CUDA out of memory. Tried to allocate 144.00 MiB. GPU 0 has a total capacity of 47.54 GiB of which 135.12 MiB is free. Including non-PyTorch memory, this process has 39.02 GiB memory in use. Process 3930001 has 4.71 GiB memory in use. Process 3530538 has 3.66 GiB memory in use. Of the allocated memory 38.38 GiB is allocated by PyTorch, and 283.98 MiB is reserved by PyTorch but unallocated. If reserved but unallocated memory is large try setting PYTORCH_CUDA_ALLOC_CONF=expandable_segments:True to avoid fragmentation.  See documentation for Memory Management  (https://pytorch.org/docs/stable/notes/cuda.html#environment-variables)\n",
      "2025-03-30 00:10:28,254 - MainProcess - ERROR - Error processing config: {'features.0': (2, 41), 'features.3': (48, 124), 'features.6': (144, 288), 'features.8': (288, 166), 'features.10': (192, 179)}. Error: CUDA out of memory. Tried to allocate 144.00 MiB. GPU 0 has a total capacity of 47.54 GiB of which 135.12 MiB is free. Including non-PyTorch memory, this process has 39.02 GiB memory in use. Process 3930001 has 4.71 GiB memory in use. Process 3530538 has 3.66 GiB memory in use. Of the allocated memory 38.52 GiB is allocated by PyTorch, and 137.53 MiB is reserved by PyTorch but unallocated. If reserved but unallocated memory is large try setting PYTORCH_CUDA_ALLOC_CONF=expandable_segments:True to avoid fragmentation.  See documentation for Memory Management  (https://pytorch.org/docs/stable/notes/cuda.html#environment-variables)\n",
      "2025-03-30 00:10:28,258 - MainProcess - INFO - Compressing to:features.0:(2, 41), features.3:(48, 124), features.6:(144, 268), features.8:(288, 179), features.10:(192, 179)\n",
      "2025-03-30 00:10:28,262 - MainProcess - INFO - Compressing to:features.0:(2, 41), features.3:(48, 124), features.6:(144, 268), features.8:(288, 179), features.10:(192, 166)\n",
      "2025-03-30 00:10:34,714 - MainProcess - INFO - finetuning:features.0:(2, 41), features.3:(48, 124), features.6:(144, 268), features.8:(288, 179), features.10:(192, 166)\n",
      "2025-03-30 00:10:34,830 - MainProcess - INFO - finetuning:features.0:(2, 41), features.3:(48, 124), features.6:(144, 268), features.8:(288, 179), features.10:(192, 179)\n",
      "2025-03-30 00:10:35,031 - MainProcess - ERROR - Error processing config: {'features.0': (2, 41), 'features.3': (48, 124), 'features.6': (144, 268), 'features.8': (288, 192), 'features.10': (192, 192)}. Error: CUDA out of memory. Tried to allocate 144.00 MiB. GPU 0 has a total capacity of 47.54 GiB of which 135.12 MiB is free. Including non-PyTorch memory, this process has 39.02 GiB memory in use. Process 3930001 has 4.71 GiB memory in use. Process 3530538 has 3.66 GiB memory in use. Of the allocated memory 38.43 GiB is allocated by PyTorch, and 226.30 MiB is reserved by PyTorch but unallocated. If reserved but unallocated memory is large try setting PYTORCH_CUDA_ALLOC_CONF=expandable_segments:True to avoid fragmentation.  See documentation for Memory Management  (https://pytorch.org/docs/stable/notes/cuda.html#environment-variables)\n",
      "2025-03-30 00:10:35,038 - MainProcess - ERROR - Error processing config: {'features.0': (2, 41), 'features.3': (48, 124), 'features.6': (144, 268), 'features.8': (288, 179), 'features.10': (192, 179)}. Error: CUDA out of memory. Tried to allocate 144.00 MiB. GPU 0 has a total capacity of 47.54 GiB of which 135.12 MiB is free. Including non-PyTorch memory, this process has 39.02 GiB memory in use. Process 3930001 has 4.71 GiB memory in use. Process 3530538 has 3.66 GiB memory in use. Of the allocated memory 38.52 GiB is allocated by PyTorch, and 137.56 MiB is reserved by PyTorch but unallocated. If reserved but unallocated memory is large try setting PYTORCH_CUDA_ALLOC_CONF=expandable_segments:True to avoid fragmentation.  See documentation for Memory Management  (https://pytorch.org/docs/stable/notes/cuda.html#environment-variables)\n",
      "2025-03-30 00:10:35,040 - MainProcess - INFO - Compressing to:features.0:(2, 41), features.3:(48, 124), features.6:(144, 268), features.8:(288, 166), features.10:(192, 192)\n",
      "2025-03-30 00:10:35,046 - MainProcess - INFO - Compressing to:features.0:(2, 41), features.3:(48, 124), features.6:(144, 268), features.8:(288, 166), features.10:(192, 179)\n",
      "2025-03-30 00:10:41,905 - MainProcess - INFO - finetuning:features.0:(2, 41), features.3:(48, 124), features.6:(144, 268), features.8:(288, 166), features.10:(192, 179)\n",
      "2025-03-30 00:10:41,905 - MainProcess - INFO - finetuning:features.0:(2, 41), features.3:(48, 124), features.6:(144, 268), features.8:(288, 166), features.10:(192, 192)\n",
      "2025-03-30 00:10:42,166 - MainProcess - ERROR - Error processing config: {'features.0': (2, 41), 'features.3': (48, 124), 'features.6': (144, 268), 'features.8': (288, 166), 'features.10': (192, 192)}. Error: CUDA out of memory. Tried to allocate 12.00 MiB. GPU 0 has a total capacity of 47.54 GiB of which 7.12 MiB is free. Including non-PyTorch memory, this process has 39.14 GiB memory in use. Process 3930001 has 4.71 GiB memory in use. Process 3530538 has 3.66 GiB memory in use. Of the allocated memory 38.67 GiB is allocated by PyTorch, and 102.83 MiB is reserved by PyTorch but unallocated. If reserved but unallocated memory is large try setting PYTORCH_CUDA_ALLOC_CONF=expandable_segments:True to avoid fragmentation.  See documentation for Memory Management  (https://pytorch.org/docs/stable/notes/cuda.html#environment-variables)\n",
      "2025-03-30 00:10:42,180 - MainProcess - ERROR - Error processing config: {'features.0': (2, 41), 'features.3': (48, 124), 'features.6': (144, 268), 'features.8': (288, 166), 'features.10': (192, 179)}. Error: CUDA out of memory. Tried to allocate 64.00 MiB. GPU 0 has a total capacity of 47.54 GiB of which 17.12 MiB is free. Including non-PyTorch memory, this process has 39.13 GiB memory in use. Process 3930001 has 4.71 GiB memory in use. Process 3530538 has 3.66 GiB memory in use. Of the allocated memory 38.66 GiB is allocated by PyTorch, and 102.24 MiB is reserved by PyTorch but unallocated. If reserved but unallocated memory is large try setting PYTORCH_CUDA_ALLOC_CONF=expandable_segments:True to avoid fragmentation.  See documentation for Memory Management  (https://pytorch.org/docs/stable/notes/cuda.html#environment-variables)\n",
      "2025-03-30 00:10:42,182 - MainProcess - INFO - Compressing to:features.0:(2, 41), features.3:(48, 124), features.6:(144, 268), features.8:(288, 166), features.10:(192, 166)\n",
      "2025-03-30 00:10:42,197 - MainProcess - INFO - Compressing to:features.0:(2, 41), features.3:(48, 124), features.6:(144, 249), features.8:(288, 192), features.10:(192, 192)\n",
      "2025-03-30 00:10:48,053 - MainProcess - INFO - finetuning:features.0:(2, 41), features.3:(48, 124), features.6:(144, 268), features.8:(288, 166), features.10:(192, 166)\n",
      "2025-03-30 00:10:48,353 - MainProcess - INFO - finetuning:features.0:(2, 41), features.3:(48, 124), features.6:(144, 249), features.8:(288, 192), features.10:(192, 192)\n",
      "2025-03-30 00:10:48,585 - MainProcess - ERROR - Error processing config: {'features.0': (2, 41), 'features.3': (48, 124), 'features.6': (144, 249), 'features.8': (288, 192), 'features.10': (192, 192)}. Error: CUDA out of memory. Tried to allocate 144.00 MiB. GPU 0 has a total capacity of 47.54 GiB of which 125.12 MiB is free. Including non-PyTorch memory, this process has 39.02 GiB memory in use. Process 3930001 has 4.71 GiB memory in use. Process 3530538 has 3.66 GiB memory in use. Of the allocated memory 38.45 GiB is allocated by PyTorch, and 214.86 MiB is reserved by PyTorch but unallocated. If reserved but unallocated memory is large try setting PYTORCH_CUDA_ALLOC_CONF=expandable_segments:True to avoid fragmentation.  See documentation for Memory Management  (https://pytorch.org/docs/stable/notes/cuda.html#environment-variables)\n",
      "2025-03-30 00:10:48,591 - MainProcess - INFO - Compressing to:features.0:(2, 41), features.3:(48, 124), features.6:(144, 249), features.8:(288, 192), features.10:(192, 179)\n",
      "2025-03-30 00:10:48,593 - MainProcess - ERROR - Error processing config: {'features.0': (2, 41), 'features.3': (48, 124), 'features.6': (144, 268), 'features.8': (288, 179), 'features.10': (192, 166)}. Error: CUDA out of memory. Tried to allocate 144.00 MiB. GPU 0 has a total capacity of 47.54 GiB of which 125.12 MiB is free. Including non-PyTorch memory, this process has 39.02 GiB memory in use. Process 3930001 has 4.71 GiB memory in use. Process 3530538 has 3.66 GiB memory in use. Of the allocated memory 38.52 GiB is allocated by PyTorch, and 140.04 MiB is reserved by PyTorch but unallocated. If reserved but unallocated memory is large try setting PYTORCH_CUDA_ALLOC_CONF=expandable_segments:True to avoid fragmentation.  See documentation for Memory Management  (https://pytorch.org/docs/stable/notes/cuda.html#environment-variables)\n",
      "2025-03-30 00:10:48,603 - MainProcess - INFO - Compressing to:features.0:(2, 41), features.3:(48, 124), features.6:(144, 249), features.8:(288, 192), features.10:(192, 166)\n",
      "2025-03-30 00:10:54,702 - MainProcess - INFO - finetuning:features.0:(2, 41), features.3:(48, 124), features.6:(144, 249), features.8:(288, 192), features.10:(192, 166)\n",
      "2025-03-30 00:10:54,805 - MainProcess - INFO - finetuning:features.0:(2, 41), features.3:(48, 124), features.6:(144, 249), features.8:(288, 192), features.10:(192, 179)\n",
      "2025-03-30 00:10:54,998 - MainProcess - ERROR - Error processing config: {'features.0': (2, 41), 'features.3': (48, 124), 'features.6': (144, 268), 'features.8': (288, 192), 'features.10': (192, 179)}. Error: CUDA out of memory. Tried to allocate 2.00 MiB. GPU 0 has a total capacity of 47.54 GiB of which 1.12 MiB is free. Including non-PyTorch memory, this process has 39.14 GiB memory in use. Process 3930001 has 4.71 GiB memory in use. Process 3530538 has 3.66 GiB memory in use. Of the allocated memory 38.53 GiB is allocated by PyTorch, and 250.75 MiB is reserved by PyTorch but unallocated. If reserved but unallocated memory is large try setting PYTORCH_CUDA_ALLOC_CONF=expandable_segments:True to avoid fragmentation.  See documentation for Memory Management  (https://pytorch.org/docs/stable/notes/cuda.html#environment-variables)\n",
      "2025-03-30 00:10:55,001 - MainProcess - INFO - Compressing to:features.0:(2, 41), features.3:(48, 124), features.6:(144, 249), features.8:(288, 179), features.10:(192, 192)\n",
      "2025-03-30 00:10:55,004 - MainProcess - ERROR - Error processing config: {'features.0': (2, 41), 'features.3': (48, 124), 'features.6': (144, 249), 'features.8': (288, 192), 'features.10': (192, 179)}. Error: CUDA out of memory. Tried to allocate 2.00 MiB. GPU 0 has a total capacity of 47.54 GiB of which 1.12 MiB is free. Including non-PyTorch memory, this process has 39.14 GiB memory in use. Process 3930001 has 4.71 GiB memory in use. Process 3530538 has 3.66 GiB memory in use. Of the allocated memory 38.57 GiB is allocated by PyTorch, and 209.69 MiB is reserved by PyTorch but unallocated. If reserved but unallocated memory is large try setting PYTORCH_CUDA_ALLOC_CONF=expandable_segments:True to avoid fragmentation.  See documentation for Memory Management  (https://pytorch.org/docs/stable/notes/cuda.html#environment-variables)\n",
      "2025-03-30 00:10:55,014 - MainProcess - INFO - Compressing to:features.0:(2, 41), features.3:(48, 124), features.6:(144, 249), features.8:(288, 179), features.10:(192, 179)\n",
      "2025-03-30 00:11:01,361 - MainProcess - INFO - finetuning:features.0:(2, 41), features.3:(48, 124), features.6:(144, 249), features.8:(288, 179), features.10:(192, 179)\n",
      "2025-03-30 00:11:01,420 - MainProcess - INFO - finetuning:features.0:(2, 41), features.3:(48, 124), features.6:(144, 249), features.8:(288, 179), features.10:(192, 192)\n"
     ]
    },
    {
     "name": "stdout",
     "output_type": "stream",
     "text": [
      "Epoch 1/3, Loss: 0.3198\n",
      "Epoch 1/3, Loss: 0.3257\n",
      "Epoch 1/3, Loss: 0.3246\n",
      "Epoch 1/3, Loss: 0.3207\n",
      "Epoch 2/3, Loss: 0.0523\n",
      "Epoch 2/3, Loss: 0.0533\n",
      "Epoch 2/3, Loss: 0.0525\n",
      "Epoch 2/3, Loss: 0.0539\n",
      "Epoch 3/3, Loss: 0.0396\n",
      "Epoch 3/3, Loss: 0.0396\n",
      "Epoch 3/3, Loss: 0.0389\n",
      "Epoch 3/3, Loss: 0.0398\n"
     ]
    },
    {
     "name": "stderr",
     "output_type": "stream",
     "text": [
      "2025-03-30 00:22:12,633 - MainProcess - INFO - compressed_model:\n",
      "{\n",
      "    \"config_str\": \"features.0:(2, 41), features.3:(48, 124), features.6:(144, 268), features.8:(288, 166), features.10:(192, 166)\",\n",
      "    \"params\": 55898473,\n",
      "    \"flops\": 333623360,\n",
      "    \"accuracy\": 0.9896,\n",
      "    \"inference_time\": 0.18406136121972605,\n",
      "    \"compression_rate\": 1.0205074832723964,\n",
      "    \"accepted\": true\n",
      "}\n",
      "2025-03-30 00:22:12,643 - MainProcess - INFO - Compressing to:features.0:(2, 41), features.3:(48, 124), features.6:(144, 249), features.8:(288, 179), features.10:(192, 166)\n",
      "2025-03-30 00:22:18,289 - MainProcess - INFO - finetuning:features.0:(2, 41), features.3:(48, 124), features.6:(144, 249), features.8:(288, 179), features.10:(192, 166)\n",
      "2025-03-30 00:22:24,438 - MainProcess - INFO - compressed_model:\n",
      "{\n",
      "    \"config_str\": \"features.0:(2, 41), features.3:(48, 124), features.6:(144, 249), features.8:(288, 179), features.10:(192, 179)\",\n",
      "    \"params\": 55959209,\n",
      "    \"flops\": 393506688,\n",
      "    \"accuracy\": 0.9887,\n",
      "    \"inference_time\": 0.18050904587828684,\n",
      "    \"compression_rate\": 1.0193998632110757,\n",
      "    \"accepted\": true\n",
      "}\n",
      "2025-03-30 00:22:24,445 - MainProcess - INFO - Compressing to:features.0:(2, 41), features.3:(48, 124), features.6:(144, 249), features.8:(288, 166), features.10:(192, 192)\n",
      "2025-03-30 00:22:30,372 - MainProcess - INFO - finetuning:features.0:(2, 41), features.3:(48, 124), features.6:(144, 249), features.8:(288, 166), features.10:(192, 192)\n",
      "2025-03-30 00:22:36,890 - MainProcess - INFO - compressed_model:\n",
      "{\n",
      "    \"config_str\": \"features.0:(2, 41), features.3:(48, 124), features.6:(144, 249), features.8:(288, 192), features.10:(192, 166)\",\n",
      "    \"params\": 55968361,\n",
      "    \"flops\": 345434432,\n",
      "    \"accuracy\": 0.9896,\n",
      "    \"inference_time\": 0.18902938634220456,\n",
      "    \"compression_rate\": 1.0192331699690116,\n",
      "    \"accepted\": true\n",
      "}\n",
      "2025-03-30 00:22:36,902 - MainProcess - INFO - Compressing to:features.0:(2, 41), features.3:(48, 124), features.6:(144, 249), features.8:(288, 166), features.10:(192, 179)\n",
      "2025-03-30 00:22:44,025 - MainProcess - INFO - finetuning:features.0:(2, 41), features.3:(48, 124), features.6:(144, 249), features.8:(288, 166), features.10:(192, 179)\n",
      "2025-03-30 00:23:14,009 - MainProcess - INFO - compressed_model:\n",
      "{\n",
      "    \"config_str\": \"features.0:(2, 41), features.3:(48, 124), features.6:(144, 249), features.8:(288, 179), features.10:(192, 192)\",\n",
      "    \"params\": 55985001,\n",
      "    \"flops\": 348246592,\n",
      "    \"accuracy\": 0.9885,\n",
      "    \"inference_time\": 0.20252229048694523,\n",
      "    \"compression_rate\": 1.0189302309738282,\n",
      "    \"accepted\": true\n",
      "}\n",
      "2025-03-30 00:23:14,718 - MainProcess - INFO - Compressing to:features.0:(2, 41), features.3:(48, 124), features.6:(144, 249), features.8:(288, 166), features.10:(192, 166)\n",
      "2025-03-30 00:23:14,718 - MainProcess - INFO - Evaluated 200 configurations, found 200 accepted models\n",
      "2025-03-30 00:23:21,475 - MainProcess - INFO - finetuning:features.0:(2, 41), features.3:(48, 124), features.6:(144, 249), features.8:(288, 166), features.10:(192, 166)\n"
     ]
    },
    {
     "name": "stdout",
     "output_type": "stream",
     "text": [
      "Epoch 1/3, Loss: 0.3255\n",
      "Epoch 1/3, Loss: 0.3208\n",
      "Epoch 1/3, Loss: 0.3120\n",
      "Epoch 1/3, Loss: 0.3221\n",
      "Epoch 2/3, Loss: 0.0528\n",
      "Epoch 2/3, Loss: 0.0532\n",
      "Epoch 2/3, Loss: 0.0536\n",
      "Epoch 2/3, Loss: 0.0535\n",
      "Epoch 3/3, Loss: 0.0406\n",
      "Epoch 3/3, Loss: 0.0396\n",
      "Epoch 3/3, Loss: 0.0400\n",
      "Epoch 3/3, Loss: 0.0394\n"
     ]
    },
    {
     "name": "stderr",
     "output_type": "stream",
     "text": [
      "2025-03-30 00:33:41,647 - MainProcess - INFO - compressed_model:\n",
      "{\n",
      "    \"config_str\": \"features.0:(2, 41), features.3:(48, 124), features.6:(144, 249), features.8:(288, 179), features.10:(192, 166)\",\n",
      "    \"params\": 55933417,\n",
      "    \"flops\": 339528896,\n",
      "    \"accuracy\": 0.9905,\n",
      "    \"inference_time\": 0.17579424811523178,\n",
      "    \"compression_rate\": 1.0198699285616681,\n",
      "    \"accepted\": true\n",
      "}\n",
      "2025-03-30 00:33:53,489 - MainProcess - INFO - compressed_model:\n",
      "{\n",
      "    \"config_str\": \"features.0:(2, 41), features.3:(48, 124), features.6:(144, 249), features.8:(288, 166), features.10:(192, 192)\",\n",
      "    \"params\": 55950057,\n",
      "    \"flops\": 342341056,\n",
      "    \"accuracy\": 0.9903,\n",
      "    \"inference_time\": 0.1697689347965702,\n",
      "    \"compression_rate\": 1.019566610986652,\n",
      "    \"accepted\": true\n",
      "}\n",
      "2025-03-30 00:34:09,639 - MainProcess - INFO - compressed_model:\n",
      "{\n",
      "    \"config_str\": \"features.0:(2, 41), features.3:(48, 124), features.6:(144, 249), features.8:(288, 166), features.10:(192, 179)\",\n",
      "    \"params\": 55924265,\n",
      "    \"flops\": 337982208,\n",
      "    \"accuracy\": 0.9893,\n",
      "    \"inference_time\": 0.16043673503171105,\n",
      "    \"compression_rate\": 1.020036830166655,\n",
      "    \"accepted\": true\n",
      "}\n",
      "2025-03-30 00:34:38,724 - MainProcess - INFO - compressed_model:\n",
      "{\n",
      "    \"config_str\": \"features.0:(2, 41), features.3:(48, 124), features.6:(144, 249), features.8:(288, 166), features.10:(192, 166)\",\n",
      "    \"params\": 55898473,\n",
      "    \"flops\": 333623360,\n",
      "    \"accuracy\": 0.9877,\n",
      "    \"inference_time\": 0.12429337795119884,\n",
      "    \"compression_rate\": 1.0205074832723964,\n",
      "    \"accepted\": true\n",
      "}\n"
     ]
    }
   ],
   "source": [
    "from concurrent.futures import ThreadPoolExecutor, as_completed\n",
    "import uuid\n",
    "\n",
    "\n",
    "num_workers = 4\n",
    "num_gpus = 1  # torch.cuda.device_count() if torch.cuda.is_available() else 0\n",
    "results = []\n",
    "tried_count = 0\n",
    "accepted_models = []\n",
    "\n",
    "\n",
    "configs = generate_configs(layer_dict, MAX_CFG)\n",
    "acceptance_threshold = ACCU_RQT * baseline_accuracy\n",
    "\n",
    "with ThreadPoolExecutor(max_workers=num_workers) as executor:\n",
    "    # Submit tasks with device indices in round-robin\n",
    "    if num_gpus > 0:\n",
    "        futures = [executor.submit(process_config, config, 0) for config in configs] #- i % num_gpus) for i, config in enumerate(configs)]\n",
    "        \n",
    "        for future in as_completed(futures):\n",
    "            try:\n",
    "                result = future.result()\n",
    "                if result is not None:\n",
    "                    results.append(result)\n",
    "                    \n",
    "                    if result['accepted']:\n",
    "                        accepted_models.append(result)\n",
    "                    \n",
    "                    tried_count += 1\n",
    "                    if tried_count % 10 == 0:\n",
    "                        logger.info(f\"Evaluated {tried_count} configurations, found {len(accepted_models)} accepted models\")\n",
    "            \n",
    "            except Exception as e:\n",
    "                logger.error(f\"Error in future processing: {str(e)}\")\n",
    "    else:\n",
    "        logger.warning('NO GPU')"
   ]
  },
  {
   "cell_type": "code",
   "execution_count": null,
   "id": "280199f8-43db-452f-afc1-393324847cc6",
   "metadata": {},
   "outputs": [],
   "source": [
    "# Save top 10 models\n",
    "if accepted_models:\n",
    "    accepted_models.sort(key=lambda x: x['score'], reverse=True)\n",
    "    top_models = accepted_models[:10]\n",
    "    logger.info(f\"Found {len(accepted_models)} accepted models, saving top {len(top_models)}\")\n",
    "    \n",
    "    for model_info in top_models:\n",
    "        final_save_path = os.path.join(save_dir, f\"htd_{MODEL_NAME}_{model_info['config_str']}_{timestamp}.pth\")\n",
    "        os.rename(model_info['model_path'], final_save_path)\n",
    "        logger.info(f\"Saved top model {model_info['config_str']} to {final_save_path}\")/home/fmokadem/NAS/tdcnn/README.md\n",
    "    \n",
    "    # Clean up remaining temporary files\n",
    "    for model_info in accepted_models[10:]:\n",
    "        if model_info['model_path'] and os.path.exists(model_info['model_path']):\n",
    "            os.remove(model_info['model_path'])\n",
    "else:\n",
    "    logger.info(\"No accepted models found\")\n",
    "\n",
    "# Clean up temp directory if empty\n",
    "if not os.listdir(temp_dir):\n",
    "    os.rmdir(temp_dir)\n",
    "\n",
    "logger.info(f\"HTD experiment for {MODEL_NAME} completed\")"
   ]
  },
  {
   "cell_type": "code",
   "execution_count": 30,
   "id": "4748e4b1-b208-4f8c-9372-6cf0ec62801b",
   "metadata": {},
   "outputs": [
    {
     "data": {
      "text/plain": [
       "{'config_str': 'features.0:(2, 48), features.3:(48, 144), features.6:(144, 288), features.8:(288, 166), features.10:(192, 166)',\n",
       " 'params': 55898473,\n",
       " 'flops': 333623360,\n",
       " 'accuracy': 0.9906,\n",
       " 'inference_time': np.float64(0.1705096041320995),\n",
       " 'compression_rate': 1.0205074832723964,\n",
       " 'accepted': True}"
      ]
     },
     "execution_count": 30,
     "metadata": {},
     "output_type": "execute_result"
    }
   ],
   "source": [
    "max(results, key = lambda x: x['compression_rate'])"
   ]
  },
  {
   "cell_type": "code",
   "execution_count": null,
   "id": "3de3840b-6a15-4c59-8019-f70b8f689168",
   "metadata": {},
   "outputs": [],
   "source": []
  }
 ],
 "metadata": {
  "kernelspec": {
   "display_name": "Python 3 (ipykernel)",
   "language": "python",
   "name": "python3"
  },
  "language_info": {
   "codemirror_mode": {
    "name": "ipython",
    "version": 3
   },
   "file_extension": ".py",
   "mimetype": "text/x-python",
   "name": "python",
   "nbconvert_exporter": "python",
   "pygments_lexer": "ipython3",
   "version": "3.9.21"
  }
 },
 "nbformat": 4,
 "nbformat_minor": 5
}
