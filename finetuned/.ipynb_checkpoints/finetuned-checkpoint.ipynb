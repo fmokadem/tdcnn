{
 "cells": [
  {
   "cell_type": "code",
   "execution_count": 4,
   "id": "c520284d-4566-4a2f-8b84-b434492603a7",
   "metadata": {},
   "outputs": [],
   "source": [
    "import sys\n",
    "sys.path.append(\"/home/fmokadem/NAS/tdcnn\")\n",
    "from common.dataset import load_mnist"
   ]
  },
  {
   "cell_type": "code",
   "execution_count": 5,
   "id": "8e432e97-f518-4b6e-b38c-bc3ad9036828",
   "metadata": {},
   "outputs": [],
   "source": [
    "import torch\n",
    "import torch.nn as nn\n",
    "import torchvision.models as models\n",
    "\n",
    "# Load pre-trained models\n",
    "alexnet = models.alexnet(weights='DEFAULT')\n",
    "vgg16 = models.vgg16(weights='DEFAULT')\n",
    "resnet18 = models.resnet18(weights='DEFAULT')"
   ]
  },
  {
   "cell_type": "code",
   "execution_count": 6,
   "id": "d7a63451-29a4-4518-8b2f-e7e6e59029b3",
   "metadata": {},
   "outputs": [],
   "source": [
    "\n",
    "from common._logging import setup_logger\n",
    "from common.utils import (\n",
    "    count_parameters, \n",
    "    measure_inference_time, \n",
    "    calculate_accuracy, \n",
    "    get_flops, \n",
    "    get_conv2d_layers,\n",
    "    infer_rank, \n",
    "    calculate_layer_params,\n",
    "    replace_conv2d_with_tucker,\n",
    "    fine_tune\n",
    ")\n",
    "from common.load_models import load_model"
   ]
  },
  {
   "cell_type": "code",
   "execution_count": 7,
   "id": "6e88129f-294e-4a78-9e82-0e896f9e94eb",
   "metadata": {},
   "outputs": [],
   "source": [
    "train_loader, test_loader = load_mnist()\n"
   ]
  },
  {
   "cell_type": "code",
   "execution_count": 8,
   "id": "334a4484-a142-4b82-bf6a-116563db1aef",
   "metadata": {},
   "outputs": [],
   "source": [
    "# Modify AlexNet\n",
    "alexnet.classifier[6] = nn.Linear(4096, 10)\n",
    "\n",
    "# Modify VGG16\n",
    "vgg16.classifier[6] = nn.Linear(4096, 10)\n",
    "\n",
    "# Modify ResNet18\n",
    "resnet18.fc = nn.Linear(512, 10)"
   ]
  },
  {
   "cell_type": "code",
   "execution_count": 10,
   "id": "585b3481-1dff-4915-911b-f67f246d6773",
   "metadata": {},
   "outputs": [],
   "source": []
  },
  {
   "cell_type": "code",
   "execution_count": 11,
   "id": "4490d806-4655-4b16-a242-ee3ac50c435f",
   "metadata": {},
   "outputs": [],
   "source": [
    "import torch.optim as optim\n",
    "import torch.multiprocessing as mp\n",
    "\n",
    "# train loop\n",
    "\n",
    "criterion = nn.CrossEntropyLoss()\n",
    "def train_model(model, train_loader, test_loader, criterion, optimizer, device, num_epochs=10):\n",
    "    model = model.to(device)\n",
    "    \n",
    "    for epoch in range(num_epochs):\n",
    "        # Training phase\n",
    "        model.train()\n",
    "        running_loss = 0.0\n",
    "        for inputs, labels in train_loader:\n",
    "            inputs, labels = inputs.to(device), labels.to(device)\n",
    "            optimizer.zero_grad()\n",
    "            outputs = model(inputs)\n",
    "            loss = criterion(outputs, labels)\n",
    "            loss.backward()\n",
    "            optimizer.step()\n",
    "            running_loss += loss.item()\n",
    "        avg_loss = running_loss / len(train_loader)\n",
    "        print(f'Epoch {epoch+1}/{num_epochs}, Loss: {avg_loss:.4f}')\n",
    "        \n",
    "        # Evaluation phase\n",
    "        model.eval()\n",
    "        correct = 0\n",
    "        total = 0\n",
    "        with torch.no_grad():\n",
    "            for inputs, labels in test_loader:\n",
    "                inputs, labels = inputs.to(device), labels.to(device)\n",
    "                outputs = model(inputs)\n",
    "                _, predicted = torch.max(outputs, 1)\n",
    "                total += labels.size(0)\n",
    "                correct += (predicted == labels).sum().item()\n",
    "        accuracy = 100 * correct / total\n",
    "        print(f'Test Accuracy: {accuracy:.2f}%')\n",
    "    \n",
    "    return model"
   ]
  },
  {
   "cell_type": "code",
   "execution_count": 14,
   "id": "27da3720-334e-4153-80e5-5aa7c010e384",
   "metadata": {},
   "outputs": [
    {
     "ename": "SyntaxError",
     "evalue": "invalid syntax. Maybe you meant '==' or ':=' instead of '='? (1714157560.py, line 14)",
     "output_type": "error",
     "traceback": [
      "\u001b[0;36m  Cell \u001b[0;32mIn[14], line 14\u001b[0;36m\u001b[0m\n\u001b[0;31m    p = mp.Process(target=train_model, args=(model, train_loader, test_loader, criterion, optimizer, device, num_epochs=20))\u001b[0m\n\u001b[0m                                                                                                             ^\u001b[0m\n\u001b[0;31mSyntaxError\u001b[0m\u001b[0;31m:\u001b[0m invalid syntax. Maybe you meant '==' or ':=' instead of '='?\n"
     ]
    }
   ],
   "source": [
    "# 3 gpus\n",
    "devices = ['cuda:0', 'cuda:1', 'cuda:2']\n",
    "\n",
    "model_names = ['alexnet', 'vgg16', 'resnet18']\n",
    "train_loader, test_loader = load_mnist()\n",
    "optimizer = optim.SGD(alexnet.parameters(), lr=0.001, momentum=0.9)\n",
    "num_epochs = 20\n",
    "\n",
    "# mp spawn for cuda \n",
    "mp.set_start_method('spawn')\n",
    "\n",
    "processes = []\n",
    "for model_name, device in zip(model_names, devices):\n",
    "    p = mp.Process(target=train_model, args=(model, train_loader, test_loader, criterion, optimizer, device, num_epochs))\n",
    "    p.start()\n",
    "    processes.append(p)"
   ]
  },
  {
   "cell_type": "code",
   "execution_count": null,
   "id": "f91b90fb-8d2b-4abf-bbe1-c34e0a3a99f7",
   "metadata": {},
   "outputs": [],
   "source": []
  }
 ],
 "metadata": {
  "kernelspec": {
   "display_name": "Python 3 (ipykernel)",
   "language": "python",
   "name": "python3"
  },
  "language_info": {
   "codemirror_mode": {
    "name": "ipython",
    "version": 3
   },
   "file_extension": ".py",
   "mimetype": "text/x-python",
   "name": "python",
   "nbconvert_exporter": "python",
   "pygments_lexer": "ipython3",
   "version": "3.12.1"
  }
 },
 "nbformat": 4,
 "nbformat_minor": 5
}
